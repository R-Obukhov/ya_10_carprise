{
 "cells": [
  {
   "cell_type": "markdown",
   "metadata": {},
   "source": [
    "# Определение стоимости автомобилей"
   ]
  },
  {
   "cell_type": "markdown",
   "metadata": {},
   "source": [
    "Сервис по продаже автомобилей с пробегом «Не бит, не крашен» разрабатывает приложение для привлечения новых клиентов. В нём можно быстро узнать рыночную стоимость своего автомобиля. В вашем распоряжении исторические данные: технические характеристики, комплектации и цены автомобилей. Вам нужно построить модель для определения стоимости. \n",
    "\n",
    "Заказчику важны:\n",
    "\n",
    "- качество предсказания;\n",
    "- скорость предсказания;\n",
    "- время обучения."
   ]
  },
  {
   "cell_type": "code",
   "execution_count": 1,
   "metadata": {
    "scrolled": true
   },
   "outputs": [
    {
     "name": "stdout",
     "output_type": "stream",
     "text": [
      "Requirement already satisfied: lightgbm in /opt/anaconda3/lib/python3.8/site-packages (3.3.2)\r\n",
      "Requirement already satisfied: wheel in /opt/anaconda3/lib/python3.8/site-packages (from lightgbm) (0.36.2)\r\n",
      "Requirement already satisfied: numpy in /opt/anaconda3/lib/python3.8/site-packages (from lightgbm) (1.21.4)\r\n",
      "Requirement already satisfied: scipy in /opt/anaconda3/lib/python3.8/site-packages (from lightgbm) (1.6.2)\r\n",
      "Requirement already satisfied: scikit-learn!=0.22.0 in /opt/anaconda3/lib/python3.8/site-packages (from lightgbm) (1.0.2)\r\n",
      "Requirement already satisfied: threadpoolctl>=2.0.0 in /opt/anaconda3/lib/python3.8/site-packages (from scikit-learn!=0.22.0->lightgbm) (2.1.0)\r\n",
      "Requirement already satisfied: joblib>=0.11 in /opt/anaconda3/lib/python3.8/site-packages (from scikit-learn!=0.22.0->lightgbm) (1.0.1)\r\n"
     ]
    }
   ],
   "source": [
    "!pip install lightgbm -U"
   ]
  },
  {
   "cell_type": "markdown",
   "metadata": {},
   "source": [
    "## Подготовка данных"
   ]
  },
  {
   "cell_type": "markdown",
   "metadata": {},
   "source": [
    "**Вынесем все импорты**"
   ]
  },
  {
   "cell_type": "code",
   "execution_count": 2,
   "metadata": {
    "scrolled": true
   },
   "outputs": [
    {
     "name": "stderr",
     "output_type": "stream",
     "text": [
      "/opt/anaconda3/lib/python3.8/site-packages/dask/dataframe/utils.py:369: FutureWarning: pandas.Int64Index is deprecated and will be removed from pandas in a future version. Use pandas.Index with the appropriate dtype instead.\n",
      "  _numeric_index_types = (pd.Int64Index, pd.Float64Index, pd.UInt64Index)\n",
      "/opt/anaconda3/lib/python3.8/site-packages/dask/dataframe/utils.py:369: FutureWarning: pandas.Float64Index is deprecated and will be removed from pandas in a future version. Use pandas.Index with the appropriate dtype instead.\n",
      "  _numeric_index_types = (pd.Int64Index, pd.Float64Index, pd.UInt64Index)\n",
      "/opt/anaconda3/lib/python3.8/site-packages/dask/dataframe/utils.py:369: FutureWarning: pandas.UInt64Index is deprecated and will be removed from pandas in a future version. Use pandas.Index with the appropriate dtype instead.\n",
      "  _numeric_index_types = (pd.Int64Index, pd.Float64Index, pd.UInt64Index)\n"
     ]
    }
   ],
   "source": [
    "import pandas as pd\n",
    "import numpy as np\n",
    "import time\n",
    "from sklearn.preprocessing import OrdinalEncoder\n",
    "from sklearn.model_selection import train_test_split\n",
    "import lightgbm as lgb\n",
    "from sklearn.metrics import mean_squared_error, make_scorer\n",
    "from sklearn.linear_model import LinearRegression\n",
    "from sklearn.ensemble import RandomForestRegressor\n",
    "from sklearn.preprocessing import StandardScaler\n",
    "from sklearn.tree import DecisionTreeRegressor\n",
    "from sklearn.model_selection import GridSearchCV\n",
    "from sklearn.model_selection import cross_val_score\n",
    "from sklearn.dummy import DummyRegressor\n",
    "import matplotlib.pyplot as plt\n",
    "\n",
    "import warnings\n",
    "warnings.filterwarnings('ignore')"
   ]
  },
  {
   "cell_type": "code",
   "execution_count": 3,
   "metadata": {},
   "outputs": [
    {
     "name": "stdout",
     "output_type": "stream",
     "text": [
      "<class 'pandas.core.frame.DataFrame'>\n",
      "RangeIndex: 354369 entries, 0 to 354368\n",
      "Data columns (total 16 columns):\n",
      " #   Column             Non-Null Count   Dtype \n",
      "---  ------             --------------   ----- \n",
      " 0   DateCrawled        354369 non-null  object\n",
      " 1   Price              354369 non-null  int64 \n",
      " 2   VehicleType        316879 non-null  object\n",
      " 3   RegistrationYear   354369 non-null  int64 \n",
      " 4   Gearbox            334536 non-null  object\n",
      " 5   Power              354369 non-null  int64 \n",
      " 6   Model              334664 non-null  object\n",
      " 7   Kilometer          354369 non-null  int64 \n",
      " 8   RegistrationMonth  354369 non-null  int64 \n",
      " 9   FuelType           321474 non-null  object\n",
      " 10  Brand              354369 non-null  object\n",
      " 11  NotRepaired        283215 non-null  object\n",
      " 12  DateCreated        354369 non-null  object\n",
      " 13  NumberOfPictures   354369 non-null  int64 \n",
      " 14  PostalCode         354369 non-null  int64 \n",
      " 15  LastSeen           354369 non-null  object\n",
      "dtypes: int64(7), object(9)\n",
      "memory usage: 43.3+ MB\n"
     ]
    }
   ],
   "source": [
    "data = pd.read_csv('https://code.s3.yandex.net/datasets/autos.csv')\n",
    "data.info()"
   ]
  },
  {
   "cell_type": "code",
   "execution_count": 4,
   "metadata": {},
   "outputs": [
    {
     "data": {
      "text/plain": "DateCrawled              0\nPrice                    0\nVehicleType          37490\nRegistrationYear         0\nGearbox              19833\nPower                    0\nModel                19705\nKilometer                0\nRegistrationMonth        0\nFuelType             32895\nBrand                    0\nNotRepaired          71154\nDateCreated              0\nNumberOfPictures         0\nPostalCode               0\nLastSeen                 0\ndtype: int64"
     },
     "execution_count": 4,
     "metadata": {},
     "output_type": "execute_result"
    }
   ],
   "source": [
    "data.isna().sum()"
   ]
  },
  {
   "cell_type": "markdown",
   "metadata": {},
   "source": [
    "**5 столбцов с ощутимыми пропусками.**"
   ]
  },
  {
   "cell_type": "code",
   "execution_count": 5,
   "metadata": {},
   "outputs": [
    {
     "data": {
      "text/plain": "                DateCrawled  Price VehicleType  RegistrationYear Gearbox  \\\n26834   2016-03-15 17:46:26   3200       small              2003  manual   \n133927  2016-03-31 02:49:07   2790       wagon              2002  manual   \n97925   2016-03-13 22:42:35   5000         bus              2006  manual   \n186234  2016-03-08 16:36:45    300       small              2001  manual   \n142010  2016-03-19 11:48:40    300       small              1993  manual   \n226373  2016-03-16 16:49:39   1350       small              2003  manual   \n102775  2016-04-03 15:45:49     99         NaN              2000     NaN   \n311209  2016-03-22 12:56:36   1649       sedan              1994  manual   \n26291   2016-03-19 16:58:25    990       wagon              2000  manual   \n218192  2016-04-03 09:53:33   1499       small              2000  manual   \n\n        Power    Model  Kilometer  RegistrationMonth  FuelType          Brand  \\\n26834      75  2_reihe     125000                  9    petrol        peugeot   \n133927    101    focus      90000                  5    petrol           ford   \n97925       0   zafira      70000                 10       cng           opel   \n186234     60   fiesta     125000                  2       NaN           ford   \n142010     60   fiesta     125000                  0    petrol           ford   \n226373      0    corsa     150000                  5    petrol           opel   \n102775      0  ypsilon     150000                  0       NaN         lancia   \n311209     75    other     150000                  8  gasoline  mercedes_benz   \n26291       0   mondeo     150000                 12    petrol           ford   \n218192     58    corsa     150000                  9    petrol           opel   \n\n       NotRepaired          DateCreated  NumberOfPictures  PostalCode  \\\n26834          NaN  2016-03-15 00:00:00                 0       42109   \n133927         NaN  2016-03-30 00:00:00                 0       56564   \n97925           no  2016-03-13 00:00:00                 0       45326   \n186234          no  2016-03-08 00:00:00                 0       25336   \n142010         yes  2016-03-19 00:00:00                 0       59071   \n226373          no  2016-03-16 00:00:00                 0       51580   \n102775         NaN  2016-04-03 00:00:00                 0       95213   \n311209          no  2016-03-22 00:00:00                 0       49086   \n26291           no  2016-03-19 00:00:00                 0       57074   \n218192          no  2016-04-03 00:00:00                 0       94447   \n\n                   LastSeen  \n26834   2016-03-24 05:46:15  \n133927  2016-03-31 15:25:10  \n97925   2016-03-27 01:46:35  \n186234  2016-03-23 08:15:53  \n142010  2016-04-06 14:46:24  \n226373  2016-04-06 21:18:47  \n102775  2016-04-05 14:46:41  \n311209  2016-03-26 14:17:49  \n26291   2016-03-19 16:58:25  \n218192  2016-04-03 09:53:33  ",
      "text/html": "<div>\n<style scoped>\n    .dataframe tbody tr th:only-of-type {\n        vertical-align: middle;\n    }\n\n    .dataframe tbody tr th {\n        vertical-align: top;\n    }\n\n    .dataframe thead th {\n        text-align: right;\n    }\n</style>\n<table border=\"1\" class=\"dataframe\">\n  <thead>\n    <tr style=\"text-align: right;\">\n      <th></th>\n      <th>DateCrawled</th>\n      <th>Price</th>\n      <th>VehicleType</th>\n      <th>RegistrationYear</th>\n      <th>Gearbox</th>\n      <th>Power</th>\n      <th>Model</th>\n      <th>Kilometer</th>\n      <th>RegistrationMonth</th>\n      <th>FuelType</th>\n      <th>Brand</th>\n      <th>NotRepaired</th>\n      <th>DateCreated</th>\n      <th>NumberOfPictures</th>\n      <th>PostalCode</th>\n      <th>LastSeen</th>\n    </tr>\n  </thead>\n  <tbody>\n    <tr>\n      <th>26834</th>\n      <td>2016-03-15 17:46:26</td>\n      <td>3200</td>\n      <td>small</td>\n      <td>2003</td>\n      <td>manual</td>\n      <td>75</td>\n      <td>2_reihe</td>\n      <td>125000</td>\n      <td>9</td>\n      <td>petrol</td>\n      <td>peugeot</td>\n      <td>NaN</td>\n      <td>2016-03-15 00:00:00</td>\n      <td>0</td>\n      <td>42109</td>\n      <td>2016-03-24 05:46:15</td>\n    </tr>\n    <tr>\n      <th>133927</th>\n      <td>2016-03-31 02:49:07</td>\n      <td>2790</td>\n      <td>wagon</td>\n      <td>2002</td>\n      <td>manual</td>\n      <td>101</td>\n      <td>focus</td>\n      <td>90000</td>\n      <td>5</td>\n      <td>petrol</td>\n      <td>ford</td>\n      <td>NaN</td>\n      <td>2016-03-30 00:00:00</td>\n      <td>0</td>\n      <td>56564</td>\n      <td>2016-03-31 15:25:10</td>\n    </tr>\n    <tr>\n      <th>97925</th>\n      <td>2016-03-13 22:42:35</td>\n      <td>5000</td>\n      <td>bus</td>\n      <td>2006</td>\n      <td>manual</td>\n      <td>0</td>\n      <td>zafira</td>\n      <td>70000</td>\n      <td>10</td>\n      <td>cng</td>\n      <td>opel</td>\n      <td>no</td>\n      <td>2016-03-13 00:00:00</td>\n      <td>0</td>\n      <td>45326</td>\n      <td>2016-03-27 01:46:35</td>\n    </tr>\n    <tr>\n      <th>186234</th>\n      <td>2016-03-08 16:36:45</td>\n      <td>300</td>\n      <td>small</td>\n      <td>2001</td>\n      <td>manual</td>\n      <td>60</td>\n      <td>fiesta</td>\n      <td>125000</td>\n      <td>2</td>\n      <td>NaN</td>\n      <td>ford</td>\n      <td>no</td>\n      <td>2016-03-08 00:00:00</td>\n      <td>0</td>\n      <td>25336</td>\n      <td>2016-03-23 08:15:53</td>\n    </tr>\n    <tr>\n      <th>142010</th>\n      <td>2016-03-19 11:48:40</td>\n      <td>300</td>\n      <td>small</td>\n      <td>1993</td>\n      <td>manual</td>\n      <td>60</td>\n      <td>fiesta</td>\n      <td>125000</td>\n      <td>0</td>\n      <td>petrol</td>\n      <td>ford</td>\n      <td>yes</td>\n      <td>2016-03-19 00:00:00</td>\n      <td>0</td>\n      <td>59071</td>\n      <td>2016-04-06 14:46:24</td>\n    </tr>\n    <tr>\n      <th>226373</th>\n      <td>2016-03-16 16:49:39</td>\n      <td>1350</td>\n      <td>small</td>\n      <td>2003</td>\n      <td>manual</td>\n      <td>0</td>\n      <td>corsa</td>\n      <td>150000</td>\n      <td>5</td>\n      <td>petrol</td>\n      <td>opel</td>\n      <td>no</td>\n      <td>2016-03-16 00:00:00</td>\n      <td>0</td>\n      <td>51580</td>\n      <td>2016-04-06 21:18:47</td>\n    </tr>\n    <tr>\n      <th>102775</th>\n      <td>2016-04-03 15:45:49</td>\n      <td>99</td>\n      <td>NaN</td>\n      <td>2000</td>\n      <td>NaN</td>\n      <td>0</td>\n      <td>ypsilon</td>\n      <td>150000</td>\n      <td>0</td>\n      <td>NaN</td>\n      <td>lancia</td>\n      <td>NaN</td>\n      <td>2016-04-03 00:00:00</td>\n      <td>0</td>\n      <td>95213</td>\n      <td>2016-04-05 14:46:41</td>\n    </tr>\n    <tr>\n      <th>311209</th>\n      <td>2016-03-22 12:56:36</td>\n      <td>1649</td>\n      <td>sedan</td>\n      <td>1994</td>\n      <td>manual</td>\n      <td>75</td>\n      <td>other</td>\n      <td>150000</td>\n      <td>8</td>\n      <td>gasoline</td>\n      <td>mercedes_benz</td>\n      <td>no</td>\n      <td>2016-03-22 00:00:00</td>\n      <td>0</td>\n      <td>49086</td>\n      <td>2016-03-26 14:17:49</td>\n    </tr>\n    <tr>\n      <th>26291</th>\n      <td>2016-03-19 16:58:25</td>\n      <td>990</td>\n      <td>wagon</td>\n      <td>2000</td>\n      <td>manual</td>\n      <td>0</td>\n      <td>mondeo</td>\n      <td>150000</td>\n      <td>12</td>\n      <td>petrol</td>\n      <td>ford</td>\n      <td>no</td>\n      <td>2016-03-19 00:00:00</td>\n      <td>0</td>\n      <td>57074</td>\n      <td>2016-03-19 16:58:25</td>\n    </tr>\n    <tr>\n      <th>218192</th>\n      <td>2016-04-03 09:53:33</td>\n      <td>1499</td>\n      <td>small</td>\n      <td>2000</td>\n      <td>manual</td>\n      <td>58</td>\n      <td>corsa</td>\n      <td>150000</td>\n      <td>9</td>\n      <td>petrol</td>\n      <td>opel</td>\n      <td>no</td>\n      <td>2016-04-03 00:00:00</td>\n      <td>0</td>\n      <td>94447</td>\n      <td>2016-04-03 09:53:33</td>\n    </tr>\n  </tbody>\n</table>\n</div>"
     },
     "execution_count": 5,
     "metadata": {},
     "output_type": "execute_result"
    }
   ],
   "source": [
    "data.sample(10)"
   ]
  },
  {
   "cell_type": "code",
   "execution_count": 6,
   "metadata": {},
   "outputs": [
    {
     "data": {
      "text/plain": "<AxesSubplot:>"
     },
     "execution_count": 6,
     "metadata": {},
     "output_type": "execute_result"
    },
    {
     "data": {
      "text/plain": "<Figure size 1152x720 with 1 Axes>",
      "image/png": "[encoded data removed]"
     },
     "metadata": {
      "needs_background": "light"
     },
     "output_type": "display_data"
    }
   ],
   "source": [
    "data['Price'].hist(bins=100, figsize=(16,10), legend=True)"
   ]
  },
  {
   "cell_type": "markdown",
   "metadata": {},
   "source": [
    "**\"0\" в цене в данном случае можно не считать за ошибку. Это может быть обмен.**"
   ]
  },
  {
   "cell_type": "markdown",
   "metadata": {},
   "source": [
    "______________"
   ]
  },
  {
   "cell_type": "code",
   "execution_count": 7,
   "metadata": {},
   "outputs": [
    {
     "data": {
      "text/plain": "<AxesSubplot:>"
     },
     "execution_count": 7,
     "metadata": {},
     "output_type": "execute_result"
    },
    {
     "data": {
      "text/plain": "<Figure size 1152x720 with 1 Axes>",
      "image/png": "[encoded data removed]"
     },
     "metadata": {
      "needs_background": "light"
     },
     "output_type": "display_data"
    }
   ],
   "source": [
    "data['RegistrationYear'].hist(bins = 100, figsize=(16,10))"
   ]
  },
  {
   "cell_type": "code",
   "execution_count": 8,
   "metadata": {},
   "outputs": [
    {
     "data": {
      "text/plain": "array([1993, 2011, 2004, 2001, 2008, 1995, 1980, 2014, 1998, 2005, 1910,\n       2016, 2007, 2009, 2002, 2018, 1997, 1990, 2017, 1981, 2003, 1994,\n       1991, 1984, 2006, 1999, 2012, 2010, 2000, 1992, 2013, 1996, 1985,\n       1989, 2015, 1982, 1976, 1983, 1973, 1111, 1969, 1971, 1987, 1986,\n       1988, 1970, 1965, 1945, 1925, 1974, 1979, 1955, 1978, 1972, 1968,\n       1977, 1961, 1960, 1966, 1975, 1963, 1964, 5000, 1954, 1958, 1967,\n       1959, 9999, 1956, 3200, 1000, 1941, 8888, 1500, 2200, 4100, 1962,\n       1929, 1957, 1940, 3000, 2066, 1949, 2019, 1937, 1951, 1800, 1953,\n       1234, 8000, 5300, 9000, 2900, 6000, 5900, 5911, 1933, 1400, 1950,\n       4000, 1948, 1952, 1200, 8500, 1932, 1255, 3700, 3800, 4800, 1942,\n       7000, 1935, 1936, 6500, 1923, 2290, 2500, 1930, 1001, 9450, 1944,\n       1943, 1934, 1938, 1688, 2800, 1253, 1928, 1919, 5555, 5600, 1600,\n       2222, 1039, 9996, 1300, 8455, 1931, 1915, 4500, 1920, 1602, 7800,\n       9229, 1947, 1927, 7100, 8200, 1946, 7500, 3500])"
     },
     "execution_count": 8,
     "metadata": {},
     "output_type": "execute_result"
    }
   ],
   "source": [
    "data['RegistrationYear'].unique()"
   ]
  },
  {
   "cell_type": "markdown",
   "metadata": {},
   "source": [
    "**Ага, есть явно нереальные года регистрации.**"
   ]
  },
  {
   "cell_type": "code",
   "execution_count": 9,
   "metadata": {},
   "outputs": [
    {
     "data": {
      "text/plain": "DateCrawled          272\nPrice                272\nVehicleType           28\nRegistrationYear     272\nGearbox               59\nPower                272\nModel                134\nKilometer            272\nRegistrationMonth    272\nFuelType              69\nBrand                272\nNotRepaired           38\nDateCreated          272\nNumberOfPictures     272\nPostalCode           272\nLastSeen             272\ndtype: int64"
     },
     "execution_count": 9,
     "metadata": {},
     "output_type": "execute_result"
    }
   ],
   "source": [
    "data[(data['RegistrationYear'] <= 1910) | (data['RegistrationYear'] > 2019)].count()"
   ]
  },
  {
   "cell_type": "markdown",
   "metadata": {},
   "source": [
    "**Почти 300 строк с датой регистрации больше 2019 или меньше 1910 года (я допускаю, что могут быть раритеты с 1910 года). Очень похоже на ошибки\\выбросы. Плюс в этих строках много пропусков. Предлагаю дропнуть как мусор.**"
   ]
  },
  {
   "cell_type": "code",
   "execution_count": 10,
   "metadata": {},
   "outputs": [],
   "source": [
    "data = data[ (data['RegistrationYear'] >= 1910) & (data['RegistrationYear'] <= 2019) ]"
   ]
  },
  {
   "cell_type": "code",
   "execution_count": 11,
   "metadata": {
    "scrolled": true
   },
   "outputs": [
    {
     "data": {
      "text/plain": "                DateCrawled  Price VehicleType  RegistrationYear Gearbox  \\\n22      2016-03-23 14:52:51   2900         NaN              2018  manual   \n26      2016-03-10 19:38:18   5555         NaN              2017  manual   \n48      2016-03-25 14:40:12   7750         NaN              2017  manual   \n51      2016-03-07 18:57:08   2000         NaN              2017  manual   \n57      2016-03-10 20:53:19   2399         NaN              2018  manual   \n...                     ...    ...         ...               ...     ...   \n354112  2016-03-11 15:49:51   3600         NaN              2017  manual   \n354140  2016-03-29 16:47:29   1000         NaN              2017  manual   \n354203  2016-03-17 00:56:26   2140         NaN              2018  manual   \n354253  2016-03-25 09:37:59   1250         NaN              2018     NaN   \n354289  2016-03-05 14:55:29   5000         NaN              2017  manual   \n\n        Power    Model  Kilometer  RegistrationMonth  FuelType       Brand  \\\n22         90   meriva     150000                  5    petrol        opel   \n26        125       c4     125000                  4       NaN     citroen   \n48         80     golf     100000                  1    petrol  volkswagen   \n51         90    punto     150000                 11  gasoline        fiat   \n57         64    other     125000                  3       NaN        seat   \n...       ...      ...        ...                ...       ...         ...   \n354112     86  transit     150000                  5  gasoline        ford   \n354140    101       a4     150000                  9       NaN        audi   \n354203     80   fiesta     150000                  6       NaN        ford   \n354253      0    corsa     150000                  0    petrol        opel   \n354289    120    other     150000                  7       NaN     citroen   \n\n       NotRepaired          DateCreated  NumberOfPictures  PostalCode  \\\n22              no  2016-03-23 00:00:00                 0       49716   \n26              no  2016-03-10 00:00:00                 0       31139   \n48             NaN  2016-03-25 00:00:00                 0       48499   \n51             yes  2016-03-07 00:00:00                 0       66115   \n57              no  2016-03-10 00:00:00                 0       33397   \n...            ...                  ...               ...         ...   \n354112         NaN  2016-03-11 00:00:00                 0       32339   \n354140         NaN  2016-03-29 00:00:00                 0       38315   \n354203          no  2016-03-17 00:00:00                 0       44866   \n354253         NaN  2016-03-25 00:00:00                 0       45527   \n354289         yes  2016-03-05 00:00:00                 0       15518   \n\n                   LastSeen  \n22      2016-03-31 01:16:33  \n26      2016-03-16 09:16:46  \n48      2016-03-31 21:47:44  \n51      2016-03-07 18:57:08  \n57      2016-03-25 10:17:37  \n...                     ...  \n354112  2016-03-12 05:45:02  \n354140  2016-04-06 02:44:27  \n354203  2016-03-29 15:45:04  \n354253  2016-04-06 07:46:13  \n354289  2016-04-05 11:48:09  \n\n[14425 rows x 16 columns]",
      "text/html": "<div>\n<style scoped>\n    .dataframe tbody tr th:only-of-type {\n        vertical-align: middle;\n    }\n\n    .dataframe tbody tr th {\n        vertical-align: top;\n    }\n\n    .dataframe thead th {\n        text-align: right;\n    }\n</style>\n<table border=\"1\" class=\"dataframe\">\n  <thead>\n    <tr style=\"text-align: right;\">\n      <th></th>\n      <th>DateCrawled</th>\n      <th>Price</th>\n      <th>VehicleType</th>\n      <th>RegistrationYear</th>\n      <th>Gearbox</th>\n      <th>Power</th>\n      <th>Model</th>\n      <th>Kilometer</th>\n      <th>RegistrationMonth</th>\n      <th>FuelType</th>\n      <th>Brand</th>\n      <th>NotRepaired</th>\n      <th>DateCreated</th>\n      <th>NumberOfPictures</th>\n      <th>PostalCode</th>\n      <th>LastSeen</th>\n    </tr>\n  </thead>\n  <tbody>\n    <tr>\n      <th>22</th>\n      <td>2016-03-23 14:52:51</td>\n      <td>2900</td>\n      <td>NaN</td>\n      <td>2018</td>\n      <td>manual</td>\n      <td>90</td>\n      <td>meriva</td>\n      <td>150000</td>\n      <td>5</td>\n      <td>petrol</td>\n      <td>opel</td>\n      <td>no</td>\n      <td>2016-03-23 00:00:00</td>\n      <td>0</td>\n      <td>49716</td>\n      <td>2016-03-31 01:16:33</td>\n    </tr>\n    <tr>\n      <th>26</th>\n      <td>2016-03-10 19:38:18</td>\n      <td>5555</td>\n      <td>NaN</td>\n      <td>2017</td>\n      <td>manual</td>\n      <td>125</td>\n      <td>c4</td>\n      <td>125000</td>\n      <td>4</td>\n      <td>NaN</td>\n      <td>citroen</td>\n      <td>no</td>\n      <td>2016-03-10 00:00:00</td>\n      <td>0</td>\n      <td>31139</td>\n      <td>2016-03-16 09:16:46</td>\n    </tr>\n    <tr>\n      <th>48</th>\n      <td>2016-03-25 14:40:12</td>\n      <td>7750</td>\n      <td>NaN</td>\n      <td>2017</td>\n      <td>manual</td>\n      <td>80</td>\n      <td>golf</td>\n      <td>100000</td>\n      <td>1</td>\n      <td>petrol</td>\n      <td>volkswagen</td>\n      <td>NaN</td>\n      <td>2016-03-25 00:00:00</td>\n      <td>0</td>\n      <td>48499</td>\n      <td>2016-03-31 21:47:44</td>\n    </tr>\n    <tr>\n      <th>51</th>\n      <td>2016-03-07 18:57:08</td>\n      <td>2000</td>\n      <td>NaN</td>\n      <td>2017</td>\n      <td>manual</td>\n      <td>90</td>\n      <td>punto</td>\n      <td>150000</td>\n      <td>11</td>\n      <td>gasoline</td>\n      <td>fiat</td>\n      <td>yes</td>\n      <td>2016-03-07 00:00:00</td>\n      <td>0</td>\n      <td>66115</td>\n      <td>2016-03-07 18:57:08</td>\n    </tr>\n    <tr>\n      <th>57</th>\n      <td>2016-03-10 20:53:19</td>\n      <td>2399</td>\n      <td>NaN</td>\n      <td>2018</td>\n      <td>manual</td>\n      <td>64</td>\n      <td>other</td>\n      <td>125000</td>\n      <td>3</td>\n      <td>NaN</td>\n      <td>seat</td>\n      <td>no</td>\n      <td>2016-03-10 00:00:00</td>\n      <td>0</td>\n      <td>33397</td>\n      <td>2016-03-25 10:17:37</td>\n    </tr>\n    <tr>\n      <th>...</th>\n      <td>...</td>\n      <td>...</td>\n      <td>...</td>\n      <td>...</td>\n      <td>...</td>\n      <td>...</td>\n      <td>...</td>\n      <td>...</td>\n      <td>...</td>\n      <td>...</td>\n      <td>...</td>\n      <td>...</td>\n      <td>...</td>\n      <td>...</td>\n      <td>...</td>\n      <td>...</td>\n    </tr>\n    <tr>\n      <th>354112</th>\n      <td>2016-03-11 15:49:51</td>\n      <td>3600</td>\n      <td>NaN</td>\n      <td>2017</td>\n      <td>manual</td>\n      <td>86</td>\n      <td>transit</td>\n      <td>150000</td>\n      <td>5</td>\n      <td>gasoline</td>\n      <td>ford</td>\n      <td>NaN</td>\n      <td>2016-03-11 00:00:00</td>\n      <td>0</td>\n      <td>32339</td>\n      <td>2016-03-12 05:45:02</td>\n    </tr>\n    <tr>\n      <th>354140</th>\n      <td>2016-03-29 16:47:29</td>\n      <td>1000</td>\n      <td>NaN</td>\n      <td>2017</td>\n      <td>manual</td>\n      <td>101</td>\n      <td>a4</td>\n      <td>150000</td>\n      <td>9</td>\n      <td>NaN</td>\n      <td>audi</td>\n      <td>NaN</td>\n      <td>2016-03-29 00:00:00</td>\n      <td>0</td>\n      <td>38315</td>\n      <td>2016-04-06 02:44:27</td>\n    </tr>\n    <tr>\n      <th>354203</th>\n      <td>2016-03-17 00:56:26</td>\n      <td>2140</td>\n      <td>NaN</td>\n      <td>2018</td>\n      <td>manual</td>\n      <td>80</td>\n      <td>fiesta</td>\n      <td>150000</td>\n      <td>6</td>\n      <td>NaN</td>\n      <td>ford</td>\n      <td>no</td>\n      <td>2016-03-17 00:00:00</td>\n      <td>0</td>\n      <td>44866</td>\n      <td>2016-03-29 15:45:04</td>\n    </tr>\n    <tr>\n      <th>354253</th>\n      <td>2016-03-25 09:37:59</td>\n      <td>1250</td>\n      <td>NaN</td>\n      <td>2018</td>\n      <td>NaN</td>\n      <td>0</td>\n      <td>corsa</td>\n      <td>150000</td>\n      <td>0</td>\n      <td>petrol</td>\n      <td>opel</td>\n      <td>NaN</td>\n      <td>2016-03-25 00:00:00</td>\n      <td>0</td>\n      <td>45527</td>\n      <td>2016-04-06 07:46:13</td>\n    </tr>\n    <tr>\n      <th>354289</th>\n      <td>2016-03-05 14:55:29</td>\n      <td>5000</td>\n      <td>NaN</td>\n      <td>2017</td>\n      <td>manual</td>\n      <td>120</td>\n      <td>other</td>\n      <td>150000</td>\n      <td>7</td>\n      <td>NaN</td>\n      <td>citroen</td>\n      <td>yes</td>\n      <td>2016-03-05 00:00:00</td>\n      <td>0</td>\n      <td>15518</td>\n      <td>2016-04-05 11:48:09</td>\n    </tr>\n  </tbody>\n</table>\n<p>14425 rows × 16 columns</p>\n</div>"
     },
     "execution_count": 11,
     "metadata": {},
     "output_type": "execute_result"
    }
   ],
   "source": [
    "data[(data['RegistrationYear'] > 2016) & (data['RegistrationYear'] <= 2019)]"
   ]
  },
  {
   "cell_type": "code",
   "execution_count": 12,
   "metadata": {},
   "outputs": [
    {
     "data": {
      "text/plain": "<AxesSubplot:>"
     },
     "execution_count": 12,
     "metadata": {},
     "output_type": "execute_result"
    },
    {
     "data": {
      "text/plain": "<Figure size 1152x720 with 1 Axes>",
      "image/png": "[encoded data removed]"
     },
     "metadata": {
      "needs_background": "light"
     },
     "output_type": "display_data"
    }
   ],
   "source": [
    "data['RegistrationYear'].hist(bins = 100, figsize=(16,10))"
   ]
  },
  {
   "cell_type": "markdown",
   "metadata": {},
   "source": [
    "_______"
   ]
  },
  {
   "cell_type": "code",
   "execution_count": 13,
   "metadata": {},
   "outputs": [
    {
     "data": {
      "text/plain": "array([nan, 'yes', 'no'], dtype=object)"
     },
     "execution_count": 13,
     "metadata": {},
     "output_type": "execute_result"
    }
   ],
   "source": [
    "data['NotRepaired'].unique()"
   ]
  },
  {
   "cell_type": "markdown",
   "metadata": {},
   "source": [
    "**Если нет данных о ремонте, то скорее всего его не было**"
   ]
  },
  {
   "cell_type": "code",
   "execution_count": 14,
   "metadata": {},
   "outputs": [],
   "source": [
    "data['NotRepaired'] = data['NotRepaired'].fillna('yes')"
   ]
  },
  {
   "cell_type": "markdown",
   "metadata": {},
   "source": [
    "_____"
   ]
  },
  {
   "cell_type": "markdown",
   "metadata": {},
   "source": [
    "**Заменим количество фотографий на сам факт наличия фотографий (останется просто да\\нет)**"
   ]
  },
  {
   "cell_type": "code",
   "execution_count": 15,
   "metadata": {},
   "outputs": [
    {
     "data": {
      "text/plain": "array([0])"
     },
     "execution_count": 15,
     "metadata": {},
     "output_type": "execute_result"
    }
   ],
   "source": [
    "data['NumberOfPictures'].unique()"
   ]
  },
  {
   "cell_type": "markdown",
   "metadata": {},
   "source": [
    "**А их тут вообще нет. Можно дропать столбец.**"
   ]
  },
  {
   "cell_type": "code",
   "execution_count": 16,
   "metadata": {},
   "outputs": [],
   "source": [
    "data = data.drop(['NumberOfPictures'], axis=1)"
   ]
  },
  {
   "cell_type": "markdown",
   "metadata": {},
   "source": [
    "______"
   ]
  },
  {
   "cell_type": "code",
   "execution_count": 17,
   "metadata": {},
   "outputs": [
    {
     "data": {
      "text/plain": "                DateCrawled  Price VehicleType  RegistrationYear Gearbox  \\\n132046  2016-03-11 20:59:15   2900         bus              1988  manual   \n136377  2016-03-27 11:48:34   2900       sedan              2001    auto   \n250602  2016-03-12 13:57:31    650       sedan              2003  manual   \n136344  2016-04-04 15:55:39   2499       sedan              2003    auto   \n7378    2016-03-17 18:44:30    679       small              1996  manual   \n\n        Power        Model  Kilometer  RegistrationMonth  FuelType  \\\n132046     75  transporter     150000                  7  gasoline   \n136377    102         bora      70000                  9    petrol   \n250602    116          3er     150000                 12    petrol   \n136344    125       vectra     150000                  3  gasoline   \n7378        0        punto     150000                  7       NaN   \n\n             Brand NotRepaired          DateCreated  PostalCode  \\\n132046  volkswagen          no  2016-03-11 00:00:00       73105   \n136377  volkswagen          no  2016-03-27 00:00:00       21682   \n250602         bmw         yes  2016-03-12 00:00:00       13357   \n136344        opel          no  2016-04-04 00:00:00       12459   \n7378          fiat          no  2016-03-17 00:00:00       27472   \n\n                   LastSeen  \n132046  2016-04-02 09:16:55  \n136377  2016-03-29 00:17:35  \n250602  2016-03-12 13:57:31  \n136344  2016-04-06 17:44:56  \n7378    2016-03-25 22:45:53  ",
      "text/html": "<div>\n<style scoped>\n    .dataframe tbody tr th:only-of-type {\n        vertical-align: middle;\n    }\n\n    .dataframe tbody tr th {\n        vertical-align: top;\n    }\n\n    .dataframe thead th {\n        text-align: right;\n    }\n</style>\n<table border=\"1\" class=\"dataframe\">\n  <thead>\n    <tr style=\"text-align: right;\">\n      <th></th>\n      <th>DateCrawled</th>\n      <th>Price</th>\n      <th>VehicleType</th>\n      <th>RegistrationYear</th>\n      <th>Gearbox</th>\n      <th>Power</th>\n      <th>Model</th>\n      <th>Kilometer</th>\n      <th>RegistrationMonth</th>\n      <th>FuelType</th>\n      <th>Brand</th>\n      <th>NotRepaired</th>\n      <th>DateCreated</th>\n      <th>PostalCode</th>\n      <th>LastSeen</th>\n    </tr>\n  </thead>\n  <tbody>\n    <tr>\n      <th>132046</th>\n      <td>2016-03-11 20:59:15</td>\n      <td>2900</td>\n      <td>bus</td>\n      <td>1988</td>\n      <td>manual</td>\n      <td>75</td>\n      <td>transporter</td>\n      <td>150000</td>\n      <td>7</td>\n      <td>gasoline</td>\n      <td>volkswagen</td>\n      <td>no</td>\n      <td>2016-03-11 00:00:00</td>\n      <td>73105</td>\n      <td>2016-04-02 09:16:55</td>\n    </tr>\n    <tr>\n      <th>136377</th>\n      <td>2016-03-27 11:48:34</td>\n      <td>2900</td>\n      <td>sedan</td>\n      <td>2001</td>\n      <td>auto</td>\n      <td>102</td>\n      <td>bora</td>\n      <td>70000</td>\n      <td>9</td>\n      <td>petrol</td>\n      <td>volkswagen</td>\n      <td>no</td>\n      <td>2016-03-27 00:00:00</td>\n      <td>21682</td>\n      <td>2016-03-29 00:17:35</td>\n    </tr>\n    <tr>\n      <th>250602</th>\n      <td>2016-03-12 13:57:31</td>\n      <td>650</td>\n      <td>sedan</td>\n      <td>2003</td>\n      <td>manual</td>\n      <td>116</td>\n      <td>3er</td>\n      <td>150000</td>\n      <td>12</td>\n      <td>petrol</td>\n      <td>bmw</td>\n      <td>yes</td>\n      <td>2016-03-12 00:00:00</td>\n      <td>13357</td>\n      <td>2016-03-12 13:57:31</td>\n    </tr>\n    <tr>\n      <th>136344</th>\n      <td>2016-04-04 15:55:39</td>\n      <td>2499</td>\n      <td>sedan</td>\n      <td>2003</td>\n      <td>auto</td>\n      <td>125</td>\n      <td>vectra</td>\n      <td>150000</td>\n      <td>3</td>\n      <td>gasoline</td>\n      <td>opel</td>\n      <td>no</td>\n      <td>2016-04-04 00:00:00</td>\n      <td>12459</td>\n      <td>2016-04-06 17:44:56</td>\n    </tr>\n    <tr>\n      <th>7378</th>\n      <td>2016-03-17 18:44:30</td>\n      <td>679</td>\n      <td>small</td>\n      <td>1996</td>\n      <td>manual</td>\n      <td>0</td>\n      <td>punto</td>\n      <td>150000</td>\n      <td>7</td>\n      <td>NaN</td>\n      <td>fiat</td>\n      <td>no</td>\n      <td>2016-03-17 00:00:00</td>\n      <td>27472</td>\n      <td>2016-03-25 22:45:53</td>\n    </tr>\n  </tbody>\n</table>\n</div>"
     },
     "execution_count": 17,
     "metadata": {},
     "output_type": "execute_result"
    }
   ],
   "source": [
    "data.sample(5)"
   ]
  },
  {
   "cell_type": "code",
   "execution_count": 18,
   "metadata": {},
   "outputs": [
    {
     "data": {
      "text/plain": "array([nan, 'coupe', 'suv', 'small', 'sedan', 'convertible', 'bus',\n       'wagon', 'other'], dtype=object)"
     },
     "execution_count": 18,
     "metadata": {},
     "output_type": "execute_result"
    }
   ],
   "source": [
    "data['VehicleType'].unique()"
   ]
  },
  {
   "cell_type": "markdown",
   "metadata": {},
   "source": [
    "**Попробуем восстановить пропуски сгруппировав по бренду и модели. Одинаковые модели логично должны быть одного типа.**"
   ]
  },
  {
   "cell_type": "code",
   "execution_count": 19,
   "metadata": {},
   "outputs": [],
   "source": [
    "data['VehicleType'] = data['VehicleType'].fillna(\n",
    "    data.groupby(['Brand', 'Model'])\n",
    "['VehicleType'].transform('ffill'))\n"
   ]
  },
  {
   "cell_type": "code",
   "execution_count": 20,
   "metadata": {},
   "outputs": [
    {
     "data": {
      "text/plain": "DateCrawled              0\nPrice                    0\nVehicleType           6796\nRegistrationYear         0\nGearbox              19695\nPower                    0\nModel                19630\nKilometer                0\nRegistrationMonth        0\nFuelType             32767\nBrand                    0\nNotRepaired              0\nDateCreated              0\nPostalCode               0\nLastSeen                 0\ndtype: int64"
     },
     "execution_count": 20,
     "metadata": {},
     "output_type": "execute_result"
    }
   ],
   "source": [
    "data.isna().sum()"
   ]
  },
  {
   "cell_type": "markdown",
   "metadata": {},
   "source": [
    "**Ну, с 37,5 тыс. до почти 6,5 тыс. восстановили**"
   ]
  },
  {
   "cell_type": "markdown",
   "metadata": {},
   "source": [
    "_______"
   ]
  },
  {
   "cell_type": "code",
   "execution_count": 21,
   "metadata": {},
   "outputs": [
    {
     "data": {
      "text/plain": "array([ 0,  5,  8,  6,  7, 10, 12, 11,  2,  3,  1,  4,  9])"
     },
     "execution_count": 21,
     "metadata": {},
     "output_type": "execute_result"
    }
   ],
   "source": [
    "data['RegistrationMonth'].unique()"
   ]
  },
  {
   "cell_type": "markdown",
   "metadata": {},
   "source": [
    "**\"0\" можно не считать за пропуск или выброс. Месяц вполне может быть не указан в документах или не внесен в базу.**"
   ]
  },
  {
   "cell_type": "markdown",
   "metadata": {},
   "source": [
    "______"
   ]
  },
  {
   "cell_type": "markdown",
   "metadata": {},
   "source": [
    "**Пропуски по типу коробки тоже восстанавливаем по бренду, модели и мощности.**"
   ]
  },
  {
   "cell_type": "code",
   "execution_count": 22,
   "metadata": {},
   "outputs": [],
   "source": [
    "data['Gearbox'] = data['Gearbox'].fillna(\n",
    "    data.groupby(['Brand', 'Model', 'Power'])\n",
    "['Gearbox'].transform('ffill'))"
   ]
  },
  {
   "cell_type": "code",
   "execution_count": 23,
   "metadata": {},
   "outputs": [
    {
     "data": {
      "text/plain": "DateCrawled              0\nPrice                    0\nVehicleType           6796\nRegistrationYear         0\nGearbox               4492\nPower                    0\nModel                19630\nKilometer                0\nRegistrationMonth        0\nFuelType             32767\nBrand                    0\nNotRepaired              0\nDateCreated              0\nPostalCode               0\nLastSeen                 0\ndtype: int64"
     },
     "execution_count": 23,
     "metadata": {},
     "output_type": "execute_result"
    }
   ],
   "source": [
    "data.isna().sum()"
   ]
  },
  {
   "cell_type": "markdown",
   "metadata": {},
   "source": [
    "_________"
   ]
  },
  {
   "cell_type": "markdown",
   "metadata": {},
   "source": [
    "**Модель можно попробовать восстановить из бренда, типа кузова и года регистрации**"
   ]
  },
  {
   "cell_type": "code",
   "execution_count": 24,
   "metadata": {},
   "outputs": [],
   "source": [
    "data['Model'] = data['Model'].fillna(\n",
    "    data.groupby(['Brand', 'VehicleType', 'RegistrationYear'])\n",
    "['Model'].transform('ffill'))"
   ]
  },
  {
   "cell_type": "code",
   "execution_count": 25,
   "metadata": {},
   "outputs": [
    {
     "data": {
      "text/plain": "DateCrawled              0\nPrice                    0\nVehicleType           6796\nRegistrationYear         0\nGearbox               4492\nPower                    0\nModel                 9420\nKilometer                0\nRegistrationMonth        0\nFuelType             32767\nBrand                    0\nNotRepaired              0\nDateCreated              0\nPostalCode               0\nLastSeen                 0\ndtype: int64"
     },
     "execution_count": 25,
     "metadata": {},
     "output_type": "execute_result"
    }
   ],
   "source": [
    "data.isna().sum()"
   ]
  },
  {
   "cell_type": "code",
   "execution_count": 26,
   "metadata": {},
   "outputs": [
    {
     "data": {
      "text/plain": "<AxesSubplot:>"
     },
     "execution_count": 26,
     "metadata": {},
     "output_type": "execute_result"
    },
    {
     "data": {
      "text/plain": "<Figure size 1152x720 with 1 Axes>",
      "image/png": "[encoded data removed]"
     },
     "metadata": {
      "needs_background": "light"
     },
     "output_type": "display_data"
    }
   ],
   "source": [
    "data['Power'].hist(bins=100, figsize=(16,10))"
   ]
  },
  {
   "cell_type": "code",
   "execution_count": 27,
   "metadata": {},
   "outputs": [
    {
     "data": {
      "text/plain": "DateCrawled          448\nPrice                448\nVehicleType          438\nRegistrationYear     448\nGearbox              426\nPower                448\nModel                429\nKilometer            448\nRegistrationMonth    448\nFuelType             355\nBrand                448\nNotRepaired          448\nDateCreated          448\nPostalCode           448\nLastSeen             448\ndtype: int64"
     },
     "execution_count": 27,
     "metadata": {},
     "output_type": "execute_result"
    }
   ],
   "source": [
    "data[(data['Power'] > 500)].count()"
   ]
  },
  {
   "cell_type": "code",
   "execution_count": 28,
   "metadata": {},
   "outputs": [
    {
     "data": {
      "text/plain": "                DateCrawled  Price  VehicleType  RegistrationYear Gearbox  \\\n41      2016-03-30 20:38:20   7500        sedan              2002    auto   \n172     2016-03-07 12:38:19  19750  convertible              2006  manual   \n204     2016-03-31 12:58:26  18400        wagon              2011    auto   \n393     2016-04-01 19:49:57   6250        wagon              2016  manual   \n485     2016-03-07 21:46:03  15200        sedan              2007    auto   \n...                     ...    ...          ...               ...     ...   \n354038  2016-04-03 01:57:21   7499        sedan              2003    auto   \n354045  2016-03-22 20:48:48  20000        coupe              2006    auto   \n354067  2016-03-20 22:39:32  11500        wagon              2005    auto   \n354096  2016-03-16 13:50:12  15550        sedan              2006    auto   \n354337  2016-03-26 14:38:18  11500        sedan              2004    auto   \n\n        Power     Model  Kilometer  RegistrationMonth  FuelType  \\\n41        306  e_klasse     150000                  4       NaN   \n172       305   mustang      50000                  7    petrol   \n204       313       5er     150000                 11  gasoline   \n393       310     astra     150000                  0       NaN   \n485       320  s_klasse     150000                  7  gasoline   \n...       ...       ...        ...                ...       ...   \n354038    333       5er     150000                 11    petrol   \n354045    476     other     125000                  7    petrol   \n354067    340      300c     150000                  4    petrol   \n354096    334        a6      90000                  1    petrol   \n354337    445       7er     125000                  0    petrol   \n\n                Brand NotRepaired          DateCreated  PostalCode  \\\n41      mercedes_benz         yes  2016-03-30 00:00:00       33649   \n172              ford          no  2016-03-07 00:00:00       38350   \n204               bmw          no  2016-03-31 00:00:00       52477   \n393              opel         yes  2016-04-01 00:00:00       58809   \n485     mercedes_benz          no  2016-03-07 00:00:00       29664   \n...               ...         ...                  ...         ...   \n354038            bmw         yes  2016-04-03 00:00:00       48432   \n354045  mercedes_benz          no  2016-03-22 00:00:00       38118   \n354067       chrysler          no  2016-03-20 00:00:00       25924   \n354096           audi         yes  2016-03-16 00:00:00       82152   \n354337            bmw         yes  2016-03-26 00:00:00        4107   \n\n                   LastSeen  \n41      2016-04-03 11:44:49  \n172     2016-03-12 20:18:29  \n204     2016-03-31 13:44:44  \n393     2016-04-03 16:47:23  \n485     2016-04-06 01:45:50  \n...                     ...  \n354038  2016-04-03 08:48:45  \n354045  2016-03-24 05:16:02  \n354067  2016-04-01 11:44:42  \n354096  2016-04-06 11:16:18  \n354337  2016-04-06 20:45:16  \n\n[3006 rows x 15 columns]",
      "text/html": "<div>\n<style scoped>\n    .dataframe tbody tr th:only-of-type {\n        vertical-align: middle;\n    }\n\n    .dataframe tbody tr th {\n        vertical-align: top;\n    }\n\n    .dataframe thead th {\n        text-align: right;\n    }\n</style>\n<table border=\"1\" class=\"dataframe\">\n  <thead>\n    <tr style=\"text-align: right;\">\n      <th></th>\n      <th>DateCrawled</th>\n      <th>Price</th>\n      <th>VehicleType</th>\n      <th>RegistrationYear</th>\n      <th>Gearbox</th>\n      <th>Power</th>\n      <th>Model</th>\n      <th>Kilometer</th>\n      <th>RegistrationMonth</th>\n      <th>FuelType</th>\n      <th>Brand</th>\n      <th>NotRepaired</th>\n      <th>DateCreated</th>\n      <th>PostalCode</th>\n      <th>LastSeen</th>\n    </tr>\n  </thead>\n  <tbody>\n    <tr>\n      <th>41</th>\n      <td>2016-03-30 20:38:20</td>\n      <td>7500</td>\n      <td>sedan</td>\n      <td>2002</td>\n      <td>auto</td>\n      <td>306</td>\n      <td>e_klasse</td>\n      <td>150000</td>\n      <td>4</td>\n      <td>NaN</td>\n      <td>mercedes_benz</td>\n      <td>yes</td>\n      <td>2016-03-30 00:00:00</td>\n      <td>33649</td>\n      <td>2016-04-03 11:44:49</td>\n    </tr>\n    <tr>\n      <th>172</th>\n      <td>2016-03-07 12:38:19</td>\n      <td>19750</td>\n      <td>convertible</td>\n      <td>2006</td>\n      <td>manual</td>\n      <td>305</td>\n      <td>mustang</td>\n      <td>50000</td>\n      <td>7</td>\n      <td>petrol</td>\n      <td>ford</td>\n      <td>no</td>\n      <td>2016-03-07 00:00:00</td>\n      <td>38350</td>\n      <td>2016-03-12 20:18:29</td>\n    </tr>\n    <tr>\n      <th>204</th>\n      <td>2016-03-31 12:58:26</td>\n      <td>18400</td>\n      <td>wagon</td>\n      <td>2011</td>\n      <td>auto</td>\n      <td>313</td>\n      <td>5er</td>\n      <td>150000</td>\n      <td>11</td>\n      <td>gasoline</td>\n      <td>bmw</td>\n      <td>no</td>\n      <td>2016-03-31 00:00:00</td>\n      <td>52477</td>\n      <td>2016-03-31 13:44:44</td>\n    </tr>\n    <tr>\n      <th>393</th>\n      <td>2016-04-01 19:49:57</td>\n      <td>6250</td>\n      <td>wagon</td>\n      <td>2016</td>\n      <td>manual</td>\n      <td>310</td>\n      <td>astra</td>\n      <td>150000</td>\n      <td>0</td>\n      <td>NaN</td>\n      <td>opel</td>\n      <td>yes</td>\n      <td>2016-04-01 00:00:00</td>\n      <td>58809</td>\n      <td>2016-04-03 16:47:23</td>\n    </tr>\n    <tr>\n      <th>485</th>\n      <td>2016-03-07 21:46:03</td>\n      <td>15200</td>\n      <td>sedan</td>\n      <td>2007</td>\n      <td>auto</td>\n      <td>320</td>\n      <td>s_klasse</td>\n      <td>150000</td>\n      <td>7</td>\n      <td>gasoline</td>\n      <td>mercedes_benz</td>\n      <td>no</td>\n      <td>2016-03-07 00:00:00</td>\n      <td>29664</td>\n      <td>2016-04-06 01:45:50</td>\n    </tr>\n    <tr>\n      <th>...</th>\n      <td>...</td>\n      <td>...</td>\n      <td>...</td>\n      <td>...</td>\n      <td>...</td>\n      <td>...</td>\n      <td>...</td>\n      <td>...</td>\n      <td>...</td>\n      <td>...</td>\n      <td>...</td>\n      <td>...</td>\n      <td>...</td>\n      <td>...</td>\n      <td>...</td>\n    </tr>\n    <tr>\n      <th>354038</th>\n      <td>2016-04-03 01:57:21</td>\n      <td>7499</td>\n      <td>sedan</td>\n      <td>2003</td>\n      <td>auto</td>\n      <td>333</td>\n      <td>5er</td>\n      <td>150000</td>\n      <td>11</td>\n      <td>petrol</td>\n      <td>bmw</td>\n      <td>yes</td>\n      <td>2016-04-03 00:00:00</td>\n      <td>48432</td>\n      <td>2016-04-03 08:48:45</td>\n    </tr>\n    <tr>\n      <th>354045</th>\n      <td>2016-03-22 20:48:48</td>\n      <td>20000</td>\n      <td>coupe</td>\n      <td>2006</td>\n      <td>auto</td>\n      <td>476</td>\n      <td>other</td>\n      <td>125000</td>\n      <td>7</td>\n      <td>petrol</td>\n      <td>mercedes_benz</td>\n      <td>no</td>\n      <td>2016-03-22 00:00:00</td>\n      <td>38118</td>\n      <td>2016-03-24 05:16:02</td>\n    </tr>\n    <tr>\n      <th>354067</th>\n      <td>2016-03-20 22:39:32</td>\n      <td>11500</td>\n      <td>wagon</td>\n      <td>2005</td>\n      <td>auto</td>\n      <td>340</td>\n      <td>300c</td>\n      <td>150000</td>\n      <td>4</td>\n      <td>petrol</td>\n      <td>chrysler</td>\n      <td>no</td>\n      <td>2016-03-20 00:00:00</td>\n      <td>25924</td>\n      <td>2016-04-01 11:44:42</td>\n    </tr>\n    <tr>\n      <th>354096</th>\n      <td>2016-03-16 13:50:12</td>\n      <td>15550</td>\n      <td>sedan</td>\n      <td>2006</td>\n      <td>auto</td>\n      <td>334</td>\n      <td>a6</td>\n      <td>90000</td>\n      <td>1</td>\n      <td>petrol</td>\n      <td>audi</td>\n      <td>yes</td>\n      <td>2016-03-16 00:00:00</td>\n      <td>82152</td>\n      <td>2016-04-06 11:16:18</td>\n    </tr>\n    <tr>\n      <th>354337</th>\n      <td>2016-03-26 14:38:18</td>\n      <td>11500</td>\n      <td>sedan</td>\n      <td>2004</td>\n      <td>auto</td>\n      <td>445</td>\n      <td>7er</td>\n      <td>125000</td>\n      <td>0</td>\n      <td>petrol</td>\n      <td>bmw</td>\n      <td>yes</td>\n      <td>2016-03-26 00:00:00</td>\n      <td>4107</td>\n      <td>2016-04-06 20:45:16</td>\n    </tr>\n  </tbody>\n</table>\n<p>3006 rows × 15 columns</p>\n</div>"
     },
     "execution_count": 28,
     "metadata": {},
     "output_type": "execute_result"
    }
   ],
   "source": [
    "data[(data['Power'] < 500) & (data['Power'] > 300) ]"
   ]
  },
  {
   "cell_type": "code",
   "execution_count": 29,
   "metadata": {},
   "outputs": [
    {
     "data": {
      "text/plain": "                DateCrawled  Price VehicleType  RegistrationYear Gearbox  \\\n1816    2016-03-22 20:52:00   3200       small              2004  manual   \n2102    2016-03-21 11:55:22      0       sedan              1999     NaN   \n3746    2016-03-21 14:48:31      0         NaN              2017  manual   \n4060    2016-04-03 20:31:00   3100       sedan              2005  manual   \n5328    2016-03-29 19:44:48    500       wagon              1999  manual   \n...                     ...    ...         ...               ...     ...   \n348968  2016-04-04 18:53:25    250       small              1999  manual   \n351947  2016-03-07 21:36:19   1500         bus              2001  manual   \n353493  2016-04-02 20:54:21  12500       sedan              2017  manual   \n353633  2016-03-23 23:55:21   2400       sedan              2007  manual   \n354260  2016-03-09 17:59:03    399       other              1994     NaN   \n\n        Power    Model  Kilometer  RegistrationMonth  FuelType       Brand  \\\n1816     1398  corolla       5000                  6    petrol      toyota   \n2102     1799   vectra     150000                  1    petrol        opel   \n3746      750      NaN     150000                  8    petrol       smart   \n4060      953     colt     150000                  4  gasoline  mitsubishi   \n5328     1001    astra     150000                  7    petrol        opel   \n...       ...      ...        ...                ...       ...         ...   \n348968   1241  ypsilon     150000                  5    petrol      lancia   \n351947   1001   zafira       5000                  7  gasoline        opel   \n353493   2000    other      60000                  0  gasoline    chrysler   \n353633    650       c2     150000                  8    petrol     citroen   \n354260   1103      3er     150000                  0       NaN         bmw   \n\n       NotRepaired          DateCreated  PostalCode             LastSeen  \n1816            no  2016-03-22 00:00:00       22043  2016-03-22 21:43:26  \n2102           yes  2016-03-21 00:00:00        1723  2016-04-04 04:49:06  \n3746            no  2016-03-21 00:00:00       49356  2016-03-24 03:44:59  \n4060            no  2016-04-03 00:00:00       60326  2016-04-07 14:56:46  \n5328           yes  2016-03-29 00:00:00       33154  2016-04-06 05:44:36  \n...            ...                  ...         ...                  ...  \n348968         yes  2016-04-04 00:00:00       28259  2016-04-04 18:53:25  \n351947          no  2016-03-07 00:00:00       66117  2016-03-09 12:47:08  \n353493          no  2016-04-02 00:00:00       44145  2016-04-06 21:44:39  \n353633         yes  2016-03-23 00:00:00       45277  2016-03-27 01:15:17  \n354260         yes  2016-03-09 00:00:00       56235  2016-03-17 09:17:08  \n\n[448 rows x 15 columns]",
      "text/html": "<div>\n<style scoped>\n    .dataframe tbody tr th:only-of-type {\n        vertical-align: middle;\n    }\n\n    .dataframe tbody tr th {\n        vertical-align: top;\n    }\n\n    .dataframe thead th {\n        text-align: right;\n    }\n</style>\n<table border=\"1\" class=\"dataframe\">\n  <thead>\n    <tr style=\"text-align: right;\">\n      <th></th>\n      <th>DateCrawled</th>\n      <th>Price</th>\n      <th>VehicleType</th>\n      <th>RegistrationYear</th>\n      <th>Gearbox</th>\n      <th>Power</th>\n      <th>Model</th>\n      <th>Kilometer</th>\n      <th>RegistrationMonth</th>\n      <th>FuelType</th>\n      <th>Brand</th>\n      <th>NotRepaired</th>\n      <th>DateCreated</th>\n      <th>PostalCode</th>\n      <th>LastSeen</th>\n    </tr>\n  </thead>\n  <tbody>\n    <tr>\n      <th>1816</th>\n      <td>2016-03-22 20:52:00</td>\n      <td>3200</td>\n      <td>small</td>\n      <td>2004</td>\n      <td>manual</td>\n      <td>1398</td>\n      <td>corolla</td>\n      <td>5000</td>\n      <td>6</td>\n      <td>petrol</td>\n      <td>toyota</td>\n      <td>no</td>\n      <td>2016-03-22 00:00:00</td>\n      <td>22043</td>\n      <td>2016-03-22 21:43:26</td>\n    </tr>\n    <tr>\n      <th>2102</th>\n      <td>2016-03-21 11:55:22</td>\n      <td>0</td>\n      <td>sedan</td>\n      <td>1999</td>\n      <td>NaN</td>\n      <td>1799</td>\n      <td>vectra</td>\n      <td>150000</td>\n      <td>1</td>\n      <td>petrol</td>\n      <td>opel</td>\n      <td>yes</td>\n      <td>2016-03-21 00:00:00</td>\n      <td>1723</td>\n      <td>2016-04-04 04:49:06</td>\n    </tr>\n    <tr>\n      <th>3746</th>\n      <td>2016-03-21 14:48:31</td>\n      <td>0</td>\n      <td>NaN</td>\n      <td>2017</td>\n      <td>manual</td>\n      <td>750</td>\n      <td>NaN</td>\n      <td>150000</td>\n      <td>8</td>\n      <td>petrol</td>\n      <td>smart</td>\n      <td>no</td>\n      <td>2016-03-21 00:00:00</td>\n      <td>49356</td>\n      <td>2016-03-24 03:44:59</td>\n    </tr>\n    <tr>\n      <th>4060</th>\n      <td>2016-04-03 20:31:00</td>\n      <td>3100</td>\n      <td>sedan</td>\n      <td>2005</td>\n      <td>manual</td>\n      <td>953</td>\n      <td>colt</td>\n      <td>150000</td>\n      <td>4</td>\n      <td>gasoline</td>\n      <td>mitsubishi</td>\n      <td>no</td>\n      <td>2016-04-03 00:00:00</td>\n      <td>60326</td>\n      <td>2016-04-07 14:56:46</td>\n    </tr>\n    <tr>\n      <th>5328</th>\n      <td>2016-03-29 19:44:48</td>\n      <td>500</td>\n      <td>wagon</td>\n      <td>1999</td>\n      <td>manual</td>\n      <td>1001</td>\n      <td>astra</td>\n      <td>150000</td>\n      <td>7</td>\n      <td>petrol</td>\n      <td>opel</td>\n      <td>yes</td>\n      <td>2016-03-29 00:00:00</td>\n      <td>33154</td>\n      <td>2016-04-06 05:44:36</td>\n    </tr>\n    <tr>\n      <th>...</th>\n      <td>...</td>\n      <td>...</td>\n      <td>...</td>\n      <td>...</td>\n      <td>...</td>\n      <td>...</td>\n      <td>...</td>\n      <td>...</td>\n      <td>...</td>\n      <td>...</td>\n      <td>...</td>\n      <td>...</td>\n      <td>...</td>\n      <td>...</td>\n      <td>...</td>\n    </tr>\n    <tr>\n      <th>348968</th>\n      <td>2016-04-04 18:53:25</td>\n      <td>250</td>\n      <td>small</td>\n      <td>1999</td>\n      <td>manual</td>\n      <td>1241</td>\n      <td>ypsilon</td>\n      <td>150000</td>\n      <td>5</td>\n      <td>petrol</td>\n      <td>lancia</td>\n      <td>yes</td>\n      <td>2016-04-04 00:00:00</td>\n      <td>28259</td>\n      <td>2016-04-04 18:53:25</td>\n    </tr>\n    <tr>\n      <th>351947</th>\n      <td>2016-03-07 21:36:19</td>\n      <td>1500</td>\n      <td>bus</td>\n      <td>2001</td>\n      <td>manual</td>\n      <td>1001</td>\n      <td>zafira</td>\n      <td>5000</td>\n      <td>7</td>\n      <td>gasoline</td>\n      <td>opel</td>\n      <td>no</td>\n      <td>2016-03-07 00:00:00</td>\n      <td>66117</td>\n      <td>2016-03-09 12:47:08</td>\n    </tr>\n    <tr>\n      <th>353493</th>\n      <td>2016-04-02 20:54:21</td>\n      <td>12500</td>\n      <td>sedan</td>\n      <td>2017</td>\n      <td>manual</td>\n      <td>2000</td>\n      <td>other</td>\n      <td>60000</td>\n      <td>0</td>\n      <td>gasoline</td>\n      <td>chrysler</td>\n      <td>no</td>\n      <td>2016-04-02 00:00:00</td>\n      <td>44145</td>\n      <td>2016-04-06 21:44:39</td>\n    </tr>\n    <tr>\n      <th>353633</th>\n      <td>2016-03-23 23:55:21</td>\n      <td>2400</td>\n      <td>sedan</td>\n      <td>2007</td>\n      <td>manual</td>\n      <td>650</td>\n      <td>c2</td>\n      <td>150000</td>\n      <td>8</td>\n      <td>petrol</td>\n      <td>citroen</td>\n      <td>yes</td>\n      <td>2016-03-23 00:00:00</td>\n      <td>45277</td>\n      <td>2016-03-27 01:15:17</td>\n    </tr>\n    <tr>\n      <th>354260</th>\n      <td>2016-03-09 17:59:03</td>\n      <td>399</td>\n      <td>other</td>\n      <td>1994</td>\n      <td>NaN</td>\n      <td>1103</td>\n      <td>3er</td>\n      <td>150000</td>\n      <td>0</td>\n      <td>NaN</td>\n      <td>bmw</td>\n      <td>yes</td>\n      <td>2016-03-09 00:00:00</td>\n      <td>56235</td>\n      <td>2016-03-17 09:17:08</td>\n    </tr>\n  </tbody>\n</table>\n<p>448 rows × 15 columns</p>\n</div>"
     },
     "execution_count": 29,
     "metadata": {},
     "output_type": "execute_result"
    }
   ],
   "source": [
    "data[(data['Power'] > 500)]"
   ]
  },
  {
   "cell_type": "markdown",
   "metadata": {},
   "source": [
    "**Так, ну я вижу в мощности двигателя записывали объем в кубических сантиметрах и вообще какие-то спонтанные большие числа. Восстановить реальную мощность по ним сложно. Предлагаю удалить как ошибки.**"
   ]
  },
  {
   "cell_type": "code",
   "execution_count": 30,
   "metadata": {},
   "outputs": [],
   "source": [
    "data = data[(data['Power'] < 500)]"
   ]
  },
  {
   "cell_type": "code",
   "execution_count": 31,
   "metadata": {},
   "outputs": [
    {
     "data": {
      "text/plain": "<AxesSubplot:>"
     },
     "execution_count": 31,
     "metadata": {},
     "output_type": "execute_result"
    },
    {
     "data": {
      "text/plain": "<Figure size 1152x720 with 1 Axes>",
      "image/png": "[encoded data removed]"
     },
     "metadata": {
      "needs_background": "light"
     },
     "output_type": "display_data"
    }
   ],
   "source": [
    "data['Power'].hist(bins=100, figsize=(16,10))"
   ]
  },
  {
   "cell_type": "code",
   "execution_count": 32,
   "metadata": {
    "scrolled": false
   },
   "outputs": [
    {
     "data": {
      "text/plain": "                DateCrawled  Price VehicleType  RegistrationYear Gearbox  \\\n0       2016-03-24 11:52:17    480         NaN              1993  manual   \n15      2016-03-11 21:39:15    450       small              1910     NaN   \n32      2016-03-15 20:59:01    245       sedan              1994  manual   \n37      2016-03-28 17:50:15   1500         NaN              2016     NaN   \n40      2016-03-26 22:06:17      0         NaN              1990     NaN   \n...                     ...    ...         ...               ...     ...   \n354346  2016-03-07 17:06:35   2600       sedan              2005    auto   \n354360  2016-04-02 20:37:03   3999       wagon              2005  manual   \n354363  2016-03-27 20:36:20   1150         bus              2000  manual   \n354364  2016-03-21 09:50:58      0       sedan              2005  manual   \n354365  2016-03-14 17:48:27   2200         NaN              2005     NaN   \n\n        Power     Model  Kilometer  RegistrationMonth  FuelType  \\\n0           0      golf     150000                  0    petrol   \n15          0        ka       5000                  0    petrol   \n32          0      golf     150000                  2    petrol   \n37          0    kangoo     150000                  1  gasoline   \n40          0     corsa     150000                  1    petrol   \n...       ...       ...        ...                ...       ...   \n354346      0  c_klasse     150000                  9       NaN   \n354360      3       3er     150000                  5  gasoline   \n354363      0    zafira     150000                  3    petrol   \n354364      0      colt     150000                  7    petrol   \n354365      0       NaN      20000                  1       NaN   \n\n                 Brand NotRepaired          DateCreated  PostalCode  \\\n0           volkswagen         yes  2016-03-24 00:00:00       70435   \n15                ford         yes  2016-03-11 00:00:00       24148   \n32          volkswagen          no  2016-03-15 00:00:00       44145   \n37             renault          no  2016-03-28 00:00:00       46483   \n40                opel         yes  2016-03-26 00:00:00       56412   \n...                ...         ...                  ...         ...   \n354346   mercedes_benz         yes  2016-03-07 00:00:00       61169   \n354360             bmw          no  2016-04-02 00:00:00       81825   \n354363            opel          no  2016-03-27 00:00:00       26624   \n354364      mitsubishi         yes  2016-03-21 00:00:00        2694   \n354365  sonstige_autos         yes  2016-03-14 00:00:00       39576   \n\n                   LastSeen  \n0       2016-04-07 03:16:57  \n15      2016-03-19 08:46:47  \n32      2016-03-17 18:17:43  \n37      2016-03-30 09:18:02  \n40      2016-03-27 17:43:34  \n...                     ...  \n354346  2016-03-08 21:28:38  \n354360  2016-04-06 20:47:12  \n354363  2016-03-29 10:17:23  \n354364  2016-03-21 10:42:49  \n354365  2016-04-06 00:46:52  \n\n[41002 rows x 15 columns]",
      "text/html": "<div>\n<style scoped>\n    .dataframe tbody tr th:only-of-type {\n        vertical-align: middle;\n    }\n\n    .dataframe tbody tr th {\n        vertical-align: top;\n    }\n\n    .dataframe thead th {\n        text-align: right;\n    }\n</style>\n<table border=\"1\" class=\"dataframe\">\n  <thead>\n    <tr style=\"text-align: right;\">\n      <th></th>\n      <th>DateCrawled</th>\n      <th>Price</th>\n      <th>VehicleType</th>\n      <th>RegistrationYear</th>\n      <th>Gearbox</th>\n      <th>Power</th>\n      <th>Model</th>\n      <th>Kilometer</th>\n      <th>RegistrationMonth</th>\n      <th>FuelType</th>\n      <th>Brand</th>\n      <th>NotRepaired</th>\n      <th>DateCreated</th>\n      <th>PostalCode</th>\n      <th>LastSeen</th>\n    </tr>\n  </thead>\n  <tbody>\n    <tr>\n      <th>0</th>\n      <td>2016-03-24 11:52:17</td>\n      <td>480</td>\n      <td>NaN</td>\n      <td>1993</td>\n      <td>manual</td>\n      <td>0</td>\n      <td>golf</td>\n      <td>150000</td>\n      <td>0</td>\n      <td>petrol</td>\n      <td>volkswagen</td>\n      <td>yes</td>\n      <td>2016-03-24 00:00:00</td>\n      <td>70435</td>\n      <td>2016-04-07 03:16:57</td>\n    </tr>\n    <tr>\n      <th>15</th>\n      <td>2016-03-11 21:39:15</td>\n      <td>450</td>\n      <td>small</td>\n      <td>1910</td>\n      <td>NaN</td>\n      <td>0</td>\n      <td>ka</td>\n      <td>5000</td>\n      <td>0</td>\n      <td>petrol</td>\n      <td>ford</td>\n      <td>yes</td>\n      <td>2016-03-11 00:00:00</td>\n      <td>24148</td>\n      <td>2016-03-19 08:46:47</td>\n    </tr>\n    <tr>\n      <th>32</th>\n      <td>2016-03-15 20:59:01</td>\n      <td>245</td>\n      <td>sedan</td>\n      <td>1994</td>\n      <td>manual</td>\n      <td>0</td>\n      <td>golf</td>\n      <td>150000</td>\n      <td>2</td>\n      <td>petrol</td>\n      <td>volkswagen</td>\n      <td>no</td>\n      <td>2016-03-15 00:00:00</td>\n      <td>44145</td>\n      <td>2016-03-17 18:17:43</td>\n    </tr>\n    <tr>\n      <th>37</th>\n      <td>2016-03-28 17:50:15</td>\n      <td>1500</td>\n      <td>NaN</td>\n      <td>2016</td>\n      <td>NaN</td>\n      <td>0</td>\n      <td>kangoo</td>\n      <td>150000</td>\n      <td>1</td>\n      <td>gasoline</td>\n      <td>renault</td>\n      <td>no</td>\n      <td>2016-03-28 00:00:00</td>\n      <td>46483</td>\n      <td>2016-03-30 09:18:02</td>\n    </tr>\n    <tr>\n      <th>40</th>\n      <td>2016-03-26 22:06:17</td>\n      <td>0</td>\n      <td>NaN</td>\n      <td>1990</td>\n      <td>NaN</td>\n      <td>0</td>\n      <td>corsa</td>\n      <td>150000</td>\n      <td>1</td>\n      <td>petrol</td>\n      <td>opel</td>\n      <td>yes</td>\n      <td>2016-03-26 00:00:00</td>\n      <td>56412</td>\n      <td>2016-03-27 17:43:34</td>\n    </tr>\n    <tr>\n      <th>...</th>\n      <td>...</td>\n      <td>...</td>\n      <td>...</td>\n      <td>...</td>\n      <td>...</td>\n      <td>...</td>\n      <td>...</td>\n      <td>...</td>\n      <td>...</td>\n      <td>...</td>\n      <td>...</td>\n      <td>...</td>\n      <td>...</td>\n      <td>...</td>\n      <td>...</td>\n    </tr>\n    <tr>\n      <th>354346</th>\n      <td>2016-03-07 17:06:35</td>\n      <td>2600</td>\n      <td>sedan</td>\n      <td>2005</td>\n      <td>auto</td>\n      <td>0</td>\n      <td>c_klasse</td>\n      <td>150000</td>\n      <td>9</td>\n      <td>NaN</td>\n      <td>mercedes_benz</td>\n      <td>yes</td>\n      <td>2016-03-07 00:00:00</td>\n      <td>61169</td>\n      <td>2016-03-08 21:28:38</td>\n    </tr>\n    <tr>\n      <th>354360</th>\n      <td>2016-04-02 20:37:03</td>\n      <td>3999</td>\n      <td>wagon</td>\n      <td>2005</td>\n      <td>manual</td>\n      <td>3</td>\n      <td>3er</td>\n      <td>150000</td>\n      <td>5</td>\n      <td>gasoline</td>\n      <td>bmw</td>\n      <td>no</td>\n      <td>2016-04-02 00:00:00</td>\n      <td>81825</td>\n      <td>2016-04-06 20:47:12</td>\n    </tr>\n    <tr>\n      <th>354363</th>\n      <td>2016-03-27 20:36:20</td>\n      <td>1150</td>\n      <td>bus</td>\n      <td>2000</td>\n      <td>manual</td>\n      <td>0</td>\n      <td>zafira</td>\n      <td>150000</td>\n      <td>3</td>\n      <td>petrol</td>\n      <td>opel</td>\n      <td>no</td>\n      <td>2016-03-27 00:00:00</td>\n      <td>26624</td>\n      <td>2016-03-29 10:17:23</td>\n    </tr>\n    <tr>\n      <th>354364</th>\n      <td>2016-03-21 09:50:58</td>\n      <td>0</td>\n      <td>sedan</td>\n      <td>2005</td>\n      <td>manual</td>\n      <td>0</td>\n      <td>colt</td>\n      <td>150000</td>\n      <td>7</td>\n      <td>petrol</td>\n      <td>mitsubishi</td>\n      <td>yes</td>\n      <td>2016-03-21 00:00:00</td>\n      <td>2694</td>\n      <td>2016-03-21 10:42:49</td>\n    </tr>\n    <tr>\n      <th>354365</th>\n      <td>2016-03-14 17:48:27</td>\n      <td>2200</td>\n      <td>NaN</td>\n      <td>2005</td>\n      <td>NaN</td>\n      <td>0</td>\n      <td>NaN</td>\n      <td>20000</td>\n      <td>1</td>\n      <td>NaN</td>\n      <td>sonstige_autos</td>\n      <td>yes</td>\n      <td>2016-03-14 00:00:00</td>\n      <td>39576</td>\n      <td>2016-04-06 00:46:52</td>\n    </tr>\n  </tbody>\n</table>\n<p>41002 rows × 15 columns</p>\n</div>"
     },
     "execution_count": 32,
     "metadata": {},
     "output_type": "execute_result"
    }
   ],
   "source": [
    "data[(data['Power'] < 30)]"
   ]
  },
  {
   "cell_type": "code",
   "execution_count": 33,
   "metadata": {},
   "outputs": [],
   "source": [
    "data['Power'] = data['Power'].replace(0, np.nan)"
   ]
  },
  {
   "cell_type": "code",
   "execution_count": 34,
   "metadata": {},
   "outputs": [
    {
     "data": {
      "text/plain": "DateCrawled              0\nPrice                    0\nVehicleType           6785\nRegistrationYear         0\nGearbox               4469\nPower                40098\nModel                 9399\nKilometer                0\nRegistrationMonth        0\nFuelType             32668\nBrand                    0\nNotRepaired              0\nDateCreated              0\nPostalCode               0\nLastSeen                 0\ndtype: int64"
     },
     "execution_count": 34,
     "metadata": {},
     "output_type": "execute_result"
    }
   ],
   "source": [
    "data.isna().sum()"
   ]
  },
  {
   "cell_type": "code",
   "execution_count": 35,
   "metadata": {},
   "outputs": [],
   "source": [
    "data['Power'] = data['Power'].fillna(\n",
    "    data.groupby(['Brand', 'Model', 'RegistrationYear'])\n",
    "['Power'].transform('mean'))"
   ]
  },
  {
   "cell_type": "markdown",
   "metadata": {},
   "source": [
    "**Много 0 и малых значений. Либо это поле просто заполняли нулями, либо не знают. Думаю можно попробовать заменить нули на средную мощность по модели и году. Хоть какие-то близкие к правде цифры.**"
   ]
  },
  {
   "cell_type": "code",
   "execution_count": 36,
   "metadata": {
    "scrolled": false
   },
   "outputs": [
    {
     "data": {
      "text/plain": "<AxesSubplot:>"
     },
     "execution_count": 36,
     "metadata": {},
     "output_type": "execute_result"
    },
    {
     "data": {
      "text/plain": "<Figure size 1152x720 with 1 Axes>",
      "image/png": "[encoded data removed]"
     },
     "metadata": {
      "needs_background": "light"
     },
     "output_type": "display_data"
    }
   ],
   "source": [
    "data['Power'].hist(bins=100, figsize=(16,10))"
   ]
  },
  {
   "cell_type": "markdown",
   "metadata": {},
   "source": [
    "______"
   ]
  },
  {
   "cell_type": "markdown",
   "metadata": {},
   "source": [
    "**Тип топлива тоже попробуем восстановить по группе.**"
   ]
  },
  {
   "cell_type": "code",
   "execution_count": 37,
   "metadata": {},
   "outputs": [],
   "source": [
    "data['FuelType'] = data['FuelType'].fillna(\n",
    "    data.groupby(['Brand', 'Model', 'Power'])\n",
    "['FuelType'].transform('ffill'))"
   ]
  },
  {
   "cell_type": "code",
   "execution_count": 38,
   "metadata": {
    "scrolled": true
   },
   "outputs": [
    {
     "data": {
      "text/plain": "DateCrawled             0\nPrice                   0\nVehicleType          6785\nRegistrationYear        0\nGearbox              4469\nPower                4721\nModel                9399\nKilometer               0\nRegistrationMonth       0\nFuelType             7262\nBrand                   0\nNotRepaired             0\nDateCreated             0\nPostalCode              0\nLastSeen                0\ndtype: int64"
     },
     "execution_count": 38,
     "metadata": {},
     "output_type": "execute_result"
    }
   ],
   "source": [
    "data.isna().sum()"
   ]
  },
  {
   "cell_type": "markdown",
   "metadata": {},
   "source": [
    "**Пропусков осталось мало. Остальное придется удалить.**"
   ]
  },
  {
   "cell_type": "code",
   "execution_count": 39,
   "metadata": {},
   "outputs": [],
   "source": [
    "data = data.dropna()"
   ]
  },
  {
   "cell_type": "code",
   "execution_count": 40,
   "metadata": {
    "scrolled": false
   },
   "outputs": [
    {
     "name": "stdout",
     "output_type": "stream",
     "text": [
      "<class 'pandas.core.frame.DataFrame'>\n",
      "Int64Index: 340319 entries, 2 to 354368\n",
      "Data columns (total 15 columns):\n",
      " #   Column             Non-Null Count   Dtype  \n",
      "---  ------             --------------   -----  \n",
      " 0   DateCrawled        340319 non-null  object \n",
      " 1   Price              340319 non-null  int64  \n",
      " 2   VehicleType        340319 non-null  object \n",
      " 3   RegistrationYear   340319 non-null  int64  \n",
      " 4   Gearbox            340319 non-null  object \n",
      " 5   Power              340319 non-null  float64\n",
      " 6   Model              340319 non-null  object \n",
      " 7   Kilometer          340319 non-null  int64  \n",
      " 8   RegistrationMonth  340319 non-null  int64  \n",
      " 9   FuelType           340319 non-null  object \n",
      " 10  Brand              340319 non-null  object \n",
      " 11  NotRepaired        340319 non-null  object \n",
      " 12  DateCreated        340319 non-null  object \n",
      " 13  PostalCode         340319 non-null  int64  \n",
      " 14  LastSeen           340319 non-null  object \n",
      "dtypes: float64(1), int64(5), object(9)\n",
      "memory usage: 41.5+ MB\n"
     ]
    }
   ],
   "source": [
    "data.info()"
   ]
  },
  {
   "cell_type": "markdown",
   "metadata": {},
   "source": [
    "**В этой задаче даты создания или последнего просмотра не важны, как и почтовый индекс. Удалим лишнее.**"
   ]
  },
  {
   "cell_type": "code",
   "execution_count": 41,
   "metadata": {},
   "outputs": [],
   "source": [
    "data = data.drop(['DateCrawled', 'DateCreated', 'LastSeen', 'PostalCode'], axis=1)"
   ]
  },
  {
   "cell_type": "markdown",
   "metadata": {},
   "source": [
    "**Закодируем категориальные признаки.**"
   ]
  },
  {
   "cell_type": "code",
   "execution_count": 42,
   "metadata": {},
   "outputs": [],
   "source": [
    "cat_columns = ['VehicleType', 'Gearbox', 'Model', 'FuelType', 'Brand', 'NotRepaired']\n",
    "\n",
    "enc = OrdinalEncoder()\n",
    "data[cat_columns] = enc.fit_transform(data[cat_columns]).astype(int)"
   ]
  },
  {
   "cell_type": "markdown",
   "metadata": {},
   "source": [
    "_______"
   ]
  },
  {
   "cell_type": "markdown",
   "metadata": {},
   "source": [
    "## Обучение моделей"
   ]
  },
  {
   "cell_type": "markdown",
   "metadata": {},
   "source": [
    "Разделим датасет на выборки"
   ]
  },
  {
   "cell_type": "code",
   "execution_count": 43,
   "metadata": {},
   "outputs": [
    {
     "data": {
      "text/plain": "((272255, 10), (272255,), (68064, 10), (68064,))"
     },
     "execution_count": 43,
     "metadata": {},
     "output_type": "execute_result"
    }
   ],
   "source": [
    "target = data['Price']\n",
    "features = data.drop(['Price'], axis=1)\n",
    "\n",
    "features_train, features_test,\\\n",
    "target_train, target_test = train_test_split(\n",
    "    features, target, test_size=0.2, random_state=42\n",
    ")\n",
    "\n",
    "features_train.shape, target_train.shape, features_test.shape, target_test.shape"
   ]
  },
  {
   "cell_type": "markdown",
   "metadata": {},
   "source": [
    "Напишем функцию для кроссвалидации"
   ]
  },
  {
   "cell_type": "code",
   "execution_count": 44,
   "metadata": {},
   "outputs": [],
   "source": [
    "def rmse(predict, actual):\n",
    "    score = np.sqrt(mean_squared_error(actual, predict))\n",
    "    return score"
   ]
  },
  {
   "cell_type": "markdown",
   "metadata": {},
   "source": [
    "**Начнем с классики. Линейная регрессия.**"
   ]
  },
  {
   "cell_type": "code",
   "execution_count": 45,
   "metadata": {},
   "outputs": [
    {
     "name": "stdout",
     "output_type": "stream",
     "text": [
      "Starting training...\n",
      "Время на обучение: 2.622 seconds\n",
      "RMSE на кроссвалидации: 3013.831950591198\n",
      "Starting predicting...\n",
      "Время на предсказание: 0.006 seconds\n"
     ]
    }
   ],
   "source": [
    "scaled_df = data.copy()\n",
    "\n",
    "target = scaled_df['Price']\n",
    "features = scaled_df.drop('Price', axis=1)\n",
    "\n",
    "scaler = StandardScaler()\n",
    "scaler.fit(features)\n",
    "features = scaler.transform(features)\n",
    "\n",
    "print('Starting training...')\n",
    "start_time = time.time()\n",
    "lr = LinearRegression().fit(features, target)\n",
    "elapsed_time = time.time() - start_time\n",
    "print(f\"Время на обучение: \"\n",
    "      f\"{elapsed_time:.3f} seconds\")\n",
    "\n",
    "rmse_score = make_scorer(rmse, greater_is_better = False)\n",
    "scores = cross_val_score(lr, features, target, scoring=rmse_score, cv=5)\n",
    "print(f'RMSE на кроссвалидации: {scores.mean() * -1}')\n",
    "\n",
    "print('Starting predicting...')\n",
    "start_time = time.time()\n",
    "target_predict = lr.predict(features_test)\n",
    "elapsed_time = time.time() - start_time\n",
    "print(f\"Время на предсказание: \"\n",
    "      f\"{elapsed_time:.3f} seconds\")\n"
   ]
  },
  {
   "cell_type": "markdown",
   "metadata": {},
   "source": [
    "**LightGBM**"
   ]
  },
  {
   "cell_type": "code",
   "execution_count": 46,
   "metadata": {
    "scrolled": true
   },
   "outputs": [
    {
     "name": "stdout",
     "output_type": "stream",
     "text": [
      "Starting training...\n",
      "Время на обучение: 5.318 seconds\n",
      "Starting predicting...\n",
      "Время на предсказание: 0.799 seconds\n",
      "The RMSE of prediction is: 1679.5975189313272\n"
     ]
    }
   ],
   "source": [
    "lgb_train = lgb.Dataset(features_train, target_train, categorical_feature={2,4,6,9,10,11})\n",
    "lgb_test = lgb.Dataset(features_test, target_test, reference=lgb_train)\n",
    "\n",
    "params = {\n",
    "    'boosting': 'GBDT',\n",
    "    'metric': 'rmse',\n",
    "    'num_leaves': 100,\n",
    "    'verbose': -1,\n",
    "    'force_row_wise': True,\n",
    "    'max_depth':10\n",
    "#    'force_col_wise': True\n",
    "}\n",
    "\n",
    "print('Starting training...')\n",
    "start_time = time.time()\n",
    "\n",
    "gbm = lgb.train(params,\n",
    "                lgb_train,\n",
    "                num_boost_round=200,\n",
    "                valid_sets=lgb_test,\n",
    "                verbose_eval=False\n",
    "                )\n",
    "\n",
    "elapsed_time = time.time() - start_time\n",
    "print(f\"Время на обучение: \"\n",
    "      f\"{elapsed_time:.3f} seconds\")\n",
    "\n",
    "print('Starting predicting...')\n",
    "start_time = time.time()\n",
    "\n",
    "target_predict = gbm.predict(features_test, num_iteration=gbm.best_iteration)\n",
    "\n",
    "elapsed_time = time.time() - start_time\n",
    "print(f\"Время на предсказание: \"\n",
    "      f\"{elapsed_time:.3f} seconds\")\n",
    "\n",
    "rmse_test = mean_squared_error(target_test, target_predict) ** 0.5\n",
    "print(f'The RMSE of prediction is: {rmse_test}')"
   ]
  },
  {
   "cell_type": "markdown",
   "metadata": {},
   "source": [
    "**Random Forest**"
   ]
  },
  {
   "cell_type": "markdown",
   "metadata": {},
   "source": [
    "Сначала подберем гиперпараметры."
   ]
  },
  {
   "cell_type": "code",
   "execution_count": 47,
   "metadata": {},
   "outputs": [
    {
     "name": "stdout",
     "output_type": "stream",
     "text": [
      "Best hyper parameter: {'max_depth': 20, 'n_estimators': 200}\n",
      "CPU times: user 5min 42s, sys: 10.1 s, total: 5min 52s\n",
      "Wall time: 1h 22min 53s\n"
     ]
    }
   ],
   "source": [
    "%%time\n",
    "rfr = RandomForestRegressor(random_state=42)\n",
    "cv = 5\n",
    "grid_params = {\n",
    "    'n_estimators' : [50,150,200],\n",
    "#    'max_features' : ['auto', 'log2', 'sqrt'],\n",
    "    'max_depth' : [10,20,30]\n",
    " }\n",
    "grid = GridSearchCV(rfr, param_grid=grid_params, cv=cv,\n",
    " n_jobs = -1, verbose = 0, return_train_score=True)\n",
    "grid.fit(features, target)\n",
    "print('Best hyper parameter:', grid.best_params_)"
   ]
  },
  {
   "cell_type": "code",
   "execution_count": 48,
   "metadata": {},
   "outputs": [
    {
     "name": "stdout",
     "output_type": "stream",
     "text": [
      "Starting training...\n",
      "Время на обучение: 141.660 seconds\n",
      "Starting predicting...\n",
      "Время на предсказание: 3.234 seconds\n",
      "RMSE на тестовой выборке: 1697.8930169682167\n"
     ]
    }
   ],
   "source": [
    "rfr = RandomForestRegressor(\n",
    "    random_state=42,\n",
    "    n_estimators=200,\n",
    "    max_depth = 20,\n",
    ")\n",
    "\n",
    "print('Starting training...')\n",
    "start_time = time.time()\n",
    "rfr.fit(features_train, target_train)\n",
    "\n",
    "elapsed_time = time.time() - start_time\n",
    "print(f\"Время на обучение: \"\n",
    "      f\"{elapsed_time:.3f} seconds\")\n",
    "\n",
    "# rmse_score = make_scorer(rmse, greater_is_better = False)\n",
    "# scores = cross_val_score(rfr, features_train, target_train, scoring=rmse_score, cv=3)\n",
    "# print(f'RMSE на кроссвалидации: {scores.mean() * -1}')\n",
    "\n",
    "print('Starting predicting...')\n",
    "start_time = time.time()\n",
    "target_predict = rfr.predict(features_test)\n",
    "elapsed_time = time.time() - start_time\n",
    "print(f\"Время на предсказание: \"\n",
    "      f\"{elapsed_time:.3f} seconds\")\n",
    "\n",
    "rmse_test = mean_squared_error(target_test, target_predict) ** 0.5\n",
    "print(f'RMSE на тестовой выборке: {rmse_test}')\n"
   ]
  },
  {
   "cell_type": "markdown",
   "metadata": {},
   "source": [
    "**Решающее дерево**"
   ]
  },
  {
   "cell_type": "code",
   "execution_count": 49,
   "metadata": {},
   "outputs": [
    {
     "name": "stdout",
     "output_type": "stream",
     "text": [
      "Best hyper parameter: {'max_depth': 10, 'max_features': 'auto'}\n"
     ]
    }
   ],
   "source": [
    "dtr = DecisionTreeRegressor()\n",
    "\n",
    "cv = 5\n",
    "grid_params = {\n",
    "    'max_features' : ['auto', 'log2', 'sqrt'],\n",
    "    'max_depth' : [5,10,20]\n",
    "}\n",
    "grid = GridSearchCV(dtr, param_grid=grid_params, cv=cv, \n",
    " n_jobs = -1, verbose = 0, return_train_score=True)\n",
    "grid.fit(features, target)\n",
    "print('Best hyper parameter:', grid.best_params_)"
   ]
  },
  {
   "cell_type": "code",
   "execution_count": 50,
   "metadata": {},
   "outputs": [
    {
     "name": "stdout",
     "output_type": "stream",
     "text": [
      "Starting training...\n",
      "Время на обучение: 0.673 seconds\n",
      "RMSE на кроссвалидации: 2061.047421904654\n",
      "Starting predicting...\n",
      "Время на предсказание: 0.013 seconds\n",
      "RMSE на тестовой выборке: 2073.1028055522906\n"
     ]
    }
   ],
   "source": [
    "dtr = DecisionTreeRegressor(max_depth=10, max_features='auto')\n",
    "\n",
    "print('Starting training...')\n",
    "start_time = time.time()\n",
    "\n",
    "dtr.fit(features_train, target_train)\n",
    "\n",
    "elapsed_time = time.time() - start_time\n",
    "print(f\"Время на обучение: \"\n",
    "      f\"{elapsed_time:.3f} seconds\")\n",
    "\n",
    "scores = cross_val_score(dtr, features_train, target_train, scoring=rmse_score, cv=5)\n",
    "print(f'RMSE на кроссвалидации: {scores.mean() * -1}')\n",
    "\n",
    "print('Starting predicting...')\n",
    "start_time = time.time()\n",
    "\n",
    "target_predict = dtr.predict(features_test)\n",
    "\n",
    "elapsed_time = time.time() - start_time\n",
    "print(f\"Время на предсказание: \"\n",
    "      f\"{elapsed_time:.3f} seconds\")\n",
    "\n",
    "rmse_test = mean_squared_error(target_test, target_predict) ** 0.5\n",
    "print(f'RMSE на тестовой выборке: {rmse_test}')"
   ]
  },
  {
   "cell_type": "markdown",
   "metadata": {},
   "source": [
    "**Сравним с бейслайн моделью DummyRegressor**"
   ]
  },
  {
   "cell_type": "code",
   "execution_count": 51,
   "metadata": {},
   "outputs": [
    {
     "name": "stdout",
     "output_type": "stream",
     "text": [
      "The RMSE of prediction is: 4512.863779004719\n"
     ]
    }
   ],
   "source": [
    "dummy_regr = DummyRegressor(strategy=\"mean\")\n",
    "dummy_regr.fit(features, target)\n",
    "dummy_regr.predict(features)\n",
    "\n",
    "scores = cross_val_score(dummy_regr, features, target, scoring=rmse_score, cv=5)\n",
    "print(f'The RMSE of prediction is: {scores.mean() * -1}')"
   ]
  },
  {
   "cell_type": "markdown",
   "metadata": {},
   "source": [
    "Дамми дал совсем плохие цифры, значит модели предсказывают что-то адекватное."
   ]
  },
  {
   "cell_type": "markdown",
   "metadata": {},
   "source": [
    "## Анализ моделей"
   ]
  },
  {
   "cell_type": "markdown",
   "metadata": {},
   "source": [
    "Очевидно, что качество линейной регрессии никуда не годится. Несмотря на то, что это самая быстрая по времени модель.\n",
    "\n",
    "Решающее дерево так же довольно быстро обучилось, но метрика по прежнему плохая.\n",
    "\n",
    "Случайный лес обучался дольше всего. Плюс подбор параметров занимает значительное время. Это не соответствует условию задачи. Скорость модели нам важна.\n",
    "\n",
    "Наилучшее качество в 1679 показал LightGBM при довольно неплохих показателях времени работы (30 сек.)"
   ]
  },
  {
   "cell_type": "markdown",
   "metadata": {},
   "source": [
    "**Посмотрим, какие параметры оказываются наиболее важными для модели:**"
   ]
  },
  {
   "cell_type": "code",
   "execution_count": 52,
   "metadata": {},
   "outputs": [
    {
     "data": {
      "text/plain": "<Figure size 1152x576 with 1 Axes>",
      "image/png": "[encoded data removed]"
     },
     "metadata": {
      "needs_background": "light"
     },
     "output_type": "display_data"
    }
   ],
   "source": [
    "features = data.drop(['Price'], axis=1)\n",
    "feature_names = list(features.columns)\n",
    "\n",
    "importances = rfr.feature_importances_\n",
    "std = np.std([\n",
    "    tree.feature_importances_ for tree in rfr.estimators_], axis=0)\n",
    "\n",
    "forest_importances = pd.Series(importances, index=feature_names)\n",
    "fig, ax = plt.subplots(figsize=(16, 8))\n",
    "forest_importances.plot.bar(yerr=std, ax=ax)\n",
    "ax.set_title(\"Feature importances using MDI\")\n",
    "ax.set_ylabel(\"Mean decrease in impurity\")\n",
    "fig.tight_layout()"
   ]
  },
  {
   "cell_type": "markdown",
   "metadata": {
    "pycharm": {
     "name": "#%% md\n"
    }
   },
   "source": [
    "**Вывод: Ключевое влияние на стоимость автомобиля оказывает год регистрации и ее мощность.**"
   ]
  }
 ],
 "metadata": {
  "ExecuteTimeLog": [
   {
    "duration": 17327,
    "start_time": "2021-10-31T09:48:17.030Z"
   },
   {
    "duration": 638,
    "start_time": "2021-10-31T09:50:06.665Z"
   },
   {
    "duration": 1108,
    "start_time": "2021-10-31T09:51:01.037Z"
   },
   {
    "duration": 1190,
    "start_time": "2021-10-31T09:51:15.389Z"
   },
   {
    "duration": 41,
    "start_time": "2021-10-31T09:51:50.918Z"
   },
   {
    "duration": 33299,
    "start_time": "2021-10-31T12:56:57.869Z"
   },
   {
    "duration": 2591,
    "start_time": "2021-10-31T12:58:26.822Z"
   },
   {
    "duration": 1228,
    "start_time": "2021-10-31T12:58:32.022Z"
   },
   {
    "duration": 364,
    "start_time": "2021-10-31T12:58:55.661Z"
   },
   {
    "duration": 9,
    "start_time": "2021-10-31T12:59:02.418Z"
   },
   {
    "duration": 15,
    "start_time": "2021-10-31T12:59:11.235Z"
   },
   {
    "duration": 11549,
    "start_time": "2021-10-31T12:59:47.034Z"
   },
   {
    "duration": 2943,
    "start_time": "2021-10-31T12:59:58.586Z"
   },
   {
    "duration": 1284,
    "start_time": "2021-10-31T13:00:01.533Z"
   },
   {
    "duration": 49,
    "start_time": "2021-10-31T13:00:02.820Z"
   },
   {
    "duration": 8,
    "start_time": "2021-10-31T13:00:02.873Z"
   },
   {
    "duration": 50,
    "start_time": "2021-10-31T13:00:02.885Z"
   },
   {
    "duration": 71494,
    "start_time": "2021-10-31T13:01:12.619Z"
   },
   {
    "duration": 17246,
    "start_time": "2021-10-31T13:08:37.765Z"
   },
   {
    "duration": 3061,
    "start_time": "2021-10-31T13:08:55.014Z"
   },
   {
    "duration": 1218,
    "start_time": "2021-10-31T13:08:58.077Z"
   },
   {
    "duration": 58,
    "start_time": "2021-10-31T13:08:59.297Z"
   },
   {
    "duration": 7,
    "start_time": "2021-10-31T13:08:59.358Z"
   },
   {
    "duration": 79801,
    "start_time": "2021-10-31T13:08:59.367Z"
   },
   {
    "duration": 3056,
    "start_time": "2021-10-31T13:10:43.338Z"
   },
   {
    "duration": 8651,
    "start_time": "2021-10-31T13:47:58.414Z"
   },
   {
    "duration": 673,
    "start_time": "2021-10-31T13:48:07.068Z"
   },
   {
    "duration": 1344,
    "start_time": "2021-10-31T13:48:07.745Z"
   },
   {
    "duration": 63,
    "start_time": "2021-10-31T13:48:09.092Z"
   },
   {
    "duration": 1252,
    "start_time": "2021-10-31T13:49:08.927Z"
   },
   {
    "duration": 586,
    "start_time": "2021-10-31T13:49:22.319Z"
   },
   {
    "duration": 637,
    "start_time": "2021-10-31T13:50:17.808Z"
   },
   {
    "duration": 718,
    "start_time": "2021-10-31T13:50:27.540Z"
   },
   {
    "duration": 201,
    "start_time": "2021-10-31T13:51:25.848Z"
   },
   {
    "duration": 374,
    "start_time": "2021-10-31T13:55:52.054Z"
   },
   {
    "duration": 30,
    "start_time": "2021-10-31T13:56:17.963Z"
   },
   {
    "duration": 248,
    "start_time": "2021-10-31T13:56:58.844Z"
   },
   {
    "duration": 31,
    "start_time": "2021-10-31T13:57:07.802Z"
   },
   {
    "duration": 345,
    "start_time": "2021-10-31T13:57:55.545Z"
   },
   {
    "duration": 554,
    "start_time": "2021-10-31T13:58:12.535Z"
   },
   {
    "duration": 8,
    "start_time": "2021-10-31T13:58:55.570Z"
   },
   {
    "duration": 10,
    "start_time": "2021-10-31T13:59:04.954Z"
   },
   {
    "duration": 237,
    "start_time": "2021-10-31T13:59:15.608Z"
   },
   {
    "duration": 10,
    "start_time": "2021-10-31T13:59:58.691Z"
   },
   {
    "duration": 43,
    "start_time": "2021-10-31T14:02:34.725Z"
   },
   {
    "duration": 32,
    "start_time": "2021-10-31T14:02:49.534Z"
   },
   {
    "duration": 15,
    "start_time": "2021-10-31T14:03:17.588Z"
   },
   {
    "duration": 20,
    "start_time": "2021-10-31T14:03:44.300Z"
   },
   {
    "duration": 244,
    "start_time": "2021-10-31T14:04:17.908Z"
   },
   {
    "duration": 11,
    "start_time": "2021-10-31T14:05:50.495Z"
   },
   {
    "duration": 34,
    "start_time": "2021-10-31T14:08:37.513Z"
   },
   {
    "duration": 9,
    "start_time": "2021-10-31T14:08:47.163Z"
   },
   {
    "duration": 851,
    "start_time": "2021-10-31T14:09:31.222Z"
   },
   {
    "duration": 1545,
    "start_time": "2021-10-31T14:09:59.009Z"
   },
   {
    "duration": 8625,
    "start_time": "2021-10-31T14:10:40.291Z"
   },
   {
    "duration": 685,
    "start_time": "2021-10-31T14:10:48.919Z"
   },
   {
    "duration": 1294,
    "start_time": "2021-10-31T14:10:49.607Z"
   },
   {
    "duration": 210,
    "start_time": "2021-10-31T14:10:50.904Z"
   },
   {
    "duration": 49,
    "start_time": "2021-10-31T14:10:51.117Z"
   },
   {
    "duration": 1542,
    "start_time": "2021-10-31T14:10:51.169Z"
   },
   {
    "duration": 38,
    "start_time": "2021-10-31T14:10:52.714Z"
   },
   {
    "duration": 610,
    "start_time": "2021-10-31T14:10:52.756Z"
   },
   {
    "duration": 16,
    "start_time": "2021-10-31T14:10:53.369Z"
   },
   {
    "duration": 43,
    "start_time": "2021-10-31T14:10:53.388Z"
   },
   {
    "duration": 110,
    "start_time": "2021-10-31T14:10:53.434Z"
   },
   {
    "duration": 9,
    "start_time": "2021-10-31T14:10:53.547Z"
   },
   {
    "duration": 35,
    "start_time": "2021-10-31T14:10:53.558Z"
   },
   {
    "duration": 561,
    "start_time": "2021-10-31T14:11:19.055Z"
   },
   {
    "duration": 111,
    "start_time": "2021-10-31T14:12:29.053Z"
   },
   {
    "duration": 353,
    "start_time": "2021-10-31T14:12:34.101Z"
   },
   {
    "duration": 225,
    "start_time": "2021-10-31T14:13:08.995Z"
   },
   {
    "duration": 10,
    "start_time": "2021-10-31T14:13:28.613Z"
   },
   {
    "duration": 8258,
    "start_time": "2021-10-31T14:13:37.904Z"
   },
   {
    "duration": 641,
    "start_time": "2021-10-31T14:13:46.166Z"
   },
   {
    "duration": 1303,
    "start_time": "2021-10-31T14:13:46.810Z"
   },
   {
    "duration": 200,
    "start_time": "2021-10-31T14:13:48.116Z"
   },
   {
    "duration": 41,
    "start_time": "2021-10-31T14:13:48.318Z"
   },
   {
    "duration": 1558,
    "start_time": "2021-10-31T14:13:48.361Z"
   },
   {
    "duration": 39,
    "start_time": "2021-10-31T14:13:49.922Z"
   },
   {
    "duration": 596,
    "start_time": "2021-10-31T14:13:49.963Z"
   },
   {
    "duration": 9,
    "start_time": "2021-10-31T14:13:50.563Z"
   },
   {
    "duration": 14,
    "start_time": "2021-10-31T14:13:50.574Z"
   },
   {
    "duration": 127,
    "start_time": "2021-10-31T14:13:50.591Z"
   },
   {
    "duration": 13,
    "start_time": "2021-10-31T14:13:50.721Z"
   },
   {
    "duration": 581,
    "start_time": "2021-10-31T14:13:50.737Z"
   },
   {
    "duration": 12,
    "start_time": "2021-10-31T14:16:49.886Z"
   },
   {
    "duration": 92,
    "start_time": "2021-10-31T14:18:07.736Z"
   },
   {
    "duration": 76,
    "start_time": "2021-10-31T14:18:32.062Z"
   },
   {
    "duration": 15,
    "start_time": "2021-10-31T14:19:43.822Z"
   },
   {
    "duration": 8371,
    "start_time": "2021-10-31T14:20:00.642Z"
   },
   {
    "duration": 748,
    "start_time": "2021-10-31T14:20:09.016Z"
   },
   {
    "duration": 1452,
    "start_time": "2021-10-31T14:20:09.769Z"
   },
   {
    "duration": 214,
    "start_time": "2021-10-31T14:20:11.229Z"
   },
   {
    "duration": 38,
    "start_time": "2021-10-31T14:20:11.446Z"
   },
   {
    "duration": 1458,
    "start_time": "2021-10-31T14:20:11.486Z"
   },
   {
    "duration": 28,
    "start_time": "2021-10-31T14:20:12.946Z"
   },
   {
    "duration": 613,
    "start_time": "2021-10-31T14:20:12.977Z"
   },
   {
    "duration": 12,
    "start_time": "2021-10-31T14:20:13.593Z"
   },
   {
    "duration": 38,
    "start_time": "2021-10-31T14:20:13.608Z"
   },
   {
    "duration": 104,
    "start_time": "2021-10-31T14:20:13.648Z"
   },
   {
    "duration": 8,
    "start_time": "2021-10-31T14:20:13.754Z"
   },
   {
    "duration": 607,
    "start_time": "2021-10-31T14:20:13.764Z"
   },
   {
    "duration": 76,
    "start_time": "2021-10-31T14:38:25.909Z"
   },
   {
    "duration": 1024,
    "start_time": "2021-10-31T14:38:44.543Z"
   },
   {
    "duration": 308,
    "start_time": "2021-10-31T14:39:22.116Z"
   },
   {
    "duration": 317,
    "start_time": "2021-10-31T14:39:46.325Z"
   },
   {
    "duration": 7,
    "start_time": "2021-10-31T14:40:19.558Z"
   },
   {
    "duration": 13,
    "start_time": "2021-10-31T14:44:57.036Z"
   },
   {
    "duration": 8359,
    "start_time": "2021-10-31T14:45:13.634Z"
   },
   {
    "duration": 667,
    "start_time": "2021-10-31T14:45:21.996Z"
   },
   {
    "duration": 1418,
    "start_time": "2021-10-31T14:45:22.666Z"
   },
   {
    "duration": 214,
    "start_time": "2021-10-31T14:45:24.087Z"
   },
   {
    "duration": 60,
    "start_time": "2021-10-31T14:45:24.304Z"
   },
   {
    "duration": 1511,
    "start_time": "2021-10-31T14:45:24.366Z"
   },
   {
    "duration": 29,
    "start_time": "2021-10-31T14:45:25.879Z"
   },
   {
    "duration": 608,
    "start_time": "2021-10-31T14:45:25.910Z"
   },
   {
    "duration": 19,
    "start_time": "2021-10-31T14:45:26.522Z"
   },
   {
    "duration": 16,
    "start_time": "2021-10-31T14:45:26.544Z"
   },
   {
    "duration": 121,
    "start_time": "2021-10-31T14:45:26.565Z"
   },
   {
    "duration": 8,
    "start_time": "2021-10-31T14:45:26.688Z"
   },
   {
    "duration": 663,
    "start_time": "2021-10-31T14:45:26.698Z"
   },
   {
    "duration": 10,
    "start_time": "2021-10-31T14:51:32.379Z"
   },
   {
    "duration": 9,
    "start_time": "2021-10-31T15:05:38.080Z"
   },
   {
    "duration": 14,
    "start_time": "2021-10-31T15:08:47.690Z"
   },
   {
    "duration": 48,
    "start_time": "2021-10-31T15:09:14.726Z"
   },
   {
    "duration": 34,
    "start_time": "2021-10-31T18:10:48.800Z"
   },
   {
    "duration": 11,
    "start_time": "2021-10-31T18:11:09.913Z"
   },
   {
    "duration": 7896,
    "start_time": "2021-10-31T18:11:21.926Z"
   },
   {
    "duration": 663,
    "start_time": "2021-10-31T18:11:29.825Z"
   },
   {
    "duration": 1333,
    "start_time": "2021-10-31T18:11:30.491Z"
   },
   {
    "duration": 195,
    "start_time": "2021-10-31T18:11:31.830Z"
   },
   {
    "duration": 38,
    "start_time": "2021-10-31T18:11:32.027Z"
   },
   {
    "duration": 1450,
    "start_time": "2021-10-31T18:11:32.067Z"
   },
   {
    "duration": 33,
    "start_time": "2021-10-31T18:11:33.519Z"
   },
   {
    "duration": 564,
    "start_time": "2021-10-31T18:11:33.555Z"
   },
   {
    "duration": 8,
    "start_time": "2021-10-31T18:11:34.129Z"
   },
   {
    "duration": 12,
    "start_time": "2021-10-31T18:11:34.140Z"
   },
   {
    "duration": 120,
    "start_time": "2021-10-31T18:11:34.154Z"
   },
   {
    "duration": 7,
    "start_time": "2021-10-31T18:11:34.277Z"
   },
   {
    "duration": 595,
    "start_time": "2021-10-31T18:11:34.287Z"
   },
   {
    "duration": 12,
    "start_time": "2021-10-31T18:25:48.335Z"
   },
   {
    "duration": 13,
    "start_time": "2021-10-31T18:26:52.144Z"
   },
   {
    "duration": 9090,
    "start_time": "2021-10-31T18:28:05.811Z"
   },
   {
    "duration": 704,
    "start_time": "2021-10-31T18:28:14.904Z"
   },
   {
    "duration": 1275,
    "start_time": "2021-10-31T18:28:15.611Z"
   },
   {
    "duration": 206,
    "start_time": "2021-10-31T18:28:16.889Z"
   },
   {
    "duration": 51,
    "start_time": "2021-10-31T18:28:17.098Z"
   },
   {
    "duration": 1489,
    "start_time": "2021-10-31T18:28:17.152Z"
   },
   {
    "duration": 31,
    "start_time": "2021-10-31T18:28:18.644Z"
   },
   {
    "duration": 606,
    "start_time": "2021-10-31T18:28:18.679Z"
   },
   {
    "duration": 9,
    "start_time": "2021-10-31T18:28:19.288Z"
   },
   {
    "duration": 36,
    "start_time": "2021-10-31T18:28:19.300Z"
   },
   {
    "duration": 113,
    "start_time": "2021-10-31T18:28:19.339Z"
   },
   {
    "duration": 577,
    "start_time": "2021-10-31T18:28:19.454Z"
   },
   {
    "duration": 97,
    "start_time": "2021-10-31T18:28:59.465Z"
   },
   {
    "duration": 558,
    "start_time": "2021-10-31T18:29:01.174Z"
   },
   {
    "duration": 19416,
    "start_time": "2021-11-01T05:31:19.727Z"
   },
   {
    "duration": 669,
    "start_time": "2021-11-01T05:31:39.145Z"
   },
   {
    "duration": 1212,
    "start_time": "2021-11-01T05:31:39.817Z"
   },
   {
    "duration": 186,
    "start_time": "2021-11-01T05:31:41.032Z"
   },
   {
    "duration": 36,
    "start_time": "2021-11-01T05:31:41.220Z"
   },
   {
    "duration": 1726,
    "start_time": "2021-11-01T05:31:41.259Z"
   },
   {
    "duration": 30,
    "start_time": "2021-11-01T05:31:42.987Z"
   },
   {
    "duration": 732,
    "start_time": "2021-11-01T05:31:43.020Z"
   },
   {
    "duration": 8,
    "start_time": "2021-11-01T05:31:43.756Z"
   },
   {
    "duration": 23,
    "start_time": "2021-11-01T05:31:43.767Z"
   },
   {
    "duration": 114,
    "start_time": "2021-11-01T05:31:43.792Z"
   },
   {
    "duration": 720,
    "start_time": "2021-11-01T05:31:43.908Z"
   },
   {
    "duration": 815,
    "start_time": "2021-11-01T05:32:06.303Z"
   },
   {
    "duration": 9,
    "start_time": "2021-11-01T05:35:33.951Z"
   },
   {
    "duration": 92,
    "start_time": "2021-11-01T05:35:41.808Z"
   },
   {
    "duration": 12,
    "start_time": "2021-11-01T05:35:50.742Z"
   },
   {
    "duration": 98,
    "start_time": "2021-11-01T05:37:13.474Z"
   },
   {
    "duration": 260,
    "start_time": "2021-11-01T05:38:10.865Z"
   },
   {
    "duration": 12,
    "start_time": "2021-11-01T05:38:21.587Z"
   },
   {
    "duration": 14,
    "start_time": "2021-11-01T05:38:45.840Z"
   },
   {
    "duration": 10,
    "start_time": "2021-11-01T05:39:11.937Z"
   },
   {
    "duration": 10,
    "start_time": "2021-11-01T05:39:14.509Z"
   },
   {
    "duration": 7758,
    "start_time": "2021-11-01T05:39:37.620Z"
   },
   {
    "duration": 668,
    "start_time": "2021-11-01T05:39:45.381Z"
   },
   {
    "duration": 1216,
    "start_time": "2021-11-01T05:39:46.052Z"
   },
   {
    "duration": 196,
    "start_time": "2021-11-01T05:39:47.271Z"
   },
   {
    "duration": 50,
    "start_time": "2021-11-01T05:39:47.469Z"
   },
   {
    "duration": 1812,
    "start_time": "2021-11-01T05:39:47.521Z"
   },
   {
    "duration": 29,
    "start_time": "2021-11-01T05:39:49.335Z"
   },
   {
    "duration": 738,
    "start_time": "2021-11-01T05:39:49.383Z"
   },
   {
    "duration": 9,
    "start_time": "2021-11-01T05:39:50.123Z"
   },
   {
    "duration": 11,
    "start_time": "2021-11-01T05:39:50.134Z"
   },
   {
    "duration": 38,
    "start_time": "2021-11-01T05:39:50.147Z"
   },
   {
    "duration": 10,
    "start_time": "2021-11-01T05:39:50.187Z"
   },
   {
    "duration": 750,
    "start_time": "2021-11-01T05:39:50.199Z"
   },
   {
    "duration": 98,
    "start_time": "2021-11-01T06:26:12.638Z"
   },
   {
    "duration": 754,
    "start_time": "2021-11-01T06:26:17.143Z"
   },
   {
    "duration": 8,
    "start_time": "2021-11-01T06:26:38.222Z"
   },
   {
    "duration": 9,
    "start_time": "2021-11-01T06:27:25.541Z"
   },
   {
    "duration": 8663,
    "start_time": "2021-11-01T06:27:36.538Z"
   },
   {
    "duration": 651,
    "start_time": "2021-11-01T06:27:45.204Z"
   },
   {
    "duration": 1349,
    "start_time": "2021-11-01T06:27:45.858Z"
   },
   {
    "duration": 191,
    "start_time": "2021-11-01T06:27:47.210Z"
   },
   {
    "duration": 36,
    "start_time": "2021-11-01T06:27:47.404Z"
   },
   {
    "duration": 2414,
    "start_time": "2021-11-01T06:27:47.442Z"
   },
   {
    "duration": 43,
    "start_time": "2021-11-01T06:27:49.859Z"
   },
   {
    "duration": 808,
    "start_time": "2021-11-01T06:27:49.905Z"
   },
   {
    "duration": 10,
    "start_time": "2021-11-01T06:27:50.716Z"
   },
   {
    "duration": 9,
    "start_time": "2021-11-01T06:27:50.728Z"
   },
   {
    "duration": 45,
    "start_time": "2021-11-01T06:27:50.739Z"
   },
   {
    "duration": 11,
    "start_time": "2021-11-01T06:27:50.786Z"
   },
   {
    "duration": 129,
    "start_time": "2021-11-01T06:27:50.799Z"
   },
   {
    "duration": 806,
    "start_time": "2021-11-01T06:27:50.931Z"
   },
   {
    "duration": 8701,
    "start_time": "2021-11-01T06:29:13.348Z"
   },
   {
    "duration": 676,
    "start_time": "2021-11-01T06:29:22.052Z"
   },
   {
    "duration": 1214,
    "start_time": "2021-11-01T06:29:22.731Z"
   },
   {
    "duration": 184,
    "start_time": "2021-11-01T06:29:23.947Z"
   },
   {
    "duration": 50,
    "start_time": "2021-11-01T06:29:24.133Z"
   },
   {
    "duration": 2086,
    "start_time": "2021-11-01T06:29:24.186Z"
   },
   {
    "duration": 39,
    "start_time": "2021-11-01T06:29:26.274Z"
   },
   {
    "duration": 759,
    "start_time": "2021-11-01T06:29:26.315Z"
   },
   {
    "duration": 9,
    "start_time": "2021-11-01T06:29:27.081Z"
   },
   {
    "duration": 13,
    "start_time": "2021-11-01T06:29:27.092Z"
   },
   {
    "duration": 9,
    "start_time": "2021-11-01T06:29:27.107Z"
   },
   {
    "duration": 9,
    "start_time": "2021-11-01T06:29:27.119Z"
   },
   {
    "duration": 142,
    "start_time": "2021-11-01T06:29:27.131Z"
   },
   {
    "duration": 753,
    "start_time": "2021-11-01T06:29:27.275Z"
   },
   {
    "duration": 109,
    "start_time": "2021-11-01T06:32:45.374Z"
   },
   {
    "duration": 34,
    "start_time": "2021-11-01T06:33:09.051Z"
   },
   {
    "duration": 15,
    "start_time": "2021-11-01T06:34:23.923Z"
   },
   {
    "duration": 9,
    "start_time": "2021-11-01T06:35:23.280Z"
   },
   {
    "duration": 10436,
    "start_time": "2021-11-01T06:35:31.671Z"
   },
   {
    "duration": 662,
    "start_time": "2021-11-01T06:35:42.110Z"
   },
   {
    "duration": 1375,
    "start_time": "2021-11-01T06:35:42.776Z"
   },
   {
    "duration": 201,
    "start_time": "2021-11-01T06:35:44.154Z"
   },
   {
    "duration": 49,
    "start_time": "2021-11-01T06:35:44.358Z"
   },
   {
    "duration": 2404,
    "start_time": "2021-11-01T06:35:44.411Z"
   },
   {
    "duration": 31,
    "start_time": "2021-11-01T06:35:46.818Z"
   },
   {
    "duration": 833,
    "start_time": "2021-11-01T06:35:46.852Z"
   },
   {
    "duration": 11,
    "start_time": "2021-11-01T06:35:47.688Z"
   },
   {
    "duration": 10,
    "start_time": "2021-11-01T06:35:47.701Z"
   },
   {
    "duration": 143,
    "start_time": "2021-11-01T06:35:47.713Z"
   },
   {
    "duration": 11,
    "start_time": "2021-11-01T06:35:47.858Z"
   },
   {
    "duration": 773,
    "start_time": "2021-11-01T06:35:47.872Z"
   },
   {
    "duration": 9,
    "start_time": "2021-11-01T06:37:23.007Z"
   },
   {
    "duration": 9,
    "start_time": "2021-11-01T06:37:45.717Z"
   },
   {
    "duration": 10216,
    "start_time": "2021-11-01T06:40:03.969Z"
   },
   {
    "duration": 697,
    "start_time": "2021-11-01T06:40:14.188Z"
   },
   {
    "duration": 1337,
    "start_time": "2021-11-01T06:40:14.888Z"
   },
   {
    "duration": 199,
    "start_time": "2021-11-01T06:40:16.228Z"
   },
   {
    "duration": 53,
    "start_time": "2021-11-01T06:40:16.429Z"
   },
   {
    "duration": 3751,
    "start_time": "2021-11-01T06:40:16.484Z"
   },
   {
    "duration": 52,
    "start_time": "2021-11-01T06:40:20.237Z"
   },
   {
    "duration": 836,
    "start_time": "2021-11-01T06:40:20.292Z"
   },
   {
    "duration": 9,
    "start_time": "2021-11-01T06:40:21.132Z"
   },
   {
    "duration": 9,
    "start_time": "2021-11-01T06:40:21.145Z"
   },
   {
    "duration": 129,
    "start_time": "2021-11-01T06:40:21.156Z"
   },
   {
    "duration": 3,
    "start_time": "2021-11-01T06:40:21.287Z"
   },
   {
    "duration": 864,
    "start_time": "2021-11-01T06:40:21.293Z"
   },
   {
    "duration": 7720,
    "start_time": "2021-11-01T06:41:26.147Z"
   },
   {
    "duration": 663,
    "start_time": "2021-11-01T06:41:33.869Z"
   },
   {
    "duration": 1213,
    "start_time": "2021-11-01T06:41:34.535Z"
   },
   {
    "duration": 179,
    "start_time": "2021-11-01T06:41:35.751Z"
   },
   {
    "duration": 34,
    "start_time": "2021-11-01T06:41:35.933Z"
   },
   {
    "duration": 2013,
    "start_time": "2021-11-01T06:41:35.983Z"
   },
   {
    "duration": 30,
    "start_time": "2021-11-01T06:41:37.998Z"
   },
   {
    "duration": 728,
    "start_time": "2021-11-01T06:41:38.031Z"
   },
   {
    "duration": 22,
    "start_time": "2021-11-01T06:41:38.761Z"
   },
   {
    "duration": 12,
    "start_time": "2021-11-01T06:41:38.785Z"
   },
   {
    "duration": 115,
    "start_time": "2021-11-01T06:41:38.799Z"
   },
   {
    "duration": 3,
    "start_time": "2021-11-01T06:41:38.917Z"
   },
   {
    "duration": 834,
    "start_time": "2021-11-01T06:41:38.922Z"
   },
   {
    "duration": 10,
    "start_time": "2021-11-01T06:42:14.550Z"
   },
   {
    "duration": 10459,
    "start_time": "2021-11-01T06:49:30.598Z"
   },
   {
    "duration": 669,
    "start_time": "2021-11-01T06:49:41.060Z"
   },
   {
    "duration": 1236,
    "start_time": "2021-11-01T06:49:41.732Z"
   },
   {
    "duration": 181,
    "start_time": "2021-11-01T06:49:42.971Z"
   },
   {
    "duration": 49,
    "start_time": "2021-11-01T06:49:43.154Z"
   },
   {
    "duration": 1783,
    "start_time": "2021-11-01T06:49:43.205Z"
   },
   {
    "duration": 29,
    "start_time": "2021-11-01T06:49:44.990Z"
   },
   {
    "duration": 751,
    "start_time": "2021-11-01T06:49:45.023Z"
   },
   {
    "duration": 9,
    "start_time": "2021-11-01T06:49:45.782Z"
   },
   {
    "duration": 13,
    "start_time": "2021-11-01T06:49:45.793Z"
   },
   {
    "duration": 129,
    "start_time": "2021-11-01T06:49:45.808Z"
   },
   {
    "duration": 3,
    "start_time": "2021-11-01T06:49:45.939Z"
   },
   {
    "duration": 737,
    "start_time": "2021-11-01T06:49:45.945Z"
   },
   {
    "duration": 12,
    "start_time": "2021-11-01T06:51:56.959Z"
   },
   {
    "duration": 40,
    "start_time": "2021-11-01T06:52:04.794Z"
   },
   {
    "duration": 31,
    "start_time": "2021-11-01T06:58:52.610Z"
   },
   {
    "duration": 14,
    "start_time": "2021-11-01T06:59:44.095Z"
   },
   {
    "duration": 63,
    "start_time": "2021-11-01T13:53:28.090Z"
   },
   {
    "duration": 24,
    "start_time": "2021-11-01T13:53:38.058Z"
   },
   {
    "duration": 29,
    "start_time": "2021-11-01T13:54:18.933Z"
   },
   {
    "duration": 33,
    "start_time": "2021-11-01T14:01:11.600Z"
   },
   {
    "duration": 7742,
    "start_time": "2021-11-01T14:01:29.162Z"
   },
   {
    "duration": 631,
    "start_time": "2021-11-01T14:01:36.906Z"
   },
   {
    "duration": 1214,
    "start_time": "2021-11-01T14:01:37.540Z"
   },
   {
    "duration": 189,
    "start_time": "2021-11-01T14:01:38.757Z"
   },
   {
    "duration": 49,
    "start_time": "2021-11-01T14:01:38.948Z"
   },
   {
    "duration": 1712,
    "start_time": "2021-11-01T14:01:38.999Z"
   },
   {
    "duration": 35,
    "start_time": "2021-11-01T14:01:40.714Z"
   },
   {
    "duration": 745,
    "start_time": "2021-11-01T14:01:40.754Z"
   },
   {
    "duration": 8,
    "start_time": "2021-11-01T14:01:41.502Z"
   },
   {
    "duration": 12,
    "start_time": "2021-11-01T14:01:41.513Z"
   },
   {
    "duration": 127,
    "start_time": "2021-11-01T14:01:41.527Z"
   },
   {
    "duration": 4,
    "start_time": "2021-11-01T14:01:41.656Z"
   },
   {
    "duration": 796,
    "start_time": "2021-11-01T14:01:41.663Z"
   },
   {
    "duration": 39,
    "start_time": "2021-11-01T14:01:42.461Z"
   },
   {
    "duration": 36,
    "start_time": "2021-11-01T14:01:42.502Z"
   },
   {
    "duration": 160,
    "start_time": "2021-11-01T14:04:49.856Z"
   },
   {
    "duration": 51,
    "start_time": "2021-11-01T14:05:15.272Z"
   },
   {
    "duration": 36,
    "start_time": "2021-11-01T14:05:29.837Z"
   },
   {
    "duration": 7889,
    "start_time": "2021-11-01T14:06:59.385Z"
   },
   {
    "duration": 668,
    "start_time": "2021-11-01T14:07:07.277Z"
   },
   {
    "duration": 1216,
    "start_time": "2021-11-01T14:07:07.948Z"
   },
   {
    "duration": 183,
    "start_time": "2021-11-01T14:07:09.166Z"
   },
   {
    "duration": 47,
    "start_time": "2021-11-01T14:07:09.352Z"
   },
   {
    "duration": 1709,
    "start_time": "2021-11-01T14:07:09.401Z"
   },
   {
    "duration": 30,
    "start_time": "2021-11-01T14:07:11.112Z"
   },
   {
    "duration": 729,
    "start_time": "2021-11-01T14:07:11.145Z"
   },
   {
    "duration": 8,
    "start_time": "2021-11-01T14:07:11.882Z"
   },
   {
    "duration": 18,
    "start_time": "2021-11-01T14:07:11.892Z"
   },
   {
    "duration": 114,
    "start_time": "2021-11-01T14:07:11.912Z"
   },
   {
    "duration": 3,
    "start_time": "2021-11-01T14:07:12.028Z"
   },
   {
    "duration": 738,
    "start_time": "2021-11-01T14:07:12.033Z"
   },
   {
    "duration": 31,
    "start_time": "2021-11-01T14:07:12.773Z"
   },
   {
    "duration": 40,
    "start_time": "2021-11-01T14:07:12.807Z"
   },
   {
    "duration": 45,
    "start_time": "2021-11-01T14:07:12.850Z"
   },
   {
    "duration": 8,
    "start_time": "2021-11-01T14:09:32.063Z"
   },
   {
    "duration": 7,
    "start_time": "2021-11-01T14:10:28.102Z"
   },
   {
    "duration": 6,
    "start_time": "2021-11-01T14:10:45.818Z"
   },
   {
    "duration": 8,
    "start_time": "2021-11-01T14:10:54.306Z"
   },
   {
    "duration": 385,
    "start_time": "2021-11-01T14:12:26.460Z"
   },
   {
    "duration": 376,
    "start_time": "2021-11-01T14:12:40.154Z"
   },
   {
    "duration": 55,
    "start_time": "2021-11-01T14:13:14.682Z"
   },
   {
    "duration": 28,
    "start_time": "2021-11-01T14:13:17.572Z"
   },
   {
    "duration": 30,
    "start_time": "2021-11-01T14:23:52.942Z"
   },
   {
    "duration": 158,
    "start_time": "2021-11-01T14:26:48.363Z"
   },
   {
    "duration": 28,
    "start_time": "2021-11-01T14:27:00.678Z"
   },
   {
    "duration": 294,
    "start_time": "2021-11-01T14:28:30.984Z"
   },
   {
    "duration": 157,
    "start_time": "2021-11-01T14:32:19.282Z"
   },
   {
    "duration": 31,
    "start_time": "2021-11-01T14:32:21.999Z"
   },
   {
    "duration": 7874,
    "start_time": "2021-11-01T14:32:34.892Z"
   },
   {
    "duration": 662,
    "start_time": "2021-11-01T14:32:42.769Z"
   },
   {
    "duration": 1248,
    "start_time": "2021-11-01T14:32:43.434Z"
   },
   {
    "duration": 181,
    "start_time": "2021-11-01T14:32:44.684Z"
   },
   {
    "duration": 44,
    "start_time": "2021-11-01T14:32:44.867Z"
   },
   {
    "duration": 1755,
    "start_time": "2021-11-01T14:32:44.913Z"
   },
   {
    "duration": 762,
    "start_time": "2021-11-01T14:32:46.671Z"
   },
   {
    "duration": 11,
    "start_time": "2021-11-01T14:32:47.437Z"
   },
   {
    "duration": 33,
    "start_time": "2021-11-01T14:32:47.450Z"
   },
   {
    "duration": 107,
    "start_time": "2021-11-01T14:32:47.486Z"
   },
   {
    "duration": 3,
    "start_time": "2021-11-01T14:32:47.596Z"
   },
   {
    "duration": 765,
    "start_time": "2021-11-01T14:32:47.601Z"
   },
   {
    "duration": 37,
    "start_time": "2021-11-01T14:32:48.369Z"
   },
   {
    "duration": 33,
    "start_time": "2021-11-01T14:32:48.409Z"
   },
   {
    "duration": 9,
    "start_time": "2021-11-01T14:32:48.444Z"
   },
   {
    "duration": 80,
    "start_time": "2021-11-01T14:32:48.482Z"
   },
   {
    "duration": 37,
    "start_time": "2021-11-01T14:32:48.565Z"
   },
   {
    "duration": 29,
    "start_time": "2021-11-01T14:32:48.605Z"
   },
   {
    "duration": 229,
    "start_time": "2021-11-01T14:32:48.636Z"
   },
   {
    "duration": 53,
    "start_time": "2021-11-01T14:32:48.867Z"
   },
   {
    "duration": 386,
    "start_time": "2021-11-01T14:33:22.044Z"
   },
   {
    "duration": 183,
    "start_time": "2021-11-01T14:33:28.506Z"
   },
   {
    "duration": 187,
    "start_time": "2021-11-01T14:33:37.369Z"
   },
   {
    "duration": 170,
    "start_time": "2021-11-01T14:33:45.137Z"
   },
   {
    "duration": 8,
    "start_time": "2021-11-01T14:37:19.039Z"
   },
   {
    "duration": 13,
    "start_time": "2021-11-01T14:40:38.236Z"
   },
   {
    "duration": 525,
    "start_time": "2021-11-01T14:41:06.635Z"
   },
   {
    "duration": 8,
    "start_time": "2021-11-01T14:41:29.310Z"
   },
   {
    "duration": 11,
    "start_time": "2021-11-01T14:41:34.554Z"
   },
   {
    "duration": 181,
    "start_time": "2021-11-01T14:49:08.307Z"
   },
   {
    "duration": 165,
    "start_time": "2021-11-01T14:49:20.988Z"
   },
   {
    "duration": 169,
    "start_time": "2021-11-01T14:52:58.753Z"
   },
   {
    "duration": 174,
    "start_time": "2021-11-01T14:53:08.059Z"
   },
   {
    "duration": 7811,
    "start_time": "2021-11-01T14:53:37.475Z"
   },
   {
    "duration": 642,
    "start_time": "2021-11-01T14:53:45.290Z"
   },
   {
    "duration": 1239,
    "start_time": "2021-11-01T14:53:45.934Z"
   },
   {
    "duration": 197,
    "start_time": "2021-11-01T14:53:47.176Z"
   },
   {
    "duration": 37,
    "start_time": "2021-11-01T14:53:47.376Z"
   },
   {
    "duration": 2237,
    "start_time": "2021-11-01T14:53:47.415Z"
   },
   {
    "duration": 747,
    "start_time": "2021-11-01T14:53:49.655Z"
   },
   {
    "duration": 8,
    "start_time": "2021-11-01T14:53:50.406Z"
   },
   {
    "duration": 12,
    "start_time": "2021-11-01T14:53:50.417Z"
   },
   {
    "duration": 129,
    "start_time": "2021-11-01T14:53:50.432Z"
   },
   {
    "duration": 3,
    "start_time": "2021-11-01T14:53:50.563Z"
   },
   {
    "duration": 809,
    "start_time": "2021-11-01T14:53:50.568Z"
   },
   {
    "duration": 28,
    "start_time": "2021-11-01T14:53:51.381Z"
   },
   {
    "duration": 33,
    "start_time": "2021-11-01T14:53:51.411Z"
   },
   {
    "duration": 7,
    "start_time": "2021-11-01T14:53:51.446Z"
   },
   {
    "duration": 104,
    "start_time": "2021-11-01T14:53:51.455Z"
   },
   {
    "duration": 46,
    "start_time": "2021-11-01T14:53:51.561Z"
   },
   {
    "duration": 29,
    "start_time": "2021-11-01T14:53:51.609Z"
   },
   {
    "duration": 186,
    "start_time": "2021-11-01T14:53:51.641Z"
   },
   {
    "duration": 173,
    "start_time": "2021-11-01T14:53:51.829Z"
   },
   {
    "duration": 7,
    "start_time": "2021-11-01T14:53:52.005Z"
   },
   {
    "duration": 200,
    "start_time": "2021-11-01T14:53:52.014Z"
   },
   {
    "duration": 173,
    "start_time": "2021-11-01T14:53:52.218Z"
   },
   {
    "duration": 189,
    "start_time": "2021-11-01T14:53:52.393Z"
   },
   {
    "duration": 177,
    "start_time": "2021-11-01T14:53:52.584Z"
   },
   {
    "duration": 7894,
    "start_time": "2021-11-01T14:54:19.146Z"
   },
   {
    "duration": 642,
    "start_time": "2021-11-01T14:54:27.043Z"
   },
   {
    "duration": 1287,
    "start_time": "2021-11-01T14:54:27.688Z"
   },
   {
    "duration": 187,
    "start_time": "2021-11-01T14:54:28.978Z"
   },
   {
    "duration": 38,
    "start_time": "2021-11-01T14:54:29.168Z"
   },
   {
    "duration": 1732,
    "start_time": "2021-11-01T14:54:29.209Z"
   },
   {
    "duration": 741,
    "start_time": "2021-11-01T14:54:30.944Z"
   },
   {
    "duration": 10,
    "start_time": "2021-11-01T14:54:31.688Z"
   },
   {
    "duration": 18,
    "start_time": "2021-11-01T14:54:31.701Z"
   },
   {
    "duration": 119,
    "start_time": "2021-11-01T14:54:31.722Z"
   },
   {
    "duration": 3,
    "start_time": "2021-11-01T14:54:31.844Z"
   },
   {
    "duration": 1006,
    "start_time": "2021-11-01T14:54:31.850Z"
   },
   {
    "duration": 36,
    "start_time": "2021-11-01T14:54:32.859Z"
   },
   {
    "duration": 36,
    "start_time": "2021-11-01T14:54:32.898Z"
   },
   {
    "duration": 8,
    "start_time": "2021-11-01T14:54:32.936Z"
   },
   {
    "duration": 101,
    "start_time": "2021-11-01T14:54:32.947Z"
   },
   {
    "duration": 39,
    "start_time": "2021-11-01T14:54:33.050Z"
   },
   {
    "duration": 32,
    "start_time": "2021-11-01T14:54:33.091Z"
   },
   {
    "duration": 190,
    "start_time": "2021-11-01T14:54:33.125Z"
   },
   {
    "duration": 175,
    "start_time": "2021-11-01T14:54:33.317Z"
   },
   {
    "duration": 12,
    "start_time": "2021-11-01T14:54:33.494Z"
   },
   {
    "duration": 199,
    "start_time": "2021-11-01T14:54:33.508Z"
   },
   {
    "duration": 173,
    "start_time": "2021-11-01T14:54:33.711Z"
   },
   {
    "duration": 179,
    "start_time": "2021-11-01T14:54:33.887Z"
   },
   {
    "duration": 170,
    "start_time": "2021-11-01T14:54:34.068Z"
   },
   {
    "duration": 534,
    "start_time": "2021-11-01T15:05:48.529Z"
   },
   {
    "duration": 764,
    "start_time": "2021-11-01T15:07:05.181Z"
   },
   {
    "duration": 12,
    "start_time": "2021-11-01T15:08:39.701Z"
   },
   {
    "duration": 32,
    "start_time": "2021-11-01T15:09:56.375Z"
   },
   {
    "duration": 13,
    "start_time": "2021-11-01T15:15:41.904Z"
   },
   {
    "duration": 33,
    "start_time": "2021-11-01T15:15:49.511Z"
   },
   {
    "duration": 13,
    "start_time": "2021-11-01T15:17:22.893Z"
   },
   {
    "duration": 8648,
    "start_time": "2021-11-01T16:00:43.544Z"
   },
   {
    "duration": 700,
    "start_time": "2021-11-01T16:00:52.194Z"
   },
   {
    "duration": 1250,
    "start_time": "2021-11-01T16:00:52.898Z"
   },
   {
    "duration": 195,
    "start_time": "2021-11-01T16:00:54.151Z"
   },
   {
    "duration": 48,
    "start_time": "2021-11-01T16:00:54.348Z"
   },
   {
    "duration": 1777,
    "start_time": "2021-11-01T16:00:54.399Z"
   },
   {
    "duration": 780,
    "start_time": "2021-11-01T16:00:56.178Z"
   },
   {
    "duration": 23,
    "start_time": "2021-11-01T16:00:56.961Z"
   },
   {
    "duration": 12,
    "start_time": "2021-11-01T16:00:56.988Z"
   },
   {
    "duration": 123,
    "start_time": "2021-11-01T16:00:57.003Z"
   },
   {
    "duration": 2,
    "start_time": "2021-11-01T16:00:57.130Z"
   },
   {
    "duration": 887,
    "start_time": "2021-11-01T16:00:57.135Z"
   },
   {
    "duration": 30,
    "start_time": "2021-11-01T16:00:58.024Z"
   },
   {
    "duration": 50,
    "start_time": "2021-11-01T16:00:58.057Z"
   },
   {
    "duration": 8,
    "start_time": "2021-11-01T16:00:58.110Z"
   },
   {
    "duration": 107,
    "start_time": "2021-11-01T16:00:58.120Z"
   },
   {
    "duration": 29,
    "start_time": "2021-11-01T16:00:58.230Z"
   },
   {
    "duration": 30,
    "start_time": "2021-11-01T16:00:58.282Z"
   },
   {
    "duration": 187,
    "start_time": "2021-11-01T16:00:58.315Z"
   },
   {
    "duration": 187,
    "start_time": "2021-11-01T16:00:58.504Z"
   },
   {
    "duration": 7,
    "start_time": "2021-11-01T16:00:58.693Z"
   },
   {
    "duration": 202,
    "start_time": "2021-11-01T16:00:58.702Z"
   },
   {
    "duration": 187,
    "start_time": "2021-11-01T16:00:58.908Z"
   },
   {
    "duration": 193,
    "start_time": "2021-11-01T16:00:59.098Z"
   },
   {
    "duration": 187,
    "start_time": "2021-11-01T16:00:59.294Z"
   },
   {
    "duration": 783,
    "start_time": "2021-11-01T16:00:59.484Z"
   },
   {
    "duration": 21,
    "start_time": "2021-11-01T16:01:00.269Z"
   },
   {
    "duration": 30,
    "start_time": "2021-11-01T16:01:00.293Z"
   },
   {
    "duration": 94,
    "start_time": "2021-11-01T16:18:48.197Z"
   },
   {
    "duration": 35,
    "start_time": "2021-11-01T16:19:14.423Z"
   },
   {
    "duration": 21570,
    "start_time": "2021-11-03T09:30:37.918Z"
   },
   {
    "duration": 699,
    "start_time": "2021-11-03T09:30:59.491Z"
   },
   {
    "duration": 1332,
    "start_time": "2021-11-03T09:31:00.193Z"
   },
   {
    "duration": 203,
    "start_time": "2021-11-03T09:31:01.527Z"
   },
   {
    "duration": 65,
    "start_time": "2021-11-03T09:31:01.732Z"
   },
   {
    "duration": 2272,
    "start_time": "2021-11-03T09:31:01.799Z"
   },
   {
    "duration": 804,
    "start_time": "2021-11-03T09:31:04.074Z"
   },
   {
    "duration": 9,
    "start_time": "2021-11-03T09:31:04.883Z"
   },
   {
    "duration": 13,
    "start_time": "2021-11-03T09:31:04.895Z"
   },
   {
    "duration": 134,
    "start_time": "2021-11-03T09:31:04.910Z"
   },
   {
    "duration": 3,
    "start_time": "2021-11-03T09:31:05.046Z"
   },
   {
    "duration": 840,
    "start_time": "2021-11-03T09:31:05.052Z"
   },
   {
    "duration": 29,
    "start_time": "2021-11-03T09:31:05.895Z"
   },
   {
    "duration": 56,
    "start_time": "2021-11-03T09:31:05.926Z"
   },
   {
    "duration": 8,
    "start_time": "2021-11-03T09:31:05.985Z"
   },
   {
    "duration": 100,
    "start_time": "2021-11-03T09:31:05.995Z"
   },
   {
    "duration": 31,
    "start_time": "2021-11-03T09:31:06.097Z"
   },
   {
    "duration": 61,
    "start_time": "2021-11-03T09:31:06.131Z"
   },
   {
    "duration": 196,
    "start_time": "2021-11-03T09:31:06.195Z"
   },
   {
    "duration": 191,
    "start_time": "2021-11-03T09:31:06.393Z"
   },
   {
    "duration": 8,
    "start_time": "2021-11-03T09:31:06.586Z"
   },
   {
    "duration": 226,
    "start_time": "2021-11-03T09:31:06.597Z"
   },
   {
    "duration": 184,
    "start_time": "2021-11-03T09:31:06.828Z"
   },
   {
    "duration": 211,
    "start_time": "2021-11-03T09:31:07.014Z"
   },
   {
    "duration": 186,
    "start_time": "2021-11-03T09:31:07.228Z"
   },
   {
    "duration": 831,
    "start_time": "2021-11-03T09:31:07.417Z"
   },
   {
    "duration": 22,
    "start_time": "2021-11-03T09:31:08.251Z"
   },
   {
    "duration": 39,
    "start_time": "2021-11-03T09:31:08.276Z"
   },
   {
    "duration": 33,
    "start_time": "2021-11-03T09:36:47.207Z"
   },
   {
    "duration": 83,
    "start_time": "2021-11-03T09:43:38.316Z"
   },
   {
    "duration": 91,
    "start_time": "2021-11-03T09:45:20.320Z"
   },
   {
    "duration": 55,
    "start_time": "2021-11-03T09:45:31.020Z"
   },
   {
    "duration": 24,
    "start_time": "2021-11-03T09:46:58.275Z"
   },
   {
    "duration": 15,
    "start_time": "2021-11-03T09:47:40.564Z"
   },
   {
    "duration": 80,
    "start_time": "2021-11-03T09:50:54.422Z"
   },
   {
    "duration": 509,
    "start_time": "2021-11-03T09:51:14.492Z"
   },
   {
    "duration": 824,
    "start_time": "2021-11-03T09:51:35.129Z"
   },
   {
    "duration": 41,
    "start_time": "2021-11-03T10:10:59.658Z"
   },
   {
    "duration": 13,
    "start_time": "2021-11-03T10:11:15.337Z"
   },
   {
    "duration": 9631,
    "start_time": "2021-11-03T10:11:53.403Z"
   },
   {
    "duration": 794,
    "start_time": "2021-11-03T10:12:03.037Z"
   },
   {
    "duration": 1334,
    "start_time": "2021-11-03T10:12:03.834Z"
   },
   {
    "duration": 216,
    "start_time": "2021-11-03T10:12:05.171Z"
   },
   {
    "duration": 38,
    "start_time": "2021-11-03T10:12:05.390Z"
   },
   {
    "duration": 2122,
    "start_time": "2021-11-03T10:12:05.431Z"
   },
   {
    "duration": 855,
    "start_time": "2021-11-03T10:12:07.555Z"
   },
   {
    "duration": 10,
    "start_time": "2021-11-03T10:12:08.414Z"
   },
   {
    "duration": 39,
    "start_time": "2021-11-03T10:12:08.428Z"
   },
   {
    "duration": 114,
    "start_time": "2021-11-03T10:12:08.470Z"
   },
   {
    "duration": 4,
    "start_time": "2021-11-03T10:12:08.587Z"
   },
   {
    "duration": 846,
    "start_time": "2021-11-03T10:12:08.594Z"
   },
   {
    "duration": 49,
    "start_time": "2021-11-03T10:12:09.443Z"
   },
   {
    "duration": 34,
    "start_time": "2021-11-03T10:12:09.496Z"
   },
   {
    "duration": 8,
    "start_time": "2021-11-03T10:12:09.532Z"
   },
   {
    "duration": 95,
    "start_time": "2021-11-03T10:12:09.572Z"
   },
   {
    "duration": 32,
    "start_time": "2021-11-03T10:12:09.671Z"
   },
   {
    "duration": 28,
    "start_time": "2021-11-03T10:12:09.706Z"
   },
   {
    "duration": 216,
    "start_time": "2021-11-03T10:12:09.737Z"
   },
   {
    "duration": 188,
    "start_time": "2021-11-03T10:12:09.955Z"
   },
   {
    "duration": 27,
    "start_time": "2021-11-03T10:12:10.146Z"
   },
   {
    "duration": 223,
    "start_time": "2021-11-03T10:12:10.176Z"
   },
   {
    "duration": 208,
    "start_time": "2021-11-03T10:12:10.406Z"
   },
   {
    "duration": 206,
    "start_time": "2021-11-03T10:12:10.616Z"
   },
   {
    "duration": 188,
    "start_time": "2021-11-03T10:12:10.825Z"
   },
   {
    "duration": 993,
    "start_time": "2021-11-03T10:12:11.015Z"
   },
   {
    "duration": 13,
    "start_time": "2021-11-03T10:12:12.011Z"
   },
   {
    "duration": 51,
    "start_time": "2021-11-03T10:12:12.066Z"
   },
   {
    "duration": 80,
    "start_time": "2021-11-03T10:12:12.120Z"
   },
   {
    "duration": 108,
    "start_time": "2021-11-03T10:12:12.203Z"
   },
   {
    "duration": 64,
    "start_time": "2021-11-03T10:12:12.313Z"
   },
   {
    "duration": 57,
    "start_time": "2021-11-03T10:12:12.380Z"
   },
   {
    "duration": 4,
    "start_time": "2021-11-03T10:12:12.440Z"
   },
   {
    "duration": 872,
    "start_time": "2021-11-03T10:12:12.446Z"
   },
   {
    "duration": 937,
    "start_time": "2021-11-03T10:13:17.435Z"
   },
   {
    "duration": 421,
    "start_time": "2021-11-03T10:23:31.187Z"
   },
   {
    "duration": 547,
    "start_time": "2021-11-03T10:25:30.947Z"
   },
   {
    "duration": 177,
    "start_time": "2021-11-03T10:32:55.784Z"
   },
   {
    "duration": 175,
    "start_time": "2021-11-03T10:33:13.904Z"
   },
   {
    "duration": 260,
    "start_time": "2021-11-03T10:34:45.938Z"
   },
   {
    "duration": 175,
    "start_time": "2021-11-03T10:35:04.773Z"
   },
   {
    "duration": 532,
    "start_time": "2021-11-03T10:50:24.201Z"
   },
   {
    "duration": 3647,
    "start_time": "2021-11-03T10:55:20.609Z"
   },
   {
    "duration": 17,
    "start_time": "2021-11-03T11:06:16.800Z"
   },
   {
    "duration": 284,
    "start_time": "2021-11-03T11:58:16.032Z"
   },
   {
    "duration": 341,
    "start_time": "2021-11-03T11:59:34.256Z"
   },
   {
    "duration": 27,
    "start_time": "2021-11-03T16:07:13.845Z"
   },
   {
    "duration": 755,
    "start_time": "2021-11-03T16:07:27.920Z"
   },
   {
    "duration": 333,
    "start_time": "2021-11-03T16:08:10.548Z"
   },
   {
    "duration": 560,
    "start_time": "2021-11-03T16:08:25.510Z"
   },
   {
    "duration": 295,
    "start_time": "2021-11-03T16:08:39.463Z"
   },
   {
    "duration": 274,
    "start_time": "2021-11-03T16:09:02.522Z"
   },
   {
    "duration": 146,
    "start_time": "2021-11-03T16:10:04.562Z"
   },
   {
    "duration": 312,
    "start_time": "2021-11-03T16:10:12.226Z"
   },
   {
    "duration": 8602,
    "start_time": "2021-11-03T16:10:25.438Z"
   },
   {
    "duration": 1309,
    "start_time": "2021-11-03T16:10:34.043Z"
   },
   {
    "duration": 1442,
    "start_time": "2021-11-03T16:10:35.356Z"
   },
   {
    "duration": 194,
    "start_time": "2021-11-03T16:10:36.801Z"
   },
   {
    "duration": 37,
    "start_time": "2021-11-03T16:10:36.998Z"
   },
   {
    "duration": 1933,
    "start_time": "2021-11-03T16:10:37.038Z"
   },
   {
    "duration": 803,
    "start_time": "2021-11-03T16:10:38.973Z"
   },
   {
    "duration": 9,
    "start_time": "2021-11-03T16:10:39.780Z"
   },
   {
    "duration": 12,
    "start_time": "2021-11-03T16:10:39.792Z"
   },
   {
    "duration": 134,
    "start_time": "2021-11-03T16:10:39.806Z"
   },
   {
    "duration": 4,
    "start_time": "2021-11-03T16:10:39.943Z"
   },
   {
    "duration": 905,
    "start_time": "2021-11-03T16:10:39.949Z"
   },
   {
    "duration": 41,
    "start_time": "2021-11-03T16:10:40.857Z"
   },
   {
    "duration": 42,
    "start_time": "2021-11-03T16:10:40.901Z"
   },
   {
    "duration": 23,
    "start_time": "2021-11-03T16:10:40.946Z"
   },
   {
    "duration": 105,
    "start_time": "2021-11-03T16:10:40.972Z"
   },
   {
    "duration": 33,
    "start_time": "2021-11-03T16:10:41.080Z"
   },
   {
    "duration": 55,
    "start_time": "2021-11-03T16:10:41.116Z"
   },
   {
    "duration": 197,
    "start_time": "2021-11-03T16:10:41.174Z"
   },
   {
    "duration": 183,
    "start_time": "2021-11-03T16:10:41.374Z"
   },
   {
    "duration": 10,
    "start_time": "2021-11-03T16:10:41.568Z"
   },
   {
    "duration": 219,
    "start_time": "2021-11-03T16:10:41.582Z"
   },
   {
    "duration": 175,
    "start_time": "2021-11-03T16:10:41.806Z"
   },
   {
    "duration": 232,
    "start_time": "2021-11-03T16:10:41.984Z"
   },
   {
    "duration": 189,
    "start_time": "2021-11-03T16:10:42.219Z"
   },
   {
    "duration": 870,
    "start_time": "2021-11-03T16:10:42.412Z"
   },
   {
    "duration": 11,
    "start_time": "2021-11-03T16:10:43.286Z"
   },
   {
    "duration": 37,
    "start_time": "2021-11-03T16:10:43.300Z"
   },
   {
    "duration": 34,
    "start_time": "2021-11-03T16:10:43.367Z"
   },
   {
    "duration": 108,
    "start_time": "2021-11-03T16:10:43.404Z"
   },
   {
    "duration": 792,
    "start_time": "2021-11-03T16:10:43.515Z"
   },
   {
    "duration": 64,
    "start_time": "2021-11-03T16:10:44.309Z"
   },
   {
    "duration": 208,
    "start_time": "2021-11-03T16:10:44.375Z"
   },
   {
    "duration": 214,
    "start_time": "2021-11-03T16:10:44.586Z"
   },
   {
    "duration": 268,
    "start_time": "2021-11-03T16:10:44.812Z"
   },
   {
    "duration": 218,
    "start_time": "2021-11-03T16:10:45.083Z"
   },
   {
    "duration": 73,
    "start_time": "2021-11-03T16:10:45.305Z"
   },
   {
    "duration": 1206,
    "start_time": "2021-11-03T16:10:45.380Z"
   },
   {
    "duration": 144,
    "start_time": "2021-11-03T16:10:46.589Z"
   },
   {
    "duration": 452,
    "start_time": "2021-11-03T16:10:46.736Z"
   },
   {
    "duration": 15031,
    "start_time": "2021-11-03T16:12:25.905Z"
   },
   {
    "duration": 1932,
    "start_time": "2021-11-03T16:12:40.940Z"
   },
   {
    "duration": 2068,
    "start_time": "2021-11-03T16:12:42.876Z"
   },
   {
    "duration": 243,
    "start_time": "2021-11-03T16:12:44.948Z"
   },
   {
    "duration": 42,
    "start_time": "2021-11-03T16:12:45.194Z"
   },
   {
    "duration": 2000,
    "start_time": "2021-11-03T16:12:45.239Z"
   },
   {
    "duration": 769,
    "start_time": "2021-11-03T16:12:47.242Z"
   },
   {
    "duration": 10,
    "start_time": "2021-11-03T16:12:48.015Z"
   },
   {
    "duration": 43,
    "start_time": "2021-11-03T16:12:48.029Z"
   },
   {
    "duration": 128,
    "start_time": "2021-11-03T16:12:48.075Z"
   },
   {
    "duration": 4,
    "start_time": "2021-11-03T16:12:48.206Z"
   },
   {
    "duration": 921,
    "start_time": "2021-11-03T16:12:48.214Z"
   },
   {
    "duration": 38,
    "start_time": "2021-11-03T16:12:49.137Z"
   },
   {
    "duration": 49,
    "start_time": "2021-11-03T16:12:49.178Z"
   },
   {
    "duration": 40,
    "start_time": "2021-11-03T16:12:49.231Z"
   },
   {
    "duration": 117,
    "start_time": "2021-11-03T16:12:49.274Z"
   },
   {
    "duration": 45,
    "start_time": "2021-11-03T16:12:49.395Z"
   },
   {
    "duration": 68,
    "start_time": "2021-11-03T16:12:49.444Z"
   },
   {
    "duration": 198,
    "start_time": "2021-11-03T16:12:49.518Z"
   },
   {
    "duration": 189,
    "start_time": "2021-11-03T16:12:49.719Z"
   },
   {
    "duration": 11,
    "start_time": "2021-11-03T16:12:49.912Z"
   },
   {
    "duration": 333,
    "start_time": "2021-11-03T16:12:49.927Z"
   },
   {
    "duration": 297,
    "start_time": "2021-11-03T16:12:50.272Z"
   },
   {
    "duration": 310,
    "start_time": "2021-11-03T16:12:50.573Z"
   },
   {
    "duration": 189,
    "start_time": "2021-11-03T16:12:50.886Z"
   },
   {
    "duration": 1018,
    "start_time": "2021-11-03T16:12:51.079Z"
   },
   {
    "duration": 12,
    "start_time": "2021-11-03T16:12:52.099Z"
   },
   {
    "duration": 67,
    "start_time": "2021-11-03T16:12:52.113Z"
   },
   {
    "duration": 36,
    "start_time": "2021-11-03T16:12:52.182Z"
   },
   {
    "duration": 146,
    "start_time": "2021-11-03T16:12:52.221Z"
   },
   {
    "duration": 1270,
    "start_time": "2021-11-03T16:12:52.371Z"
   },
   {
    "duration": 58,
    "start_time": "2021-11-03T16:12:53.644Z"
   },
   {
    "duration": 206,
    "start_time": "2021-11-03T16:12:53.705Z"
   },
   {
    "duration": 174,
    "start_time": "2021-11-03T16:12:53.914Z"
   },
   {
    "duration": 277,
    "start_time": "2021-11-03T16:12:54.091Z"
   },
   {
    "duration": 176,
    "start_time": "2021-11-03T16:12:54.370Z"
   },
   {
    "duration": 56,
    "start_time": "2021-11-03T16:12:54.549Z"
   },
   {
    "duration": 798,
    "start_time": "2021-11-03T16:12:54.608Z"
   },
   {
    "duration": 125,
    "start_time": "2021-11-03T16:12:55.408Z"
   },
   {
    "duration": 69136,
    "start_time": "2021-11-03T16:12:55.536Z"
   },
   {
    "duration": 169,
    "start_time": "2021-11-03T16:17:04.772Z"
   },
   {
    "duration": 398,
    "start_time": "2021-11-03T16:17:17.772Z"
   },
   {
    "duration": 111,
    "start_time": "2021-11-03T16:18:13.496Z"
   },
   {
    "duration": 455752,
    "start_time": "2021-11-03T16:19:28.821Z"
   },
   {
    "duration": 15475,
    "start_time": "2021-11-03T16:31:53.423Z"
   },
   {
    "duration": 1481,
    "start_time": "2021-11-03T16:32:08.901Z"
   },
   {
    "duration": 1838,
    "start_time": "2021-11-03T16:32:10.386Z"
   },
   {
    "duration": 286,
    "start_time": "2021-11-03T16:32:12.227Z"
   },
   {
    "duration": 37,
    "start_time": "2021-11-03T16:32:12.515Z"
   },
   {
    "duration": 2267,
    "start_time": "2021-11-03T16:32:12.568Z"
   },
   {
    "duration": 1159,
    "start_time": "2021-11-03T16:32:14.838Z"
   },
   {
    "duration": 11,
    "start_time": "2021-11-03T16:32:16.002Z"
   },
   {
    "duration": 15,
    "start_time": "2021-11-03T16:32:16.017Z"
   },
   {
    "duration": 135,
    "start_time": "2021-11-03T16:32:16.035Z"
   },
   {
    "duration": 3,
    "start_time": "2021-11-03T16:32:16.173Z"
   },
   {
    "duration": 1436,
    "start_time": "2021-11-03T16:32:16.179Z"
   },
   {
    "duration": 57,
    "start_time": "2021-11-03T16:32:17.618Z"
   },
   {
    "duration": 42,
    "start_time": "2021-11-03T16:32:17.678Z"
   },
   {
    "duration": 11,
    "start_time": "2021-11-03T16:32:17.723Z"
   },
   {
    "duration": 100,
    "start_time": "2021-11-03T16:32:17.767Z"
   },
   {
    "duration": 40,
    "start_time": "2021-11-03T16:32:17.870Z"
   },
   {
    "duration": 65,
    "start_time": "2021-11-03T16:32:17.913Z"
   },
   {
    "duration": 276,
    "start_time": "2021-11-03T16:32:17.981Z"
   },
   {
    "duration": 268,
    "start_time": "2021-11-03T16:32:18.260Z"
   },
   {
    "duration": 10,
    "start_time": "2021-11-03T16:32:18.531Z"
   },
   {
    "duration": 217,
    "start_time": "2021-11-03T16:32:18.569Z"
   },
   {
    "duration": 193,
    "start_time": "2021-11-03T16:32:18.793Z"
   },
   {
    "duration": 241,
    "start_time": "2021-11-03T16:32:18.990Z"
   },
   {
    "duration": 270,
    "start_time": "2021-11-03T16:32:19.234Z"
   },
   {
    "duration": 1152,
    "start_time": "2021-11-03T16:32:19.506Z"
   },
   {
    "duration": 13,
    "start_time": "2021-11-03T16:32:20.668Z"
   },
   {
    "duration": 50,
    "start_time": "2021-11-03T16:32:20.684Z"
   },
   {
    "duration": 75,
    "start_time": "2021-11-03T16:32:20.737Z"
   },
   {
    "duration": 113,
    "start_time": "2021-11-03T16:32:20.816Z"
   },
   {
    "duration": 881,
    "start_time": "2021-11-03T16:32:20.933Z"
   },
   {
    "duration": 61,
    "start_time": "2021-11-03T16:32:21.819Z"
   },
   {
    "duration": 212,
    "start_time": "2021-11-03T16:32:21.883Z"
   },
   {
    "duration": 197,
    "start_time": "2021-11-03T16:32:22.097Z"
   },
   {
    "duration": 294,
    "start_time": "2021-11-03T16:32:22.297Z"
   },
   {
    "duration": 219,
    "start_time": "2021-11-03T16:32:22.594Z"
   },
   {
    "duration": 67,
    "start_time": "2021-11-03T16:32:22.816Z"
   },
   {
    "duration": 891,
    "start_time": "2021-11-03T16:32:22.885Z"
   },
   {
    "duration": 132,
    "start_time": "2021-11-03T16:32:23.780Z"
   },
   {
    "duration": 72801,
    "start_time": "2021-11-03T16:32:23.915Z"
   },
   {
    "duration": 4,
    "start_time": "2021-11-03T16:34:24.234Z"
   },
   {
    "duration": 12972,
    "start_time": "2021-11-03T16:36:31.963Z"
   },
   {
    "duration": 1382,
    "start_time": "2021-11-03T16:36:44.938Z"
   },
   {
    "duration": 1250,
    "start_time": "2021-11-03T16:36:46.323Z"
   },
   {
    "duration": 292,
    "start_time": "2021-11-03T16:36:47.578Z"
   },
   {
    "duration": 49,
    "start_time": "2021-11-03T16:36:47.873Z"
   },
   {
    "duration": 1811,
    "start_time": "2021-11-03T16:36:47.925Z"
   },
   {
    "duration": 900,
    "start_time": "2021-11-03T16:36:49.739Z"
   },
   {
    "duration": 27,
    "start_time": "2021-11-03T16:36:50.644Z"
   },
   {
    "duration": 17,
    "start_time": "2021-11-03T16:36:50.677Z"
   },
   {
    "duration": 130,
    "start_time": "2021-11-03T16:36:50.697Z"
   },
   {
    "duration": 4,
    "start_time": "2021-11-03T16:36:50.829Z"
   },
   {
    "duration": 878,
    "start_time": "2021-11-03T16:36:50.836Z"
   },
   {
    "duration": 31,
    "start_time": "2021-11-03T16:36:51.716Z"
   },
   {
    "duration": 55,
    "start_time": "2021-11-03T16:36:51.750Z"
   },
   {
    "duration": 9,
    "start_time": "2021-11-03T16:36:51.810Z"
   },
   {
    "duration": 102,
    "start_time": "2021-11-03T16:36:51.822Z"
   },
   {
    "duration": 50,
    "start_time": "2021-11-03T16:36:51.927Z"
   },
   {
    "duration": 34,
    "start_time": "2021-11-03T16:36:51.980Z"
   },
   {
    "duration": 201,
    "start_time": "2021-11-03T16:36:52.017Z"
   },
   {
    "duration": 192,
    "start_time": "2021-11-03T16:36:52.220Z"
   },
   {
    "duration": 8,
    "start_time": "2021-11-03T16:36:52.414Z"
   },
   {
    "duration": 221,
    "start_time": "2021-11-03T16:36:52.425Z"
   },
   {
    "duration": 194,
    "start_time": "2021-11-03T16:36:52.651Z"
   },
   {
    "duration": 217,
    "start_time": "2021-11-03T16:36:52.848Z"
   },
   {
    "duration": 181,
    "start_time": "2021-11-03T16:36:53.070Z"
   },
   {
    "duration": 807,
    "start_time": "2021-11-03T16:36:53.253Z"
   },
   {
    "duration": 20,
    "start_time": "2021-11-03T16:36:54.062Z"
   },
   {
    "duration": 37,
    "start_time": "2021-11-03T16:36:54.085Z"
   },
   {
    "duration": 68,
    "start_time": "2021-11-03T16:36:54.124Z"
   },
   {
    "duration": 107,
    "start_time": "2021-11-03T16:36:54.195Z"
   },
   {
    "duration": 809,
    "start_time": "2021-11-03T16:36:54.305Z"
   },
   {
    "duration": 59,
    "start_time": "2021-11-03T16:36:55.116Z"
   },
   {
    "duration": 201,
    "start_time": "2021-11-03T16:36:55.178Z"
   },
   {
    "duration": 187,
    "start_time": "2021-11-03T16:36:55.381Z"
   },
   {
    "duration": 261,
    "start_time": "2021-11-03T16:36:55.571Z"
   },
   {
    "duration": 188,
    "start_time": "2021-11-03T16:36:55.835Z"
   },
   {
    "duration": 68,
    "start_time": "2021-11-03T16:36:56.026Z"
   },
   {
    "duration": 810,
    "start_time": "2021-11-03T16:36:56.097Z"
   },
   {
    "duration": 117,
    "start_time": "2021-11-03T16:36:56.910Z"
   },
   {
    "duration": 770,
    "start_time": "2021-11-03T16:36:57.030Z"
   },
   {
    "duration": 65249,
    "start_time": "2021-11-03T16:37:36.520Z"
   },
   {
    "duration": 13238,
    "start_time": "2021-11-03T16:41:52.052Z"
   },
   {
    "duration": 13044,
    "start_time": "2021-11-03T16:44:57.274Z"
   },
   {
    "duration": 1366,
    "start_time": "2021-11-03T16:45:10.321Z"
   },
   {
    "duration": 1253,
    "start_time": "2021-11-03T16:45:11.691Z"
   },
   {
    "duration": 209,
    "start_time": "2021-11-03T16:45:12.946Z"
   },
   {
    "duration": 46,
    "start_time": "2021-11-03T16:45:13.158Z"
   },
   {
    "duration": 1824,
    "start_time": "2021-11-03T16:45:13.207Z"
   },
   {
    "duration": 802,
    "start_time": "2021-11-03T16:45:15.034Z"
   },
   {
    "duration": 8,
    "start_time": "2021-11-03T16:45:15.840Z"
   },
   {
    "duration": 26,
    "start_time": "2021-11-03T16:45:15.852Z"
   },
   {
    "duration": 112,
    "start_time": "2021-11-03T16:45:15.882Z"
   },
   {
    "duration": 4,
    "start_time": "2021-11-03T16:45:15.996Z"
   },
   {
    "duration": 893,
    "start_time": "2021-11-03T16:45:16.002Z"
   },
   {
    "duration": 33,
    "start_time": "2021-11-03T16:45:16.898Z"
   },
   {
    "duration": 65,
    "start_time": "2021-11-03T16:45:16.934Z"
   },
   {
    "duration": 10,
    "start_time": "2021-11-03T16:45:17.001Z"
   },
   {
    "duration": 104,
    "start_time": "2021-11-03T16:45:17.013Z"
   },
   {
    "duration": 49,
    "start_time": "2021-11-03T16:45:17.121Z"
   },
   {
    "duration": 38,
    "start_time": "2021-11-03T16:45:17.174Z"
   },
   {
    "duration": 206,
    "start_time": "2021-11-03T16:45:17.215Z"
   },
   {
    "duration": 184,
    "start_time": "2021-11-03T16:45:17.423Z"
   },
   {
    "duration": 11,
    "start_time": "2021-11-03T16:45:17.610Z"
   },
   {
    "duration": 226,
    "start_time": "2021-11-03T16:45:17.624Z"
   },
   {
    "duration": 191,
    "start_time": "2021-11-03T16:45:17.852Z"
   },
   {
    "duration": 287,
    "start_time": "2021-11-03T16:45:18.046Z"
   },
   {
    "duration": 266,
    "start_time": "2021-11-03T16:45:18.336Z"
   },
   {
    "duration": 816,
    "start_time": "2021-11-03T16:45:18.605Z"
   },
   {
    "duration": 11,
    "start_time": "2021-11-03T16:45:19.426Z"
   },
   {
    "duration": 63,
    "start_time": "2021-11-03T16:45:19.440Z"
   },
   {
    "duration": 33,
    "start_time": "2021-11-03T16:45:19.505Z"
   },
   {
    "duration": 101,
    "start_time": "2021-11-03T16:45:19.540Z"
   },
   {
    "duration": 811,
    "start_time": "2021-11-03T16:45:19.643Z"
   },
   {
    "duration": 53,
    "start_time": "2021-11-03T16:45:20.457Z"
   },
   {
    "duration": 210,
    "start_time": "2021-11-03T16:45:20.513Z"
   },
   {
    "duration": 192,
    "start_time": "2021-11-03T16:45:20.725Z"
   },
   {
    "duration": 290,
    "start_time": "2021-11-03T16:45:20.919Z"
   },
   {
    "duration": 189,
    "start_time": "2021-11-03T16:45:21.211Z"
   },
   {
    "duration": 42,
    "start_time": "2021-11-03T16:45:21.402Z"
   },
   {
    "duration": 671,
    "start_time": "2021-11-03T16:45:21.469Z"
   },
   {
    "duration": 110,
    "start_time": "2021-11-03T16:45:22.143Z"
   },
   {
    "duration": 12826,
    "start_time": "2021-11-03T16:45:22.256Z"
   },
   {
    "duration": 92436,
    "start_time": "2021-11-03T17:20:05.133Z"
   },
   {
    "duration": 94550,
    "start_time": "2021-11-03T17:27:40.720Z"
   },
   {
    "duration": 34898,
    "start_time": "2021-11-03T17:29:39.677Z"
   },
   {
    "duration": 82952,
    "start_time": "2021-11-03T17:30:21.929Z"
   },
   {
    "duration": 12915,
    "start_time": "2021-11-03T17:43:04.154Z"
   },
   {
    "duration": 1451,
    "start_time": "2021-11-03T17:43:17.072Z"
   },
   {
    "duration": 1274,
    "start_time": "2021-11-03T17:43:18.526Z"
   },
   {
    "duration": 207,
    "start_time": "2021-11-03T17:43:19.804Z"
   },
   {
    "duration": 57,
    "start_time": "2021-11-03T17:43:20.013Z"
   },
   {
    "duration": 2428,
    "start_time": "2021-11-03T17:43:20.072Z"
   },
   {
    "duration": 1085,
    "start_time": "2021-11-03T17:43:22.504Z"
   },
   {
    "duration": 13,
    "start_time": "2021-11-03T17:43:23.594Z"
   },
   {
    "duration": 13,
    "start_time": "2021-11-03T17:43:23.611Z"
   },
   {
    "duration": 128,
    "start_time": "2021-11-03T17:43:23.627Z"
   },
   {
    "duration": 12,
    "start_time": "2021-11-03T17:43:23.758Z"
   },
   {
    "duration": 894,
    "start_time": "2021-11-03T17:43:23.773Z"
   },
   {
    "duration": 30,
    "start_time": "2021-11-03T17:43:24.670Z"
   },
   {
    "duration": 41,
    "start_time": "2021-11-03T17:43:24.703Z"
   },
   {
    "duration": 26,
    "start_time": "2021-11-03T17:43:24.746Z"
   },
   {
    "duration": 96,
    "start_time": "2021-11-03T17:43:24.775Z"
   },
   {
    "duration": 34,
    "start_time": "2021-11-03T17:43:24.873Z"
   },
   {
    "duration": 58,
    "start_time": "2021-11-03T17:43:24.910Z"
   },
   {
    "duration": 505,
    "start_time": "2021-11-03T17:43:24.970Z"
   },
   {
    "duration": -22,
    "start_time": "2021-11-03T17:43:25.500Z"
   },
   {
    "duration": -24,
    "start_time": "2021-11-03T17:43:25.504Z"
   },
   {
    "duration": -28,
    "start_time": "2021-11-03T17:43:25.510Z"
   },
   {
    "duration": -40,
    "start_time": "2021-11-03T17:43:25.523Z"
   },
   {
    "duration": -47,
    "start_time": "2021-11-03T17:43:25.532Z"
   },
   {
    "duration": -53,
    "start_time": "2021-11-03T17:43:25.540Z"
   },
   {
    "duration": -59,
    "start_time": "2021-11-03T17:43:25.547Z"
   },
   {
    "duration": -72,
    "start_time": "2021-11-03T17:43:25.562Z"
   },
   {
    "duration": -73,
    "start_time": "2021-11-03T17:43:25.565Z"
   },
   {
    "duration": -75,
    "start_time": "2021-11-03T17:43:25.569Z"
   },
   {
    "duration": -77,
    "start_time": "2021-11-03T17:43:25.573Z"
   },
   {
    "duration": -89,
    "start_time": "2021-11-03T17:43:25.586Z"
   },
   {
    "duration": -93,
    "start_time": "2021-11-03T17:43:25.591Z"
   },
   {
    "duration": -102,
    "start_time": "2021-11-03T17:43:25.601Z"
   },
   {
    "duration": -104,
    "start_time": "2021-11-03T17:43:25.604Z"
   },
   {
    "duration": -109,
    "start_time": "2021-11-03T17:43:25.610Z"
   },
   {
    "duration": -115,
    "start_time": "2021-11-03T17:43:25.618Z"
   },
   {
    "duration": -120,
    "start_time": "2021-11-03T17:43:25.623Z"
   },
   {
    "duration": -129,
    "start_time": "2021-11-03T17:43:25.633Z"
   },
   {
    "duration": -134,
    "start_time": "2021-11-03T17:43:25.640Z"
   },
   {
    "duration": -137,
    "start_time": "2021-11-03T17:43:25.644Z"
   },
   {
    "duration": 23073,
    "start_time": "2021-11-04T06:38:38.353Z"
   },
   {
    "duration": 1275,
    "start_time": "2021-11-04T06:39:01.428Z"
   },
   {
    "duration": 1271,
    "start_time": "2021-11-04T06:39:02.706Z"
   },
   {
    "duration": 190,
    "start_time": "2021-11-04T06:39:03.981Z"
   },
   {
    "duration": 54,
    "start_time": "2021-11-04T06:39:04.174Z"
   },
   {
    "duration": 1667,
    "start_time": "2021-11-04T06:39:04.230Z"
   },
   {
    "duration": 728,
    "start_time": "2021-11-04T06:39:05.899Z"
   },
   {
    "duration": 10,
    "start_time": "2021-11-04T06:39:06.631Z"
   },
   {
    "duration": 12,
    "start_time": "2021-11-04T06:39:06.645Z"
   },
   {
    "duration": 134,
    "start_time": "2021-11-04T06:39:06.660Z"
   },
   {
    "duration": 3,
    "start_time": "2021-11-04T06:39:06.796Z"
   },
   {
    "duration": 821,
    "start_time": "2021-11-04T06:39:06.801Z"
   },
   {
    "duration": 27,
    "start_time": "2021-11-04T06:39:07.625Z"
   },
   {
    "duration": 33,
    "start_time": "2021-11-04T06:39:07.655Z"
   },
   {
    "duration": 32,
    "start_time": "2021-11-04T06:39:07.690Z"
   },
   {
    "duration": 76,
    "start_time": "2021-11-04T06:39:07.725Z"
   },
   {
    "duration": 42,
    "start_time": "2021-11-04T06:39:07.804Z"
   },
   {
    "duration": 29,
    "start_time": "2021-11-04T06:39:07.848Z"
   },
   {
    "duration": 189,
    "start_time": "2021-11-04T06:39:07.880Z"
   },
   {
    "duration": 165,
    "start_time": "2021-11-04T06:39:08.072Z"
   },
   {
    "duration": 8,
    "start_time": "2021-11-04T06:39:08.239Z"
   },
   {
    "duration": 191,
    "start_time": "2021-11-04T06:39:08.249Z"
   },
   {
    "duration": 260,
    "start_time": "2021-11-04T06:39:08.445Z"
   },
   {
    "duration": 278,
    "start_time": "2021-11-04T06:39:08.709Z"
   },
   {
    "duration": 176,
    "start_time": "2021-11-04T06:39:08.990Z"
   },
   {
    "duration": 779,
    "start_time": "2021-11-04T06:39:09.168Z"
   },
   {
    "duration": 11,
    "start_time": "2021-11-04T06:39:09.950Z"
   },
   {
    "duration": 33,
    "start_time": "2021-11-04T06:39:09.964Z"
   },
   {
    "duration": 32,
    "start_time": "2021-11-04T06:39:10.023Z"
   },
   {
    "duration": 108,
    "start_time": "2021-11-04T06:39:10.057Z"
   },
   {
    "duration": 736,
    "start_time": "2021-11-04T06:39:10.168Z"
   },
   {
    "duration": 62,
    "start_time": "2021-11-04T06:39:10.906Z"
   },
   {
    "duration": 202,
    "start_time": "2021-11-04T06:39:10.971Z"
   },
   {
    "duration": 161,
    "start_time": "2021-11-04T06:39:11.176Z"
   },
   {
    "duration": 252,
    "start_time": "2021-11-04T06:39:11.339Z"
   },
   {
    "duration": 173,
    "start_time": "2021-11-04T06:39:11.593Z"
   },
   {
    "duration": 59,
    "start_time": "2021-11-04T06:39:11.769Z"
   },
   {
    "duration": 588,
    "start_time": "2021-11-04T06:39:11.831Z"
   },
   {
    "duration": 118,
    "start_time": "2021-11-04T06:39:12.423Z"
   },
   {
    "duration": 19307,
    "start_time": "2021-11-04T06:39:12.543Z"
   },
   {
    "duration": 11047,
    "start_time": "2021-11-04T06:44:38.075Z"
   },
   {
    "duration": 1273,
    "start_time": "2021-11-04T06:44:49.125Z"
   },
   {
    "duration": 1185,
    "start_time": "2021-11-04T06:44:50.401Z"
   },
   {
    "duration": 191,
    "start_time": "2021-11-04T06:44:51.589Z"
   },
   {
    "duration": 52,
    "start_time": "2021-11-04T06:44:51.784Z"
   },
   {
    "duration": 1611,
    "start_time": "2021-11-04T06:44:51.840Z"
   },
   {
    "duration": 733,
    "start_time": "2021-11-04T06:44:53.453Z"
   },
   {
    "duration": 8,
    "start_time": "2021-11-04T06:44:54.188Z"
   },
   {
    "duration": 29,
    "start_time": "2021-11-04T06:44:54.200Z"
   },
   {
    "duration": 112,
    "start_time": "2021-11-04T06:44:54.232Z"
   },
   {
    "duration": 3,
    "start_time": "2021-11-04T06:44:54.346Z"
   },
   {
    "duration": 831,
    "start_time": "2021-11-04T06:44:54.351Z"
   },
   {
    "duration": 27,
    "start_time": "2021-11-04T06:44:55.185Z"
   },
   {
    "duration": 30,
    "start_time": "2021-11-04T06:44:55.223Z"
   },
   {
    "duration": 8,
    "start_time": "2021-11-04T06:44:55.255Z"
   },
   {
    "duration": 113,
    "start_time": "2021-11-04T06:44:55.266Z"
   },
   {
    "duration": 28,
    "start_time": "2021-11-04T06:44:55.381Z"
   },
   {
    "duration": 37,
    "start_time": "2021-11-04T06:44:55.411Z"
   },
   {
    "duration": 179,
    "start_time": "2021-11-04T06:44:55.451Z"
   },
   {
    "duration": 166,
    "start_time": "2021-11-04T06:44:55.632Z"
   },
   {
    "duration": 23,
    "start_time": "2021-11-04T06:44:55.800Z"
   },
   {
    "duration": 197,
    "start_time": "2021-11-04T06:44:55.825Z"
   },
   {
    "duration": 169,
    "start_time": "2021-11-04T06:44:56.024Z"
   },
   {
    "duration": 189,
    "start_time": "2021-11-04T06:44:56.196Z"
   },
   {
    "duration": 168,
    "start_time": "2021-11-04T06:44:56.388Z"
   },
   {
    "duration": 756,
    "start_time": "2021-11-04T06:44:56.559Z"
   },
   {
    "duration": 11,
    "start_time": "2021-11-04T06:44:57.326Z"
   },
   {
    "duration": 36,
    "start_time": "2021-11-04T06:44:57.340Z"
   },
   {
    "duration": 63,
    "start_time": "2021-11-04T06:44:57.378Z"
   },
   {
    "duration": 94,
    "start_time": "2021-11-04T06:44:57.443Z"
   },
   {
    "duration": 736,
    "start_time": "2021-11-04T06:44:57.539Z"
   },
   {
    "duration": 56,
    "start_time": "2021-11-04T06:44:58.278Z"
   },
   {
    "duration": 186,
    "start_time": "2021-11-04T06:44:58.336Z"
   },
   {
    "duration": 162,
    "start_time": "2021-11-04T06:44:58.525Z"
   },
   {
    "duration": 261,
    "start_time": "2021-11-04T06:44:58.690Z"
   },
   {
    "duration": 178,
    "start_time": "2021-11-04T06:44:58.954Z"
   },
   {
    "duration": 44,
    "start_time": "2021-11-04T06:44:59.135Z"
   },
   {
    "duration": 602,
    "start_time": "2021-11-04T06:44:59.181Z"
   },
   {
    "duration": 110,
    "start_time": "2021-11-04T06:44:59.786Z"
   },
   {
    "duration": 22643,
    "start_time": "2021-11-04T06:44:59.899Z"
   },
   {
    "duration": 25250,
    "start_time": "2021-11-04T06:46:07.173Z"
   },
   {
    "duration": 71997,
    "start_time": "2021-11-04T06:48:22.426Z"
   },
   {
    "duration": 24626,
    "start_time": "2021-11-04T06:51:27.707Z"
   },
   {
    "duration": 17855,
    "start_time": "2021-11-04T06:52:09.378Z"
   },
   {
    "duration": 31167,
    "start_time": "2021-11-04T06:52:39.371Z"
   },
   {
    "duration": 6560,
    "start_time": "2021-11-04T06:53:57.665Z"
   },
   {
    "duration": 13987,
    "start_time": "2021-11-04T06:54:15.345Z"
   },
   {
    "duration": 266,
    "start_time": "2021-11-04T06:57:19.643Z"
   },
   {
    "duration": 314,
    "start_time": "2021-11-04T06:57:33.179Z"
   },
   {
    "duration": 268,
    "start_time": "2021-11-04T06:58:08.326Z"
   },
   {
    "duration": 18771,
    "start_time": "2021-11-04T06:58:44.559Z"
   },
   {
    "duration": 13538,
    "start_time": "2021-11-04T06:59:15.114Z"
   },
   {
    "duration": 828,
    "start_time": "2021-11-04T07:00:11.976Z"
   },
   {
    "duration": 22533,
    "start_time": "2021-11-04T07:00:28.010Z"
   },
   {
    "duration": 20546,
    "start_time": "2021-11-04T07:01:50.988Z"
   },
   {
    "duration": 25827,
    "start_time": "2021-11-04T07:02:22.315Z"
   },
   {
    "duration": 11608,
    "start_time": "2021-11-04T07:08:16.400Z"
   },
   {
    "duration": 1301,
    "start_time": "2021-11-04T07:08:28.011Z"
   },
   {
    "duration": 1274,
    "start_time": "2021-11-04T07:08:29.315Z"
   },
   {
    "duration": 209,
    "start_time": "2021-11-04T07:08:30.593Z"
   },
   {
    "duration": 50,
    "start_time": "2021-11-04T07:08:30.806Z"
   },
   {
    "duration": 1690,
    "start_time": "2021-11-04T07:08:30.859Z"
   },
   {
    "duration": 893,
    "start_time": "2021-11-04T07:08:32.552Z"
   },
   {
    "duration": 9,
    "start_time": "2021-11-04T07:08:33.448Z"
   },
   {
    "duration": 12,
    "start_time": "2021-11-04T07:08:33.460Z"
   },
   {
    "duration": 131,
    "start_time": "2021-11-04T07:08:33.474Z"
   },
   {
    "duration": 2,
    "start_time": "2021-11-04T07:08:33.608Z"
   },
   {
    "duration": 874,
    "start_time": "2021-11-04T07:08:33.613Z"
   },
   {
    "duration": 38,
    "start_time": "2021-11-04T07:08:34.490Z"
   },
   {
    "duration": 34,
    "start_time": "2021-11-04T07:08:34.531Z"
   },
   {
    "duration": 8,
    "start_time": "2021-11-04T07:08:34.568Z"
   },
   {
    "duration": 118,
    "start_time": "2021-11-04T07:08:34.579Z"
   },
   {
    "duration": 37,
    "start_time": "2021-11-04T07:08:34.699Z"
   },
   {
    "duration": 31,
    "start_time": "2021-11-04T07:08:34.738Z"
   },
   {
    "duration": 203,
    "start_time": "2021-11-04T07:08:34.772Z"
   },
   {
    "duration": 187,
    "start_time": "2021-11-04T07:08:34.977Z"
   },
   {
    "duration": 10,
    "start_time": "2021-11-04T07:08:35.167Z"
   },
   {
    "duration": 215,
    "start_time": "2021-11-04T07:08:35.180Z"
   },
   {
    "duration": 180,
    "start_time": "2021-11-04T07:08:35.402Z"
   },
   {
    "duration": 202,
    "start_time": "2021-11-04T07:08:35.586Z"
   },
   {
    "duration": 180,
    "start_time": "2021-11-04T07:08:35.790Z"
   },
   {
    "duration": 891,
    "start_time": "2021-11-04T07:08:35.973Z"
   },
   {
    "duration": 11,
    "start_time": "2021-11-04T07:08:36.867Z"
   },
   {
    "duration": 65,
    "start_time": "2021-11-04T07:08:36.880Z"
   },
   {
    "duration": 32,
    "start_time": "2021-11-04T07:08:36.948Z"
   },
   {
    "duration": 113,
    "start_time": "2021-11-04T07:08:36.983Z"
   },
   {
    "duration": 839,
    "start_time": "2021-11-04T07:08:37.099Z"
   },
   {
    "duration": 46,
    "start_time": "2021-11-04T07:08:37.940Z"
   },
   {
    "duration": 204,
    "start_time": "2021-11-04T07:08:37.988Z"
   },
   {
    "duration": 179,
    "start_time": "2021-11-04T07:08:38.194Z"
   },
   {
    "duration": 274,
    "start_time": "2021-11-04T07:08:38.375Z"
   },
   {
    "duration": 186,
    "start_time": "2021-11-04T07:08:38.652Z"
   },
   {
    "duration": 48,
    "start_time": "2021-11-04T07:08:38.840Z"
   },
   {
    "duration": 427,
    "start_time": "2021-11-04T07:08:38.891Z"
   },
   {
    "duration": 35,
    "start_time": "2021-11-04T07:08:39.287Z"
   },
   {
    "duration": 31,
    "start_time": "2021-11-04T07:08:39.293Z"
   },
   {
    "duration": 741,
    "start_time": "2021-11-04T07:08:59.065Z"
   },
   {
    "duration": 109,
    "start_time": "2021-11-04T07:09:03.541Z"
   },
   {
    "duration": 46680,
    "start_time": "2021-11-04T07:09:11.566Z"
   },
   {
    "duration": 11997,
    "start_time": "2021-11-04T07:14:16.744Z"
   },
   {
    "duration": 1346,
    "start_time": "2021-11-04T07:14:28.744Z"
   },
   {
    "duration": 1398,
    "start_time": "2021-11-04T07:14:30.094Z"
   },
   {
    "duration": 206,
    "start_time": "2021-11-04T07:14:31.494Z"
   },
   {
    "duration": 46,
    "start_time": "2021-11-04T07:14:31.702Z"
   },
   {
    "duration": 1692,
    "start_time": "2021-11-04T07:14:31.750Z"
   },
   {
    "duration": 766,
    "start_time": "2021-11-04T07:14:33.444Z"
   },
   {
    "duration": 19,
    "start_time": "2021-11-04T07:14:34.214Z"
   },
   {
    "duration": 14,
    "start_time": "2021-11-04T07:14:34.236Z"
   },
   {
    "duration": 128,
    "start_time": "2021-11-04T07:14:34.252Z"
   },
   {
    "duration": 3,
    "start_time": "2021-11-04T07:14:34.382Z"
   },
   {
    "duration": 858,
    "start_time": "2021-11-04T07:14:34.388Z"
   },
   {
    "duration": 28,
    "start_time": "2021-11-04T07:14:35.248Z"
   },
   {
    "duration": 52,
    "start_time": "2021-11-04T07:14:35.279Z"
   },
   {
    "duration": 9,
    "start_time": "2021-11-04T07:14:35.336Z"
   },
   {
    "duration": 114,
    "start_time": "2021-11-04T07:14:35.348Z"
   },
   {
    "duration": 29,
    "start_time": "2021-11-04T07:14:35.464Z"
   },
   {
    "duration": 52,
    "start_time": "2021-11-04T07:14:35.495Z"
   },
   {
    "duration": 187,
    "start_time": "2021-11-04T07:14:35.550Z"
   },
   {
    "duration": 185,
    "start_time": "2021-11-04T07:14:35.739Z"
   },
   {
    "duration": 10,
    "start_time": "2021-11-04T07:14:35.927Z"
   },
   {
    "duration": 215,
    "start_time": "2021-11-04T07:14:35.940Z"
   },
   {
    "duration": 177,
    "start_time": "2021-11-04T07:14:36.160Z"
   },
   {
    "duration": 190,
    "start_time": "2021-11-04T07:14:36.339Z"
   },
   {
    "duration": 174,
    "start_time": "2021-11-04T07:14:36.532Z"
   },
   {
    "duration": 792,
    "start_time": "2021-11-04T07:14:36.709Z"
   },
   {
    "duration": 28,
    "start_time": "2021-11-04T07:14:37.503Z"
   },
   {
    "duration": 39,
    "start_time": "2021-11-04T07:14:37.534Z"
   },
   {
    "duration": 66,
    "start_time": "2021-11-04T07:14:37.576Z"
   },
   {
    "duration": 93,
    "start_time": "2021-11-04T07:14:37.644Z"
   },
   {
    "duration": 789,
    "start_time": "2021-11-04T07:14:37.740Z"
   },
   {
    "duration": 47,
    "start_time": "2021-11-04T07:14:38.532Z"
   },
   {
    "duration": 200,
    "start_time": "2021-11-04T07:14:38.581Z"
   },
   {
    "duration": 178,
    "start_time": "2021-11-04T07:14:38.783Z"
   },
   {
    "duration": 270,
    "start_time": "2021-11-04T07:14:38.963Z"
   },
   {
    "duration": 186,
    "start_time": "2021-11-04T07:14:39.236Z"
   },
   {
    "duration": 50,
    "start_time": "2021-11-04T07:14:39.425Z"
   },
   {
    "duration": 756,
    "start_time": "2021-11-04T07:14:39.477Z"
   },
   {
    "duration": 118,
    "start_time": "2021-11-04T07:14:40.237Z"
   },
   {
    "duration": 39800,
    "start_time": "2021-11-04T07:14:40.358Z"
   },
   {
    "duration": 6,
    "start_time": "2021-11-04T07:57:14.877Z"
   },
   {
    "duration": 14,
    "start_time": "2021-11-04T07:57:36.388Z"
   },
   {
    "duration": 23,
    "start_time": "2021-11-04T07:57:49.427Z"
   },
   {
    "duration": 19,
    "start_time": "2021-11-04T07:58:00.656Z"
   },
   {
    "duration": 26,
    "start_time": "2021-11-04T07:58:02.214Z"
   },
   {
    "duration": 15,
    "start_time": "2021-11-04T07:58:23.963Z"
   },
   {
    "duration": 59,
    "start_time": "2021-11-04T07:59:26.992Z"
   },
   {
    "duration": 16,
    "start_time": "2021-11-04T07:59:34.112Z"
   },
   {
    "duration": 36,
    "start_time": "2021-11-04T07:59:44.988Z"
   },
   {
    "duration": 23,
    "start_time": "2021-11-04T07:59:46.839Z"
   },
   {
    "duration": 90,
    "start_time": "2021-11-04T07:59:58.684Z"
   },
   {
    "duration": 70499,
    "start_time": "2021-11-04T08:00:00.825Z"
   },
   {
    "duration": 75535,
    "start_time": "2021-11-04T08:05:34.015Z"
   },
   {
    "duration": 53277,
    "start_time": "2021-11-04T08:07:50.468Z"
   },
   {
    "duration": 34780,
    "start_time": "2021-11-04T08:09:09.845Z"
   },
   {
    "duration": 82475,
    "start_time": "2021-11-04T08:10:00.378Z"
   },
   {
    "duration": 512242,
    "start_time": "2021-11-04T08:41:56.887Z"
   },
   {
    "duration": 21419,
    "start_time": "2021-11-05T10:55:43.201Z"
   },
   {
    "duration": 1291,
    "start_time": "2021-11-05T10:56:04.623Z"
   },
   {
    "duration": 1149,
    "start_time": "2021-11-05T10:56:05.918Z"
   },
   {
    "duration": 181,
    "start_time": "2021-11-05T10:56:07.070Z"
   },
   {
    "duration": 33,
    "start_time": "2021-11-05T10:56:07.253Z"
   },
   {
    "duration": 1612,
    "start_time": "2021-11-05T10:56:07.289Z"
   },
   {
    "duration": 748,
    "start_time": "2021-11-05T10:56:08.904Z"
   },
   {
    "duration": 9,
    "start_time": "2021-11-05T10:56:09.657Z"
   },
   {
    "duration": 11,
    "start_time": "2021-11-05T10:56:09.669Z"
   },
   {
    "duration": 131,
    "start_time": "2021-11-05T10:56:09.683Z"
   },
   {
    "duration": 3,
    "start_time": "2021-11-05T10:56:09.816Z"
   },
   {
    "duration": 814,
    "start_time": "2021-11-05T10:56:09.821Z"
   },
   {
    "duration": 28,
    "start_time": "2021-11-05T10:56:10.638Z"
   },
   {
    "duration": 35,
    "start_time": "2021-11-05T10:56:10.668Z"
   },
   {
    "duration": 28,
    "start_time": "2021-11-05T10:56:10.705Z"
   },
   {
    "duration": 77,
    "start_time": "2021-11-05T10:56:10.735Z"
   },
   {
    "duration": 28,
    "start_time": "2021-11-05T10:56:10.830Z"
   },
   {
    "duration": 29,
    "start_time": "2021-11-05T10:56:10.861Z"
   },
   {
    "duration": 188,
    "start_time": "2021-11-05T10:56:10.892Z"
   },
   {
    "duration": 168,
    "start_time": "2021-11-05T10:56:11.082Z"
   },
   {
    "duration": 8,
    "start_time": "2021-11-05T10:56:11.253Z"
   },
   {
    "duration": 205,
    "start_time": "2021-11-05T10:56:11.264Z"
   },
   {
    "duration": 166,
    "start_time": "2021-11-05T10:56:11.474Z"
   },
   {
    "duration": 179,
    "start_time": "2021-11-05T10:56:11.643Z"
   },
   {
    "duration": 170,
    "start_time": "2021-11-05T10:56:11.824Z"
   },
   {
    "duration": 768,
    "start_time": "2021-11-05T10:56:11.996Z"
   },
   {
    "duration": 12,
    "start_time": "2021-11-05T10:56:12.768Z"
   },
   {
    "duration": 65,
    "start_time": "2021-11-05T10:56:12.783Z"
   },
   {
    "duration": 31,
    "start_time": "2021-11-05T10:56:12.850Z"
   },
   {
    "duration": 112,
    "start_time": "2021-11-05T10:56:12.884Z"
   },
   {
    "duration": 779,
    "start_time": "2021-11-05T10:56:12.999Z"
   },
   {
    "duration": 56,
    "start_time": "2021-11-05T10:56:13.781Z"
   },
   {
    "duration": 11,
    "start_time": "2021-11-05T10:56:13.840Z"
   },
   {
    "duration": 187,
    "start_time": "2021-11-05T10:56:13.854Z"
   },
   {
    "duration": 109,
    "start_time": "2021-11-05T10:56:14.043Z"
   },
   {
    "duration": 185,
    "start_time": "2021-11-05T10:56:14.154Z"
   },
   {
    "duration": 170,
    "start_time": "2021-11-05T10:56:14.341Z"
   },
   {
    "duration": 257,
    "start_time": "2021-11-05T10:56:14.529Z"
   },
   {
    "duration": 179,
    "start_time": "2021-11-05T10:56:14.788Z"
   },
   {
    "duration": 70,
    "start_time": "2021-11-05T10:56:14.970Z"
   },
   {
    "duration": 761,
    "start_time": "2021-11-05T10:56:15.042Z"
   },
   {
    "duration": 122,
    "start_time": "2021-11-05T10:56:15.806Z"
   },
   {
    "duration": 36606,
    "start_time": "2021-11-05T10:56:15.931Z"
   },
   {
    "duration": 311,
    "start_time": "2021-11-05T10:56:52.540Z"
   },
   {
    "duration": 49,
    "start_time": "2021-11-05T10:57:08.174Z"
   },
   {
    "duration": 728,
    "start_time": "2021-11-05T10:57:44.005Z"
   },
   {
    "duration": 549827,
    "start_time": "2021-11-05T10:57:57.804Z"
   },
   {
    "duration": 2420356,
    "start_time": "2021-11-05T11:09:36.694Z"
   },
   {
    "duration": 178307,
    "start_time": "2021-11-05T12:23:04.190Z"
   },
   {
    "duration": 11993,
    "start_time": "2021-11-05T12:33:57.709Z"
   },
   {
    "duration": 2556,
    "start_time": "2021-11-05T12:34:09.705Z"
   },
   {
    "duration": 1257,
    "start_time": "2021-11-05T12:34:12.264Z"
   },
   {
    "duration": 185,
    "start_time": "2021-11-05T12:34:13.524Z"
   },
   {
    "duration": 53,
    "start_time": "2021-11-05T12:34:13.711Z"
   },
   {
    "duration": 1526,
    "start_time": "2021-11-05T12:34:13.767Z"
   },
   {
    "duration": 837,
    "start_time": "2021-11-05T12:34:15.295Z"
   },
   {
    "duration": 11,
    "start_time": "2021-11-05T12:34:16.136Z"
   },
   {
    "duration": 11,
    "start_time": "2021-11-05T12:34:16.150Z"
   },
   {
    "duration": 129,
    "start_time": "2021-11-05T12:34:16.164Z"
   },
   {
    "duration": 4,
    "start_time": "2021-11-05T12:34:16.295Z"
   },
   {
    "duration": 757,
    "start_time": "2021-11-05T12:34:16.301Z"
   },
   {
    "duration": 28,
    "start_time": "2021-11-05T12:34:17.060Z"
   },
   {
    "duration": 55,
    "start_time": "2021-11-05T12:34:17.091Z"
   },
   {
    "duration": 7,
    "start_time": "2021-11-05T12:34:17.148Z"
   },
   {
    "duration": 93,
    "start_time": "2021-11-05T12:34:17.158Z"
   },
   {
    "duration": 29,
    "start_time": "2021-11-05T12:34:17.254Z"
   },
   {
    "duration": 51,
    "start_time": "2021-11-05T12:34:17.286Z"
   },
   {
    "duration": 194,
    "start_time": "2021-11-05T12:34:17.340Z"
   },
   {
    "duration": 164,
    "start_time": "2021-11-05T12:34:17.536Z"
   },
   {
    "duration": 7,
    "start_time": "2021-11-05T12:34:17.703Z"
   },
   {
    "duration": 202,
    "start_time": "2021-11-05T12:34:17.729Z"
   },
   {
    "duration": 177,
    "start_time": "2021-11-05T12:34:17.936Z"
   },
   {
    "duration": 188,
    "start_time": "2021-11-05T12:34:18.116Z"
   },
   {
    "duration": 170,
    "start_time": "2021-11-05T12:34:18.306Z"
   },
   {
    "duration": 760,
    "start_time": "2021-11-05T12:34:18.479Z"
   },
   {
    "duration": 14,
    "start_time": "2021-11-05T12:34:19.241Z"
   },
   {
    "duration": 44,
    "start_time": "2021-11-05T12:34:19.257Z"
   },
   {
    "duration": 56,
    "start_time": "2021-11-05T12:34:19.303Z"
   },
   {
    "duration": 105,
    "start_time": "2021-11-05T12:34:19.362Z"
   },
   {
    "duration": 777,
    "start_time": "2021-11-05T12:34:19.469Z"
   },
   {
    "duration": 45,
    "start_time": "2021-11-05T12:34:20.249Z"
   },
   {
    "duration": 33,
    "start_time": "2021-11-05T12:34:20.296Z"
   },
   {
    "duration": 177,
    "start_time": "2021-11-05T12:34:20.332Z"
   },
   {
    "duration": 124,
    "start_time": "2021-11-05T12:34:20.511Z"
   },
   {
    "duration": 752,
    "start_time": "2021-11-05T12:34:20.638Z"
   },
   {
    "duration": 190,
    "start_time": "2021-11-05T12:34:21.393Z"
   },
   {
    "duration": 178,
    "start_time": "2021-11-05T12:34:21.585Z"
   },
   {
    "duration": 264,
    "start_time": "2021-11-05T12:34:21.765Z"
   },
   {
    "duration": 176,
    "start_time": "2021-11-05T12:34:22.031Z"
   },
   {
    "duration": 60,
    "start_time": "2021-11-05T12:34:22.210Z"
   },
   {
    "duration": 757,
    "start_time": "2021-11-05T12:34:22.272Z"
   },
   {
    "duration": 120,
    "start_time": "2021-11-05T12:34:23.031Z"
   },
   {
    "duration": 831596,
    "start_time": "2021-11-05T12:34:23.154Z"
   },
   {
    "duration": 78,
    "start_time": "2021-11-05T12:48:14.752Z"
   },
   {
    "duration": 182137,
    "start_time": "2021-11-05T12:48:14.833Z"
   },
   {
    "duration": 185926,
    "start_time": "2021-11-05T13:56:35.450Z"
   },
   {
    "duration": 25068,
    "start_time": "2021-11-06T06:19:00.353Z"
   },
   {
    "duration": 1527,
    "start_time": "2021-11-06T06:19:25.424Z"
   },
   {
    "duration": 1127,
    "start_time": "2021-11-06T06:19:26.958Z"
   },
   {
    "duration": 192,
    "start_time": "2021-11-06T06:19:28.088Z"
   },
   {
    "duration": 35,
    "start_time": "2021-11-06T06:19:28.282Z"
   },
   {
    "duration": 1611,
    "start_time": "2021-11-06T06:19:28.319Z"
   },
   {
    "duration": 816,
    "start_time": "2021-11-06T06:19:29.932Z"
   },
   {
    "duration": 13,
    "start_time": "2021-11-06T06:19:30.752Z"
   },
   {
    "duration": 13,
    "start_time": "2021-11-06T06:19:30.768Z"
   },
   {
    "duration": 119,
    "start_time": "2021-11-06T06:19:30.784Z"
   },
   {
    "duration": 3,
    "start_time": "2021-11-06T06:19:30.906Z"
   },
   {
    "duration": 729,
    "start_time": "2021-11-06T06:19:30.911Z"
   },
   {
    "duration": 36,
    "start_time": "2021-11-06T06:19:31.643Z"
   },
   {
    "duration": 31,
    "start_time": "2021-11-06T06:19:31.681Z"
   },
   {
    "duration": 7,
    "start_time": "2021-11-06T06:19:31.715Z"
   },
   {
    "duration": 103,
    "start_time": "2021-11-06T06:19:31.724Z"
   },
   {
    "duration": 39,
    "start_time": "2021-11-06T06:19:31.829Z"
   },
   {
    "duration": 27,
    "start_time": "2021-11-06T06:19:31.871Z"
   },
   {
    "duration": 182,
    "start_time": "2021-11-06T06:19:31.900Z"
   },
   {
    "duration": 178,
    "start_time": "2021-11-06T06:19:32.084Z"
   },
   {
    "duration": 7,
    "start_time": "2021-11-06T06:19:32.265Z"
   },
   {
    "duration": 197,
    "start_time": "2021-11-06T06:19:32.274Z"
   },
   {
    "duration": 160,
    "start_time": "2021-11-06T06:19:32.477Z"
   },
   {
    "duration": 182,
    "start_time": "2021-11-06T06:19:32.640Z"
   },
   {
    "duration": 157,
    "start_time": "2021-11-06T06:19:32.824Z"
   },
   {
    "duration": 726,
    "start_time": "2021-11-06T06:19:32.983Z"
   },
   {
    "duration": 11,
    "start_time": "2021-11-06T06:19:33.711Z"
   },
   {
    "duration": 53,
    "start_time": "2021-11-06T06:19:33.724Z"
   },
   {
    "duration": 29,
    "start_time": "2021-11-06T06:19:33.780Z"
   },
   {
    "duration": 106,
    "start_time": "2021-11-06T06:19:33.812Z"
   },
   {
    "duration": 703,
    "start_time": "2021-11-06T06:19:33.920Z"
   },
   {
    "duration": 53,
    "start_time": "2021-11-06T06:19:34.626Z"
   },
   {
    "duration": 11,
    "start_time": "2021-11-06T06:19:34.681Z"
   },
   {
    "duration": 174,
    "start_time": "2021-11-06T06:19:34.695Z"
   },
   {
    "duration": 98,
    "start_time": "2021-11-06T06:19:34.871Z"
   },
   {
    "duration": 709,
    "start_time": "2021-11-06T06:19:34.971Z"
   },
   {
    "duration": 180,
    "start_time": "2021-11-06T06:19:35.682Z"
   },
   {
    "duration": 198,
    "start_time": "2021-11-06T06:19:35.864Z"
   },
   {
    "duration": 300,
    "start_time": "2021-11-06T06:19:36.065Z"
   },
   {
    "duration": 163,
    "start_time": "2021-11-06T06:19:36.368Z"
   },
   {
    "duration": 61,
    "start_time": "2021-11-06T06:19:36.533Z"
   },
   {
    "duration": 727,
    "start_time": "2021-11-06T06:19:36.597Z"
   },
   {
    "duration": 120,
    "start_time": "2021-11-06T06:19:37.327Z"
   },
   {
    "duration": 10,
    "start_time": "2021-11-06T06:19:37.450Z"
   },
   {
    "duration": 12,
    "start_time": "2021-11-06T06:19:37.462Z"
   },
   {
    "duration": 164891,
    "start_time": "2021-11-06T06:19:37.476Z"
   },
   {
    "duration": 166135,
    "start_time": "2021-11-06T06:35:39.548Z"
   },
   {
    "duration": 140658,
    "start_time": "2021-11-06T06:39:50.940Z"
   },
   {
    "duration": 134206,
    "start_time": "2021-11-06T06:45:12.654Z"
   },
   {
    "duration": 33035,
    "start_time": "2021-11-06T06:48:40.443Z"
   },
   {
    "duration": 259,
    "start_time": "2021-11-06T06:50:49.569Z"
   },
   {
    "duration": 80683,
    "start_time": "2021-11-06T06:52:22.312Z"
   },
   {
    "duration": 296,
    "start_time": "2021-11-06T06:54:38.529Z"
   },
   {
    "duration": 4139,
    "start_time": "2021-11-06T06:54:59.886Z"
   },
   {
    "duration": 35225,
    "start_time": "2021-11-06T06:55:18.361Z"
   },
   {
    "duration": 276,
    "start_time": "2021-11-06T06:58:10.938Z"
   },
   {
    "duration": 5549,
    "start_time": "2021-11-06T06:59:07.276Z"
   },
   {
    "duration": 28847,
    "start_time": "2021-11-06T06:59:53.300Z"
   },
   {
    "duration": 29425,
    "start_time": "2021-11-06T07:00:37.535Z"
   },
   {
    "duration": 17740,
    "start_time": "2021-11-06T07:01:14.885Z"
   },
   {
    "duration": 29981,
    "start_time": "2021-11-06T07:01:38.519Z"
   },
   {
    "duration": 188106,
    "start_time": "2021-11-06T07:09:42.256Z"
   },
   {
    "duration": 176266,
    "start_time": "2021-11-06T07:13:39.135Z"
   },
   {
    "duration": 4,
    "start_time": "2021-11-06T09:02:39.203Z"
   },
   {
    "duration": 5,
    "start_time": "2021-11-06T09:05:00.518Z"
   },
   {
    "duration": 12103,
    "start_time": "2021-11-06T09:16:46.370Z"
   },
   {
    "duration": 2646,
    "start_time": "2021-11-06T09:16:58.476Z"
   },
   {
    "duration": 1215,
    "start_time": "2021-11-06T09:17:01.125Z"
   },
   {
    "duration": 183,
    "start_time": "2021-11-06T09:17:02.343Z"
   },
   {
    "duration": 48,
    "start_time": "2021-11-06T09:17:02.528Z"
   },
   {
    "duration": 1951,
    "start_time": "2021-11-06T09:17:02.579Z"
   },
   {
    "duration": 791,
    "start_time": "2021-11-06T09:17:04.532Z"
   },
   {
    "duration": 12,
    "start_time": "2021-11-06T09:17:05.329Z"
   },
   {
    "duration": 13,
    "start_time": "2021-11-06T09:17:05.360Z"
   },
   {
    "duration": 120,
    "start_time": "2021-11-06T09:17:05.375Z"
   },
   {
    "duration": 3,
    "start_time": "2021-11-06T09:17:05.498Z"
   },
   {
    "duration": 737,
    "start_time": "2021-11-06T09:17:05.503Z"
   },
   {
    "duration": 33,
    "start_time": "2021-11-06T09:17:06.243Z"
   },
   {
    "duration": 29,
    "start_time": "2021-11-06T09:17:06.278Z"
   },
   {
    "duration": 15,
    "start_time": "2021-11-06T09:17:06.309Z"
   },
   {
    "duration": 101,
    "start_time": "2021-11-06T09:17:06.326Z"
   },
   {
    "duration": 37,
    "start_time": "2021-11-06T09:17:06.429Z"
   },
   {
    "duration": 27,
    "start_time": "2021-11-06T09:17:06.468Z"
   },
   {
    "duration": 189,
    "start_time": "2021-11-06T09:17:06.497Z"
   },
   {
    "duration": 159,
    "start_time": "2021-11-06T09:17:06.688Z"
   },
   {
    "duration": 12,
    "start_time": "2021-11-06T09:17:06.849Z"
   },
   {
    "duration": 186,
    "start_time": "2021-11-06T09:17:06.863Z"
   },
   {
    "duration": 161,
    "start_time": "2021-11-06T09:17:07.058Z"
   },
   {
    "duration": 181,
    "start_time": "2021-11-06T09:17:07.222Z"
   },
   {
    "duration": 167,
    "start_time": "2021-11-06T09:17:07.405Z"
   },
   {
    "duration": 751,
    "start_time": "2021-11-06T09:17:07.575Z"
   },
   {
    "duration": 12,
    "start_time": "2021-11-06T09:17:08.329Z"
   },
   {
    "duration": 46,
    "start_time": "2021-11-06T09:17:08.343Z"
   },
   {
    "duration": 31,
    "start_time": "2021-11-06T09:17:08.392Z"
   },
   {
    "duration": 105,
    "start_time": "2021-11-06T09:17:08.425Z"
   },
   {
    "duration": 743,
    "start_time": "2021-11-06T09:17:08.533Z"
   },
   {
    "duration": 45,
    "start_time": "2021-11-06T09:17:09.278Z"
   },
   {
    "duration": 40,
    "start_time": "2021-11-06T09:17:09.325Z"
   },
   {
    "duration": 156,
    "start_time": "2021-11-06T09:17:09.368Z"
   },
   {
    "duration": 110,
    "start_time": "2021-11-06T09:17:09.527Z"
   },
   {
    "duration": 724,
    "start_time": "2021-11-06T09:17:09.640Z"
   },
   {
    "duration": 187,
    "start_time": "2021-11-06T09:17:10.368Z"
   },
   {
    "duration": 162,
    "start_time": "2021-11-06T09:17:10.558Z"
   },
   {
    "duration": 271,
    "start_time": "2021-11-06T09:17:10.723Z"
   },
   {
    "duration": 246,
    "start_time": "2021-11-06T09:17:10.997Z"
   },
   {
    "duration": 63,
    "start_time": "2021-11-06T09:17:11.258Z"
   },
   {
    "duration": 753,
    "start_time": "2021-11-06T09:17:11.323Z"
   },
   {
    "duration": 127,
    "start_time": "2021-11-06T09:17:12.078Z"
   },
   {
    "duration": 33174,
    "start_time": "2021-11-06T09:17:12.208Z"
   },
   {
    "duration": 74,
    "start_time": "2021-11-06T09:17:45.385Z"
   },
   {
    "duration": 5,
    "start_time": "2021-11-06T09:17:45.462Z"
   },
   {
    "duration": 523203,
    "start_time": "2021-11-06T09:17:45.471Z"
   },
   {
    "duration": 5,
    "start_time": "2021-11-06T09:27:38.121Z"
   },
   {
    "duration": 545,
    "start_time": "2021-11-06T09:47:51.722Z"
   },
   {
    "duration": 519,
    "start_time": "2021-11-06T09:52:43.715Z"
   },
   {
    "duration": 909,
    "start_time": "2021-11-06T09:52:54.262Z"
   },
   {
    "duration": 1069,
    "start_time": "2021-11-06T09:57:37.805Z"
   },
   {
    "duration": 1023,
    "start_time": "2021-11-06T09:58:39.250Z"
   },
   {
    "duration": 11594,
    "start_time": "2021-11-06T10:06:37.095Z"
   },
   {
    "duration": 1381,
    "start_time": "2021-11-06T10:06:48.693Z"
   },
   {
    "duration": 1233,
    "start_time": "2021-11-06T10:06:50.077Z"
   },
   {
    "duration": 180,
    "start_time": "2021-11-06T10:06:51.313Z"
   },
   {
    "duration": 33,
    "start_time": "2021-11-06T10:06:51.495Z"
   },
   {
    "duration": 1663,
    "start_time": "2021-11-06T10:06:51.530Z"
   },
   {
    "duration": 979,
    "start_time": "2021-11-06T10:06:53.196Z"
   },
   {
    "duration": 10,
    "start_time": "2021-11-06T10:06:54.180Z"
   },
   {
    "duration": 14,
    "start_time": "2021-11-06T10:06:54.194Z"
   },
   {
    "duration": 135,
    "start_time": "2021-11-06T10:06:54.211Z"
   },
   {
    "duration": 11,
    "start_time": "2021-11-06T10:06:54.349Z"
   },
   {
    "duration": 731,
    "start_time": "2021-11-06T10:06:54.363Z"
   },
   {
    "duration": 29,
    "start_time": "2021-11-06T10:06:55.097Z"
   },
   {
    "duration": 55,
    "start_time": "2021-11-06T10:06:55.129Z"
   },
   {
    "duration": 9,
    "start_time": "2021-11-06T10:06:55.187Z"
   },
   {
    "duration": 109,
    "start_time": "2021-11-06T10:06:55.199Z"
   },
   {
    "duration": 29,
    "start_time": "2021-11-06T10:06:55.311Z"
   },
   {
    "duration": 43,
    "start_time": "2021-11-06T10:06:55.342Z"
   },
   {
    "duration": 181,
    "start_time": "2021-11-06T10:06:55.388Z"
   },
   {
    "duration": 176,
    "start_time": "2021-11-06T10:06:55.572Z"
   },
   {
    "duration": 7,
    "start_time": "2021-11-06T10:06:55.759Z"
   },
   {
    "duration": 218,
    "start_time": "2021-11-06T10:06:55.769Z"
   },
   {
    "duration": 176,
    "start_time": "2021-11-06T10:06:55.993Z"
   },
   {
    "duration": 197,
    "start_time": "2021-11-06T10:06:56.172Z"
   },
   {
    "duration": 177,
    "start_time": "2021-11-06T10:06:56.371Z"
   },
   {
    "duration": 774,
    "start_time": "2021-11-06T10:06:56.560Z"
   },
   {
    "duration": 11,
    "start_time": "2021-11-06T10:06:57.337Z"
   },
   {
    "duration": 40,
    "start_time": "2021-11-06T10:06:57.360Z"
   },
   {
    "duration": 59,
    "start_time": "2021-11-06T10:06:57.402Z"
   },
   {
    "duration": 109,
    "start_time": "2021-11-06T10:06:57.464Z"
   },
   {
    "duration": 747,
    "start_time": "2021-11-06T10:06:57.575Z"
   },
   {
    "duration": 56,
    "start_time": "2021-11-06T10:06:58.324Z"
   },
   {
    "duration": 11,
    "start_time": "2021-11-06T10:06:58.383Z"
   },
   {
    "duration": 177,
    "start_time": "2021-11-06T10:06:58.397Z"
   },
   {
    "duration": 102,
    "start_time": "2021-11-06T10:06:58.576Z"
   },
   {
    "duration": 737,
    "start_time": "2021-11-06T10:06:58.681Z"
   },
   {
    "duration": 181,
    "start_time": "2021-11-06T10:06:59.421Z"
   },
   {
    "duration": 159,
    "start_time": "2021-11-06T10:06:59.604Z"
   },
   {
    "duration": 255,
    "start_time": "2021-11-06T10:06:59.765Z"
   },
   {
    "duration": 194,
    "start_time": "2021-11-06T10:07:00.023Z"
   },
   {
    "duration": 57,
    "start_time": "2021-11-06T10:07:00.220Z"
   },
   {
    "duration": 738,
    "start_time": "2021-11-06T10:07:00.279Z"
   },
   {
    "duration": 123,
    "start_time": "2021-11-06T10:07:01.020Z"
   },
   {
    "duration": 3,
    "start_time": "2021-11-06T10:07:01.146Z"
   },
   {
    "duration": 1202,
    "start_time": "2021-11-06T10:07:01.159Z"
   },
   {
    "duration": 30401,
    "start_time": "2021-11-06T10:07:02.365Z"
   },
   {
    "duration": 4,
    "start_time": "2021-11-06T10:07:32.768Z"
   },
   {
    "duration": 548446,
    "start_time": "2021-11-06T10:07:32.774Z"
   },
   {
    "duration": 19145,
    "start_time": "2021-11-06T10:26:19.625Z"
   },
   {
    "duration": 28238,
    "start_time": "2021-11-06T10:27:14.807Z"
   },
   {
    "duration": 6686,
    "start_time": "2021-11-06T10:28:46.786Z"
   },
   {
    "duration": 4998,
    "start_time": "2021-11-06T10:29:07.701Z"
   },
   {
    "duration": 137,
    "start_time": "2021-11-06T10:33:18.317Z"
   },
   {
    "duration": 164,
    "start_time": "2021-11-06T10:33:30.714Z"
   },
   {
    "duration": 56,
    "start_time": "2021-11-06T10:36:05.819Z"
   },
   {
    "duration": 5623,
    "start_time": "2021-11-06T10:36:35.765Z"
   },
   {
    "duration": 1132,
    "start_time": "2021-11-06T10:37:12.712Z"
   },
   {
    "duration": 29402,
    "start_time": "2021-11-06T10:38:13.692Z"
   },
   {
    "duration": 5000,
    "start_time": "2021-11-06T10:39:03.544Z"
   },
   {
    "duration": 377,
    "start_time": "2021-11-06T10:47:07.312Z"
   },
   {
    "duration": 6,
    "start_time": "2021-11-06T10:47:58.069Z"
   },
   {
    "duration": 164,
    "start_time": "2021-11-06T10:48:08.571Z"
   },
   {
    "duration": 11600,
    "start_time": "2021-11-06T10:58:11.624Z"
   },
   {
    "duration": 1479,
    "start_time": "2021-11-06T10:58:23.227Z"
   },
   {
    "duration": 1254,
    "start_time": "2021-11-06T10:58:24.709Z"
   },
   {
    "duration": 187,
    "start_time": "2021-11-06T10:58:25.966Z"
   },
   {
    "duration": 41,
    "start_time": "2021-11-06T10:58:26.160Z"
   },
   {
    "duration": 1622,
    "start_time": "2021-11-06T10:58:26.204Z"
   },
   {
    "duration": 798,
    "start_time": "2021-11-06T10:58:27.829Z"
   },
   {
    "duration": 9,
    "start_time": "2021-11-06T10:58:28.631Z"
   },
   {
    "duration": 27,
    "start_time": "2021-11-06T10:58:28.643Z"
   },
   {
    "duration": 117,
    "start_time": "2021-11-06T10:58:28.672Z"
   },
   {
    "duration": 3,
    "start_time": "2021-11-06T10:58:28.791Z"
   },
   {
    "duration": 788,
    "start_time": "2021-11-06T10:58:28.797Z"
   },
   {
    "duration": 27,
    "start_time": "2021-11-06T10:58:29.587Z"
   },
   {
    "duration": 50,
    "start_time": "2021-11-06T10:58:29.616Z"
   },
   {
    "duration": 10,
    "start_time": "2021-11-06T10:58:29.669Z"
   },
   {
    "duration": 105,
    "start_time": "2021-11-06T10:58:29.682Z"
   },
   {
    "duration": 28,
    "start_time": "2021-11-06T10:58:29.789Z"
   },
   {
    "duration": 51,
    "start_time": "2021-11-06T10:58:29.820Z"
   },
   {
    "duration": 186,
    "start_time": "2021-11-06T10:58:29.873Z"
   },
   {
    "duration": 183,
    "start_time": "2021-11-06T10:58:30.062Z"
   },
   {
    "duration": 16,
    "start_time": "2021-11-06T10:58:30.248Z"
   },
   {
    "duration": 192,
    "start_time": "2021-11-06T10:58:30.267Z"
   },
   {
    "duration": 163,
    "start_time": "2021-11-06T10:58:30.465Z"
   },
   {
    "duration": 185,
    "start_time": "2021-11-06T10:58:30.631Z"
   },
   {
    "duration": 171,
    "start_time": "2021-11-06T10:58:30.818Z"
   },
   {
    "duration": 735,
    "start_time": "2021-11-06T10:58:30.991Z"
   },
   {
    "duration": 12,
    "start_time": "2021-11-06T10:58:31.728Z"
   },
   {
    "duration": 38,
    "start_time": "2021-11-06T10:58:31.759Z"
   },
   {
    "duration": 28,
    "start_time": "2021-11-06T10:58:31.799Z"
   },
   {
    "duration": 102,
    "start_time": "2021-11-06T10:58:31.829Z"
   },
   {
    "duration": 721,
    "start_time": "2021-11-06T10:58:31.933Z"
   },
   {
    "duration": 45,
    "start_time": "2021-11-06T10:58:32.657Z"
   },
   {
    "duration": 12,
    "start_time": "2021-11-06T10:58:32.704Z"
   },
   {
    "duration": 187,
    "start_time": "2021-11-06T10:58:32.718Z"
   },
   {
    "duration": 100,
    "start_time": "2021-11-06T10:58:32.908Z"
   },
   {
    "duration": 714,
    "start_time": "2021-11-06T10:58:33.010Z"
   },
   {
    "duration": 185,
    "start_time": "2021-11-06T10:58:33.726Z"
   },
   {
    "duration": 164,
    "start_time": "2021-11-06T10:58:33.913Z"
   },
   {
    "duration": 246,
    "start_time": "2021-11-06T10:58:34.079Z"
   },
   {
    "duration": 162,
    "start_time": "2021-11-06T10:58:34.327Z"
   },
   {
    "duration": 44,
    "start_time": "2021-11-06T10:58:34.491Z"
   },
   {
    "duration": 712,
    "start_time": "2021-11-06T10:58:34.537Z"
   },
   {
    "duration": 113,
    "start_time": "2021-11-06T10:58:35.252Z"
   },
   {
    "duration": 4,
    "start_time": "2021-11-06T10:58:35.367Z"
   },
   {
    "duration": 1704,
    "start_time": "2021-11-06T10:58:35.373Z"
   },
   {
    "duration": 30300,
    "start_time": "2021-11-06T10:58:37.161Z"
   },
   {
    "duration": 3,
    "start_time": "2021-11-06T10:59:07.463Z"
   },
   {
    "duration": 565979,
    "start_time": "2021-11-06T10:59:07.468Z"
   },
   {
    "duration": 30443,
    "start_time": "2021-11-06T11:08:33.449Z"
   },
   {
    "duration": 5847,
    "start_time": "2021-11-06T11:09:03.895Z"
   },
   {
    "duration": 186,
    "start_time": "2021-11-06T11:09:09.745Z"
   },
   {
    "duration": 24115,
    "start_time": "2021-11-07T05:59:29.380Z"
   },
   {
    "duration": 1419,
    "start_time": "2021-11-07T05:59:53.498Z"
   },
   {
    "duration": 1292,
    "start_time": "2021-11-07T05:59:54.926Z"
   },
   {
    "duration": 189,
    "start_time": "2021-11-07T05:59:56.220Z"
   },
   {
    "duration": 37,
    "start_time": "2021-11-07T05:59:56.411Z"
   },
   {
    "duration": 1698,
    "start_time": "2021-11-07T05:59:56.451Z"
   },
   {
    "duration": 818,
    "start_time": "2021-11-07T05:59:58.154Z"
   },
   {
    "duration": 10,
    "start_time": "2021-11-07T05:59:58.981Z"
   },
   {
    "duration": 11,
    "start_time": "2021-11-07T05:59:58.993Z"
   },
   {
    "duration": 125,
    "start_time": "2021-11-07T05:59:59.007Z"
   },
   {
    "duration": 52,
    "start_time": "2021-11-07T05:59:59.135Z"
   },
   {
    "duration": 746,
    "start_time": "2021-11-07T05:59:59.189Z"
   },
   {
    "duration": 28,
    "start_time": "2021-11-07T05:59:59.938Z"
   },
   {
    "duration": 41,
    "start_time": "2021-11-07T05:59:59.968Z"
   },
   {
    "duration": 8,
    "start_time": "2021-11-07T06:00:00.011Z"
   },
   {
    "duration": 112,
    "start_time": "2021-11-07T06:00:00.021Z"
   },
   {
    "duration": 31,
    "start_time": "2021-11-07T06:00:00.135Z"
   },
   {
    "duration": 31,
    "start_time": "2021-11-07T06:00:00.182Z"
   },
   {
    "duration": 188,
    "start_time": "2021-11-07T06:00:00.215Z"
   },
   {
    "duration": 178,
    "start_time": "2021-11-07T06:00:00.405Z"
   },
   {
    "duration": 8,
    "start_time": "2021-11-07T06:00:00.586Z"
   },
   {
    "duration": 199,
    "start_time": "2021-11-07T06:00:00.600Z"
   },
   {
    "duration": 179,
    "start_time": "2021-11-07T06:00:00.803Z"
   },
   {
    "duration": 184,
    "start_time": "2021-11-07T06:00:00.985Z"
   },
   {
    "duration": 172,
    "start_time": "2021-11-07T06:00:01.171Z"
   },
   {
    "duration": 749,
    "start_time": "2021-11-07T06:00:01.346Z"
   },
   {
    "duration": 11,
    "start_time": "2021-11-07T06:00:02.097Z"
   },
   {
    "duration": 49,
    "start_time": "2021-11-07T06:00:02.110Z"
   },
   {
    "duration": 43,
    "start_time": "2021-11-07T06:00:02.162Z"
   },
   {
    "duration": 101,
    "start_time": "2021-11-07T06:00:02.207Z"
   },
   {
    "duration": 761,
    "start_time": "2021-11-07T06:00:02.311Z"
   },
   {
    "duration": 51,
    "start_time": "2021-11-07T06:00:03.074Z"
   },
   {
    "duration": 13,
    "start_time": "2021-11-07T06:00:03.127Z"
   },
   {
    "duration": 190,
    "start_time": "2021-11-07T06:00:03.142Z"
   },
   {
    "duration": 102,
    "start_time": "2021-11-07T06:00:03.335Z"
   },
   {
    "duration": 809,
    "start_time": "2021-11-07T06:00:03.439Z"
   },
   {
    "duration": 184,
    "start_time": "2021-11-07T06:00:04.250Z"
   },
   {
    "duration": 170,
    "start_time": "2021-11-07T06:00:04.436Z"
   },
   {
    "duration": 263,
    "start_time": "2021-11-07T06:00:04.609Z"
   },
   {
    "duration": 168,
    "start_time": "2021-11-07T06:00:04.874Z"
   },
   {
    "duration": 63,
    "start_time": "2021-11-07T06:00:05.045Z"
   },
   {
    "duration": 716,
    "start_time": "2021-11-07T06:00:05.111Z"
   },
   {
    "duration": 119,
    "start_time": "2021-11-07T06:00:05.830Z"
   },
   {
    "duration": 4,
    "start_time": "2021-11-07T06:00:05.952Z"
   },
   {
    "duration": 1832,
    "start_time": "2021-11-07T06:00:05.958Z"
   },
   {
    "duration": 30523,
    "start_time": "2021-11-07T06:00:07.883Z"
   },
   {
    "duration": 3,
    "start_time": "2021-11-07T06:00:38.408Z"
   },
   {
    "duration": 526812,
    "start_time": "2021-11-07T06:00:38.413Z"
   },
   {
    "duration": 28793,
    "start_time": "2021-11-07T06:09:25.227Z"
   },
   {
    "duration": 5179,
    "start_time": "2021-11-07T06:09:54.022Z"
   },
   {
    "duration": 187,
    "start_time": "2021-11-07T06:09:59.204Z"
   },
   {
    "duration": 1804,
    "start_time": "2021-11-07T06:15:13.979Z"
   },
   {
    "duration": 27674,
    "start_time": "2021-11-07T06:15:30.911Z"
   },
   {
    "duration": 1066,
    "start_time": "2021-11-07T06:23:46.831Z"
   },
   {
    "duration": 12023,
    "start_time": "2021-11-07T06:24:22.218Z"
   },
   {
    "duration": 1473,
    "start_time": "2021-11-07T06:24:34.244Z"
   },
   {
    "duration": 1200,
    "start_time": "2021-11-07T06:24:35.720Z"
   },
   {
    "duration": 194,
    "start_time": "2021-11-07T06:24:36.923Z"
   },
   {
    "duration": 35,
    "start_time": "2021-11-07T06:24:37.119Z"
   },
   {
    "duration": 1571,
    "start_time": "2021-11-07T06:24:37.156Z"
   },
   {
    "duration": 793,
    "start_time": "2021-11-07T06:24:38.730Z"
   },
   {
    "duration": 9,
    "start_time": "2021-11-07T06:24:39.526Z"
   },
   {
    "duration": 11,
    "start_time": "2021-11-07T06:24:39.540Z"
   },
   {
    "duration": 120,
    "start_time": "2021-11-07T06:24:39.554Z"
   },
   {
    "duration": 46,
    "start_time": "2021-11-07T06:24:39.682Z"
   },
   {
    "duration": 739,
    "start_time": "2021-11-07T06:24:39.731Z"
   },
   {
    "duration": 31,
    "start_time": "2021-11-07T06:24:40.473Z"
   },
   {
    "duration": 34,
    "start_time": "2021-11-07T06:24:40.507Z"
   },
   {
    "duration": 8,
    "start_time": "2021-11-07T06:24:40.543Z"
   },
   {
    "duration": 107,
    "start_time": "2021-11-07T06:24:40.553Z"
   },
   {
    "duration": 39,
    "start_time": "2021-11-07T06:24:40.663Z"
   },
   {
    "duration": 32,
    "start_time": "2021-11-07T06:24:40.705Z"
   },
   {
    "duration": 194,
    "start_time": "2021-11-07T06:24:40.740Z"
   },
   {
    "duration": 168,
    "start_time": "2021-11-07T06:24:40.936Z"
   },
   {
    "duration": 7,
    "start_time": "2021-11-07T06:24:41.107Z"
   },
   {
    "duration": 201,
    "start_time": "2021-11-07T06:24:41.116Z"
   },
   {
    "duration": 170,
    "start_time": "2021-11-07T06:24:41.319Z"
   },
   {
    "duration": 184,
    "start_time": "2021-11-07T06:24:41.492Z"
   },
   {
    "duration": 167,
    "start_time": "2021-11-07T06:24:41.678Z"
   },
   {
    "duration": 751,
    "start_time": "2021-11-07T06:24:41.848Z"
   },
   {
    "duration": 11,
    "start_time": "2021-11-07T06:24:42.604Z"
   },
   {
    "duration": 33,
    "start_time": "2021-11-07T06:24:42.618Z"
   },
   {
    "duration": 60,
    "start_time": "2021-11-07T06:24:42.654Z"
   },
   {
    "duration": 107,
    "start_time": "2021-11-07T06:24:42.716Z"
   },
   {
    "duration": 760,
    "start_time": "2021-11-07T06:24:42.826Z"
   },
   {
    "duration": 44,
    "start_time": "2021-11-07T06:24:43.588Z"
   },
   {
    "duration": 12,
    "start_time": "2021-11-07T06:24:43.634Z"
   },
   {
    "duration": 197,
    "start_time": "2021-11-07T06:24:43.648Z"
   },
   {
    "duration": 105,
    "start_time": "2021-11-07T06:24:43.848Z"
   },
   {
    "duration": 791,
    "start_time": "2021-11-07T06:24:43.956Z"
   },
   {
    "duration": 200,
    "start_time": "2021-11-07T06:24:44.750Z"
   },
   {
    "duration": 178,
    "start_time": "2021-11-07T06:24:44.952Z"
   },
   {
    "duration": 278,
    "start_time": "2021-11-07T06:24:45.133Z"
   },
   {
    "duration": 179,
    "start_time": "2021-11-07T06:24:45.414Z"
   },
   {
    "duration": 50,
    "start_time": "2021-11-07T06:24:45.596Z"
   },
   {
    "duration": 779,
    "start_time": "2021-11-07T06:24:45.649Z"
   },
   {
    "duration": 128,
    "start_time": "2021-11-07T06:24:46.431Z"
   },
   {
    "duration": 3,
    "start_time": "2021-11-07T06:24:46.562Z"
   },
   {
    "duration": 1820,
    "start_time": "2021-11-07T06:24:46.568Z"
   },
   {
    "duration": 67098,
    "start_time": "2021-11-07T06:24:48.393Z"
   },
   {
    "duration": 3,
    "start_time": "2021-11-07T06:25:55.493Z"
   },
   {
    "duration": 97186,
    "start_time": "2021-11-07T06:25:55.498Z"
   },
   {
    "duration": -157,
    "start_time": "2021-11-07T06:27:32.844Z"
   },
   {
    "duration": -171,
    "start_time": "2021-11-07T06:27:32.859Z"
   },
   {
    "duration": -184,
    "start_time": "2021-11-07T06:27:32.873Z"
   },
   {
    "duration": 1679,
    "start_time": "2021-11-07T06:28:48.620Z"
   },
   {
    "duration": 433324,
    "start_time": "2021-11-07T06:29:55.492Z"
   },
   {
    "duration": 3990,
    "start_time": "2021-11-07T06:45:48.575Z"
   },
   {
    "duration": 3878,
    "start_time": "2021-11-07T06:46:40.444Z"
   },
   {
    "duration": 1435,
    "start_time": "2021-11-07T07:00:15.056Z"
   },
   {
    "duration": 1479,
    "start_time": "2021-11-07T07:01:09.112Z"
   },
   {
    "duration": 1509,
    "start_time": "2021-11-07T07:01:32.782Z"
   },
   {
    "duration": 11262,
    "start_time": "2021-11-07T07:06:45.199Z"
   },
   {
    "duration": 1458,
    "start_time": "2021-11-07T07:06:56.464Z"
   },
   {
    "duration": 1327,
    "start_time": "2021-11-07T07:06:57.925Z"
   },
   {
    "duration": 182,
    "start_time": "2021-11-07T07:06:59.255Z"
   },
   {
    "duration": 47,
    "start_time": "2021-11-07T07:06:59.440Z"
   },
   {
    "duration": 1588,
    "start_time": "2021-11-07T07:06:59.489Z"
   },
   {
    "duration": 822,
    "start_time": "2021-11-07T07:07:01.082Z"
   },
   {
    "duration": 8,
    "start_time": "2021-11-07T07:07:01.907Z"
   },
   {
    "duration": 14,
    "start_time": "2021-11-07T07:07:01.920Z"
   },
   {
    "duration": 125,
    "start_time": "2021-11-07T07:07:01.938Z"
   },
   {
    "duration": 56,
    "start_time": "2021-11-07T07:07:02.066Z"
   },
   {
    "duration": 826,
    "start_time": "2021-11-07T07:07:02.125Z"
   },
   {
    "duration": 37,
    "start_time": "2021-11-07T07:07:02.954Z"
   },
   {
    "duration": 38,
    "start_time": "2021-11-07T07:07:02.993Z"
   },
   {
    "duration": 7,
    "start_time": "2021-11-07T07:07:03.034Z"
   },
   {
    "duration": 112,
    "start_time": "2021-11-07T07:07:03.044Z"
   },
   {
    "duration": 43,
    "start_time": "2021-11-07T07:07:03.159Z"
   },
   {
    "duration": 30,
    "start_time": "2021-11-07T07:07:03.204Z"
   },
   {
    "duration": 184,
    "start_time": "2021-11-07T07:07:03.236Z"
   },
   {
    "duration": 172,
    "start_time": "2021-11-07T07:07:03.422Z"
   },
   {
    "duration": 8,
    "start_time": "2021-11-07T07:07:03.596Z"
   },
   {
    "duration": 199,
    "start_time": "2021-11-07T07:07:03.606Z"
   },
   {
    "duration": 190,
    "start_time": "2021-11-07T07:07:03.807Z"
   },
   {
    "duration": 184,
    "start_time": "2021-11-07T07:07:03.999Z"
   },
   {
    "duration": 169,
    "start_time": "2021-11-07T07:07:04.186Z"
   },
   {
    "duration": 778,
    "start_time": "2021-11-07T07:07:04.357Z"
   },
   {
    "duration": 12,
    "start_time": "2021-11-07T07:07:05.141Z"
   },
   {
    "duration": 55,
    "start_time": "2021-11-07T07:07:05.156Z"
   },
   {
    "duration": 32,
    "start_time": "2021-11-07T07:07:05.214Z"
   },
   {
    "duration": 109,
    "start_time": "2021-11-07T07:07:05.249Z"
   },
   {
    "duration": 783,
    "start_time": "2021-11-07T07:07:05.360Z"
   },
   {
    "duration": 55,
    "start_time": "2021-11-07T07:07:06.145Z"
   },
   {
    "duration": 13,
    "start_time": "2021-11-07T07:07:06.202Z"
   },
   {
    "duration": 190,
    "start_time": "2021-11-07T07:07:06.218Z"
   },
   {
    "duration": 106,
    "start_time": "2021-11-07T07:07:06.410Z"
   },
   {
    "duration": 728,
    "start_time": "2021-11-07T07:07:06.518Z"
   },
   {
    "duration": 181,
    "start_time": "2021-11-07T07:07:07.248Z"
   },
   {
    "duration": 169,
    "start_time": "2021-11-07T07:07:07.432Z"
   },
   {
    "duration": 261,
    "start_time": "2021-11-07T07:07:07.604Z"
   },
   {
    "duration": 204,
    "start_time": "2021-11-07T07:07:07.868Z"
   },
   {
    "duration": 51,
    "start_time": "2021-11-07T07:07:08.083Z"
   },
   {
    "duration": 875,
    "start_time": "2021-11-07T07:07:08.136Z"
   },
   {
    "duration": 134,
    "start_time": "2021-11-07T07:07:09.014Z"
   },
   {
    "duration": 4,
    "start_time": "2021-11-07T07:07:09.151Z"
   },
   {
    "duration": 1530,
    "start_time": "2021-11-07T07:07:09.158Z"
   },
   {
    "duration": 27092,
    "start_time": "2021-11-07T07:07:10.691Z"
   },
   {
    "duration": 3,
    "start_time": "2021-11-07T07:07:37.786Z"
   },
   {
    "duration": 90675,
    "start_time": "2021-11-07T07:07:37.791Z"
   },
   {
    "duration": -37,
    "start_time": "2021-11-07T07:09:08.507Z"
   },
   {
    "duration": -42,
    "start_time": "2021-11-07T07:09:08.514Z"
   },
   {
    "duration": -45,
    "start_time": "2021-11-07T07:09:08.519Z"
   },
   {
    "duration": -52,
    "start_time": "2021-11-07T07:09:08.528Z"
   },
   {
    "duration": 142900,
    "start_time": "2021-11-07T07:09:50.007Z"
   },
   {
    "duration": 11451,
    "start_time": "2021-11-07T07:13:01.375Z"
   },
   {
    "duration": 1387,
    "start_time": "2021-11-07T07:13:12.829Z"
   },
   {
    "duration": 1184,
    "start_time": "2021-11-07T07:13:14.219Z"
   },
   {
    "duration": 205,
    "start_time": "2021-11-07T07:13:15.405Z"
   },
   {
    "duration": 34,
    "start_time": "2021-11-07T07:13:15.613Z"
   },
   {
    "duration": 1569,
    "start_time": "2021-11-07T07:13:15.649Z"
   },
   {
    "duration": 800,
    "start_time": "2021-11-07T07:13:17.220Z"
   },
   {
    "duration": 11,
    "start_time": "2021-11-07T07:13:18.024Z"
   },
   {
    "duration": 42,
    "start_time": "2021-11-07T07:13:18.040Z"
   },
   {
    "duration": 110,
    "start_time": "2021-11-07T07:13:18.084Z"
   },
   {
    "duration": 46,
    "start_time": "2021-11-07T07:13:18.197Z"
   },
   {
    "duration": 765,
    "start_time": "2021-11-07T07:13:18.246Z"
   },
   {
    "duration": 28,
    "start_time": "2021-11-07T07:13:19.014Z"
   },
   {
    "duration": 63,
    "start_time": "2021-11-07T07:13:19.045Z"
   },
   {
    "duration": 11,
    "start_time": "2021-11-07T07:13:19.111Z"
   },
   {
    "duration": 110,
    "start_time": "2021-11-07T07:13:19.124Z"
   },
   {
    "duration": 30,
    "start_time": "2021-11-07T07:13:19.236Z"
   },
   {
    "duration": 29,
    "start_time": "2021-11-07T07:13:19.283Z"
   },
   {
    "duration": 196,
    "start_time": "2021-11-07T07:13:19.315Z"
   },
   {
    "duration": 180,
    "start_time": "2021-11-07T07:13:19.513Z"
   },
   {
    "duration": 11,
    "start_time": "2021-11-07T07:13:19.695Z"
   },
   {
    "duration": 210,
    "start_time": "2021-11-07T07:13:19.708Z"
   },
   {
    "duration": 175,
    "start_time": "2021-11-07T07:13:19.926Z"
   },
   {
    "duration": 198,
    "start_time": "2021-11-07T07:13:20.105Z"
   },
   {
    "duration": 186,
    "start_time": "2021-11-07T07:13:20.305Z"
   },
   {
    "duration": 761,
    "start_time": "2021-11-07T07:13:20.494Z"
   },
   {
    "duration": 25,
    "start_time": "2021-11-07T07:13:21.258Z"
   },
   {
    "duration": 36,
    "start_time": "2021-11-07T07:13:21.286Z"
   },
   {
    "duration": 66,
    "start_time": "2021-11-07T07:13:21.325Z"
   },
   {
    "duration": 96,
    "start_time": "2021-11-07T07:13:21.394Z"
   },
   {
    "duration": 747,
    "start_time": "2021-11-07T07:13:21.492Z"
   },
   {
    "duration": 61,
    "start_time": "2021-11-07T07:13:22.242Z"
   },
   {
    "duration": 13,
    "start_time": "2021-11-07T07:13:22.306Z"
   },
   {
    "duration": 194,
    "start_time": "2021-11-07T07:13:22.322Z"
   },
   {
    "duration": 111,
    "start_time": "2021-11-07T07:13:22.519Z"
   },
   {
    "duration": 718,
    "start_time": "2021-11-07T07:13:22.632Z"
   },
   {
    "duration": 191,
    "start_time": "2021-11-07T07:13:23.352Z"
   },
   {
    "duration": 167,
    "start_time": "2021-11-07T07:13:23.545Z"
   },
   {
    "duration": 251,
    "start_time": "2021-11-07T07:13:23.714Z"
   },
   {
    "duration": 175,
    "start_time": "2021-11-07T07:13:23.967Z"
   },
   {
    "duration": 70,
    "start_time": "2021-11-07T07:13:24.144Z"
   },
   {
    "duration": 702,
    "start_time": "2021-11-07T07:13:24.216Z"
   },
   {
    "duration": 116,
    "start_time": "2021-11-07T07:13:24.920Z"
   },
   {
    "duration": 3,
    "start_time": "2021-11-07T07:13:25.039Z"
   },
   {
    "duration": 1446,
    "start_time": "2021-11-07T07:13:25.045Z"
   },
   {
    "duration": 165,
    "start_time": "2021-11-07T07:13:26.584Z"
   },
   {
    "duration": 27646,
    "start_time": "2021-11-07T07:13:26.752Z"
   },
   {
    "duration": 3,
    "start_time": "2021-11-07T07:13:54.401Z"
   },
   {
    "duration": 145820,
    "start_time": "2021-11-07T07:13:54.406Z"
   },
   {
    "duration": 28985,
    "start_time": "2021-11-07T07:16:20.229Z"
   },
   {
    "duration": 4125,
    "start_time": "2021-11-07T07:16:49.217Z"
   },
   {
    "duration": 133,
    "start_time": "2021-11-07T07:16:53.344Z"
   },
   {
    "duration": 696,
    "start_time": "2021-11-07T07:16:53.479Z"
   },
   {
    "duration": 809,
    "start_time": "2021-11-07T07:17:25.586Z"
   },
   {
    "duration": 6,
    "start_time": "2021-11-07T07:18:50.023Z"
   },
   {
    "duration": 1283,
    "start_time": "2021-11-07T07:19:01.777Z"
   },
   {
    "duration": 1800,
    "start_time": "2021-11-07T07:21:35.586Z"
   },
   {
    "duration": 26,
    "start_time": "2021-11-07T07:27:53.480Z"
   },
   {
    "duration": 12135,
    "start_time": "2021-11-07T07:34:07.236Z"
   },
   {
    "duration": 1644,
    "start_time": "2021-11-07T07:34:19.374Z"
   },
   {
    "duration": 1197,
    "start_time": "2021-11-07T07:34:21.021Z"
   },
   {
    "duration": 184,
    "start_time": "2021-11-07T07:34:22.220Z"
   },
   {
    "duration": 32,
    "start_time": "2021-11-07T07:34:22.406Z"
   },
   {
    "duration": 1380,
    "start_time": "2021-11-07T07:34:22.440Z"
   },
   {
    "duration": 799,
    "start_time": "2021-11-07T07:34:23.823Z"
   },
   {
    "duration": 7,
    "start_time": "2021-11-07T07:34:24.626Z"
   },
   {
    "duration": 12,
    "start_time": "2021-11-07T07:34:24.636Z"
   },
   {
    "duration": 115,
    "start_time": "2021-11-07T07:34:24.650Z"
   },
   {
    "duration": 56,
    "start_time": "2021-11-07T07:34:24.767Z"
   },
   {
    "duration": 793,
    "start_time": "2021-11-07T07:34:24.825Z"
   },
   {
    "duration": 28,
    "start_time": "2021-11-07T07:34:25.620Z"
   },
   {
    "duration": 36,
    "start_time": "2021-11-07T07:34:25.650Z"
   },
   {
    "duration": 7,
    "start_time": "2021-11-07T07:34:25.689Z"
   },
   {
    "duration": 83,
    "start_time": "2021-11-07T07:34:25.699Z"
   },
   {
    "duration": 29,
    "start_time": "2021-11-07T07:34:25.785Z"
   },
   {
    "duration": 33,
    "start_time": "2021-11-07T07:34:25.816Z"
   },
   {
    "duration": 189,
    "start_time": "2021-11-07T07:34:25.851Z"
   },
   {
    "duration": 183,
    "start_time": "2021-11-07T07:34:26.042Z"
   },
   {
    "duration": 9,
    "start_time": "2021-11-07T07:34:26.228Z"
   },
   {
    "duration": 274,
    "start_time": "2021-11-07T07:34:26.239Z"
   },
   {
    "duration": 276,
    "start_time": "2021-11-07T07:34:26.518Z"
   },
   {
    "duration": 306,
    "start_time": "2021-11-07T07:34:26.797Z"
   },
   {
    "duration": 191,
    "start_time": "2021-11-07T07:34:27.106Z"
   },
   {
    "duration": 740,
    "start_time": "2021-11-07T07:34:27.299Z"
   },
   {
    "duration": 12,
    "start_time": "2021-11-07T07:34:28.041Z"
   },
   {
    "duration": 56,
    "start_time": "2021-11-07T07:34:28.055Z"
   },
   {
    "duration": 31,
    "start_time": "2021-11-07T07:34:28.114Z"
   },
   {
    "duration": 112,
    "start_time": "2021-11-07T07:34:28.147Z"
   },
   {
    "duration": 737,
    "start_time": "2021-11-07T07:34:28.261Z"
   },
   {
    "duration": 44,
    "start_time": "2021-11-07T07:34:29.001Z"
   },
   {
    "duration": 41,
    "start_time": "2021-11-07T07:34:29.048Z"
   },
   {
    "duration": 165,
    "start_time": "2021-11-07T07:34:29.091Z"
   },
   {
    "duration": 106,
    "start_time": "2021-11-07T07:34:29.258Z"
   },
   {
    "duration": 737,
    "start_time": "2021-11-07T07:34:29.366Z"
   },
   {
    "duration": 192,
    "start_time": "2021-11-07T07:34:30.105Z"
   },
   {
    "duration": 169,
    "start_time": "2021-11-07T07:34:30.299Z"
   },
   {
    "duration": 270,
    "start_time": "2021-11-07T07:34:30.481Z"
   },
   {
    "duration": 167,
    "start_time": "2021-11-07T07:34:30.753Z"
   },
   {
    "duration": 76,
    "start_time": "2021-11-07T07:34:30.924Z"
   },
   {
    "duration": 747,
    "start_time": "2021-11-07T07:34:31.003Z"
   },
   {
    "duration": 130,
    "start_time": "2021-11-07T07:34:31.753Z"
   },
   {
    "duration": 4,
    "start_time": "2021-11-07T07:34:31.885Z"
   },
   {
    "duration": 1794,
    "start_time": "2021-11-07T07:34:31.891Z"
   },
   {
    "duration": 29316,
    "start_time": "2021-11-07T07:34:33.689Z"
   },
   {
    "duration": 4,
    "start_time": "2021-11-07T07:35:03.007Z"
   },
   {
    "duration": 145242,
    "start_time": "2021-11-07T07:35:03.014Z"
   },
   {
    "duration": 29290,
    "start_time": "2021-11-07T07:37:28.259Z"
   },
   {
    "duration": 3801,
    "start_time": "2021-11-07T07:37:57.552Z"
   },
   {
    "duration": 197,
    "start_time": "2021-11-07T07:38:01.355Z"
   },
   {
    "duration": 477,
    "start_time": "2021-11-07T07:38:01.554Z"
   },
   {
    "duration": 1136,
    "start_time": "2021-11-07T07:41:12.453Z"
   },
   {
    "duration": 288,
    "start_time": "2021-11-07T07:42:48.506Z"
   },
   {
    "duration": 328,
    "start_time": "2021-11-07T07:43:48.256Z"
   },
   {
    "duration": 1355,
    "start_time": "2021-11-07T07:44:13.382Z"
   }
  ],
  "kernelspec": {
   "display_name": "Python 3",
   "language": "python",
   "name": "python3"
  },
  "language_info": {
   "codemirror_mode": {
    "name": "ipython",
    "version": 3
   },
   "file_extension": ".py",
   "mimetype": "text/x-python",
   "name": "python",
   "nbconvert_exporter": "python",
   "pygments_lexer": "ipython3",
   "version": "3.7.8"
  },
  "toc": {
   "base_numbering": 1,
   "nav_menu": {},
   "number_sections": true,
   "sideBar": true,
   "skip_h1_title": true,
   "title_cell": "Table of Contents",
   "title_sidebar": "Contents",
   "toc_cell": false,
   "toc_position": {},
   "toc_section_display": true,
   "toc_window_display": false
  }
 },
 "nbformat": 4,
 "nbformat_minor": 2
}